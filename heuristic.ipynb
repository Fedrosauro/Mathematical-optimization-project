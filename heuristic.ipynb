{
 "cells": [
  {
   "cell_type": "code",
   "execution_count": null,
   "metadata": {},
   "outputs": [],
   "source": [
    "import random"
   ]
  },
  {
   "cell_type": "code",
   "execution_count": null,
   "metadata": {},
   "outputs": [],
   "source": [
    "def SISSRs(instance, delta, epsilon, iter_max):\n",
    "    s_0 = solution_construction()\n",
    "    s_curr = s_0\n",
    "    s_best = s_0\n",
    "    iterations_without_improvement = 0\n",
    "    while (terminal_condition_met() == False):\n",
    "        s = ruin_and_recreate(s_curr)\n",
    "        if cost(s)<cost(s_curr)*(1+delta):\n",
    "            s_curr = local_search(s)\n",
    "            if cost(s_curr) < cost(s_best):\n",
    "                s_best = s_curr\n",
    "                iterations_without_improvement = 0\n",
    "            else:\n",
    "                iterations_without_improvement += 1\n",
    "        if iterations_without_improvement >= iter_max:\n",
    "            s_curr = perturbate(s_curr)\n",
    "            iterations_without_improvement = 0\n",
    "        delta = delta * epsilon\n",
    "\n",
    "    return s_best \n",
    "\n",
    "           "
   ]
  },
  {
   "cell_type": "code",
   "execution_count": null,
   "metadata": {},
   "outputs": [],
   "source": [
    "def sweep_removal_operator(solution, sigma):\n",
    "    c_drones = get_drone_customers(solution[0])\n",
    "    nbSweept = random.randint(0,int(len(c_drones) * sigma))\n",
    "\n",
    "    grad_seed = random.randint(0, 360)\n",
    "    c_drones = sort_by_angular(c_drones, grad_seed)\n",
    "    for c in c_drones:\n",
    "        if (len(solution[1]) < nbSweept):\n",
    "\n",
    "            #inlcude tour_index calculation inside \"remove_drone_customer, params: solution[0][1], c\"\n",
    "            tour_index = next((index for index, drone_tour in enumerate(solution[0][1]) if c in drone_tour), -1)\n",
    "            solution[0][1][tour_index], solution[1] = remove_drone_customer(solution[0][1][tour_index], c)\n",
    "            \n",
    "\n",
    "    return solution"
   ]
  },
  {
   "cell_type": "code",
   "execution_count": null,
   "metadata": {},
   "outputs": [],
   "source": [
    "def random_drone_customer_removal(solution, sigma):\n",
    "    c_drones = get_drone_customers(solution[0])\n",
    "    q = random.randint(0,int(len(c_drones) * sigma))\n",
    "    \n",
    "    \n",
    "    while (len(solution[1]) < q):\n",
    "        customer_to_remove = random.choice(c_drones)\n",
    "\n",
    "        c_drones.remove(customer_to_remove)\n",
    "        tour_index = next((index for index, drone_tour in enumerate(solution[0][1]) if customer_to_remove in drone_tour), -1)\n",
    "        solution[0][1][tour_index], solution[1] = remove_drone_customer(solution[0][1][tour_index], customer_to_remove)\n",
    "\n",
    "    return solution"
   ]
  },
  {
   "cell_type": "code",
   "execution_count": null,
   "metadata": {},
   "outputs": [],
   "source": [
    "def string_removal(n, coord, solution, c_average_removed, L_max): # n is the number of customers\n",
    "    l_s_max = max_string_length(solution[0], L_max)\n",
    "    k_s = n_strings_to_remove(c_average_removed, l_s_max)\n",
    "    \n",
    "    c_seed = random.randint(1, n)\n",
    "\n",
    "    R = []\n",
    "\n",
    "    c_adj = sort_by_euclidean_distance(c_seed, coord)\n",
    "\n",
    "    for c in c_adj:\n",
    "        if len(R) < k_s:\n",
    "            if any(c in truck_tour for truck_tour in solution[0][0]):\n",
    "                if c not in solution[1]:\n",
    "                    tour_index = next((index for index, truck_tour in enumerate(solution[0][0]) if c in truck_tour), -1)\n",
    "                    if tour_index not in R:\n",
    "                        l = removed_string_length(l_s_max, solution[0][0][tour_index])\n",
    "                        \n",
    "                        solution[0][0][tour_index], solution[1] = remove_string(solution[0][0][tour_index], l, c)\n",
    "                        R.append(tour_index)\n",
    "            elif any(c in drone_tour for drone_tour in solution[0][1]):\n",
    "                if c not in solution[1]:\n",
    "                    tour_index = next((index for index, drone_tour in enumerate(solution[0][1]) if c in drone_tour), -1)\n",
    "                    solution[0][1][tour_index], solution[1] = remove_drone_customer(solution[0][1][tour_index], c)\n",
    "\n",
    "\n",
    "    return solution"
   ]
  },
  {
   "cell_type": "code",
   "execution_count": null,
   "metadata": {},
   "outputs": [],
   "source": [
    "def recreate(solution, w1, w2, w3, w4, w5, gamma, coord, parcel_weights, Q_t, T_t, speed_t, C_t, Q_d, T_d, C_d, speed_d):\n",
    "    solution[1] = sort_absent_customers(solution, w1, w2, w3, w4, w5)\n",
    "    for c in solution[1]:\n",
    "        pos_best = None\n",
    "        feasible_truck_tour_positions = feasible_truck_tour_positions_calculation(solution[0][0], Q_t, parcel_weights, coord, T_t, speed_t)\n",
    "        for pos in feasible_truck_tour_positions: \n",
    "            if pos_best == None or (pos_best != None and cost(insert_customer(c, pos, solution), coord, C_t, C_d) < cost(insert_customer(c, pos_best, solution), coord, C_t, C_d) and random.random() > (1 - gamma)):\n",
    "                pos_best = pos\n",
    "        \n",
    "        if drone_eligible(c, solution[0][1], Q_d, parcel_weights, coord, T_d, speed_d):\n",
    "            chosen_drone = largest_spatial_slack_drone(solution[0][1])\n",
    "            if pos_best == None or (pos_best != None and cost(insert_customer(c, [1, chosen_drone, 0], solution), coord, C_t, C_d) < cost(insert_customer(c, pos_best, solution), coord, C_t, C_d) and random.random() > (1 - gamma)):\n",
    "                pos_best = [1, chosen_drone, 0]\n",
    "\n",
    "        if pos_best == None:\n",
    "            solution[0][0].append([])\n",
    "            pos_best[0, len(solution[0][0]) - 1, 0]\n",
    "        \n",
    "        solution = insert_customer(c, pos_best, solution)\n",
    "        solution[1].remove(c)\n",
    "\n",
    "    return solution"
   ]
  }
 ],
 "metadata": {
  "kernelspec": {
   "display_name": "Python 3",
   "language": "python",
   "name": "python3"
  },
  "language_info": {
   "codemirror_mode": {
    "name": "ipython",
    "version": 3
   },
   "file_extension": ".py",
   "mimetype": "text/x-python",
   "name": "python",
   "nbconvert_exporter": "python",
   "pygments_lexer": "ipython3",
   "version": "3.11.9"
  }
 },
 "nbformat": 4,
 "nbformat_minor": 2
}

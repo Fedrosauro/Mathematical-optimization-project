{
 "cells": [
  {
   "cell_type": "code",
   "execution_count": 711,
   "metadata": {},
   "outputs": [],
   "source": [
    "import random\n",
    "import numpy as np\n",
    "import PDSVRP_instance\n",
    "import copy"
   ]
  },
  {
   "cell_type": "markdown",
   "metadata": {},
   "source": [
    "metodini \"utilities\""
   ]
  },
  {
   "cell_type": "code",
   "execution_count": 712,
   "metadata": {},
   "outputs": [],
   "source": [
    "def get_drone_customers(drone_tours):\n",
    "    drone_customers = []\n",
    "    for tour in drone_tours:\n",
    "        for customer in tour:\n",
    "            drone_customers.append(customer)\n",
    "\n",
    "    return drone_customers"
   ]
  },
  {
   "cell_type": "code",
   "execution_count": 713,
   "metadata": {},
   "outputs": [],
   "source": [
    "def get_truck_customers(truck_tours):\n",
    "    truck_customers = []\n",
    "    for tour in truck_tours:\n",
    "        for customer in tour:\n",
    "            truck_customers.append(customer)\n",
    "\n",
    "    return truck_customers"
   ]
  },
  {
   "cell_type": "code",
   "execution_count": 714,
   "metadata": {},
   "outputs": [],
   "source": [
    "def sort_by_angular(coordinates, c_drones, grad_seed):\n",
    "\n",
    "    rad_seed = np.deg2rad(grad_seed)\n",
    "    ref_point = coordinates[0]\n",
    "\n",
    "    def polar_angle(coord):\n",
    "        # Compute the angle in radians with respect to the reference point\n",
    "        dx = coord[0] - ref_point[0]\n",
    "        dy = coord[1] - ref_point[1]\n",
    "        angle = np.arctan2(dy, dx)\n",
    "        return angle\n",
    "\n",
    "    def angular_distance(angle1, angle2):\n",
    "        # Compute the absolute angular distance between two angles\n",
    "        return min(abs(angle1 - angle2), 2 * np.pi - abs(angle1 - angle2))\n",
    "\n",
    "    # Calculate the polar angles for all nodes in c_drones\n",
    "    angles = [polar_angle(coordinates[i]) for i in c_drones]\n",
    "\n",
    "    # Calculate the angular distance from grad_seed\n",
    "    distances = [angular_distance(angle, rad_seed) for angle in angles]\n",
    "\n",
    "    # Pair the indices with their angular distances\n",
    "    indexed_distances = list(zip(c_drones, distances))\n",
    "\n",
    "    # Sort based on angular distance\n",
    "    indexed_distances.sort(key=lambda x: x[1])\n",
    "\n",
    "    # Extract the sorted indices\n",
    "    sorted_c_drones = [index for index, _ in indexed_distances]\n",
    "\n",
    "    return sorted_c_drones\n",
    "\n",
    "#test ok"
   ]
  },
  {
   "cell_type": "code",
   "execution_count": 715,
   "metadata": {},
   "outputs": [],
   "source": [
    "def sort_by_euclidean_distance(distance_matrix, c_seed):\n",
    "    distances = [distance_matrix[c_seed][i] for i in range(1, len(distance_matrix[c_seed]))]\n",
    "\n",
    "    sorted_c = np.argsort(distances)\n",
    "    sorted_c = [x + 1 for x in sorted_c]\n",
    "\n",
    "    return sorted_c\n",
    "\n",
    "# test ok"
   ]
  },
  {
   "cell_type": "code",
   "execution_count": 716,
   "metadata": {},
   "outputs": [],
   "source": [
    "def remove_drone_customer(drone_tour, absent_customers, customer_to_remove):\n",
    "    new_tour = drone_tour\n",
    "    new_tour.remove(customer_to_remove)\n",
    "    new_absent_vector = absent_customers + [customer_to_remove]\n",
    "\n",
    "    return new_tour, new_absent_vector\n",
    "\n",
    "#test ok"
   ]
  },
  {
   "cell_type": "code",
   "execution_count": 717,
   "metadata": {},
   "outputs": [],
   "source": [
    "def max_string_length(truck_tours, L_max):\n",
    "    average_tour_cardinality = len(get_truck_customers(truck_tours)) / (len(truck_tours))\n",
    "    return min(average_tour_cardinality, L_max)"
   ]
  },
  {
   "cell_type": "code",
   "execution_count": 718,
   "metadata": {},
   "outputs": [],
   "source": [
    "def n_strings_to_remove(c_average_removed, l_s_max):\n",
    "    k_s_max = (4 * c_average_removed) / (1 + l_s_max) - 1\n",
    "    k_s = int(random.uniform(1, k_s_max + 1))  \n",
    "    \n",
    "    return k_s\n",
    "\n",
    "# test ok"
   ]
  },
  {
   "cell_type": "code",
   "execution_count": 719,
   "metadata": {},
   "outputs": [],
   "source": [
    "def string_to_remove_length(l_s_max, truck_tour):\n",
    "    l_t_max = min(len(truck_tour), l_s_max)\n",
    "    l_t = int(random.uniform(1, l_t_max + 1))\n",
    "    return l_t\n",
    "\n",
    "# test ok"
   ]
  },
  {
   "cell_type": "code",
   "execution_count": 720,
   "metadata": {},
   "outputs": [],
   "source": [
    "def sort_absent_customers(instance, solution, w1, w2, w3, w4, w5):\n",
    "    \n",
    "    absent_customers = solution[1]\n",
    "\n",
    "    def random_sort(instance, solution, absent_customers):\n",
    "        random.shuffle(absent_customers)\n",
    "        return absent_customers\n",
    "        \n",
    "    def near_dp(instance, solution, absent_customers):\n",
    "        absent_customers = sorted(absent_customers, key = lambda customer : instance.distances[0][customer])\n",
    "        return absent_customers\n",
    "        \n",
    "    def far_dp(instance, solution, absent_customers):\n",
    "        absent_customers = sorted(absent_customers, key = lambda customer : (1/instance.distances[0][customer]))\n",
    "        return absent_customers\n",
    "        \n",
    "    def near_tr(instance, solution, absent_customers):\n",
    "        truck_customers = get_truck_customers(solution[0][0])\n",
    "        if (len(truck_customers) == 0):\n",
    "            return random_sort(instance, solution, absent_customers)\n",
    "        absent_customers = sorted(absent_customers, key = lambda customer : min(instance.distances[t_customer][customer] for t_customer in truck_customers))\n",
    "        return absent_customers\n",
    "        \n",
    "        \n",
    "    def far_tr(instance, solution, absent_customers):\n",
    "        truck_customers = get_truck_customers(solution[0][0])\n",
    "        if (len(truck_customers) == 0):\n",
    "            return random_sort(instance, solution, absent_customers)\n",
    "        absent_customers = sorted(absent_customers, key = lambda customer : 1/(1+(min(instance.distances[t_customer][customer] for t_customer in truck_customers))))\n",
    "        return absent_customers\n",
    "\n",
    "    # Lista dei blocchi e dei relativi pesi\n",
    "    sorting_methods = [random_sort, near_dp, far_dp, near_tr, far_tr]\n",
    "    weights = [w1, w2, w3, w4, w5]\n",
    "\n",
    "    selected_method = random.choices(sorting_methods, weights, k=1)[0]\n",
    "\n",
    "    return selected_method(instance, solution, absent_customers)"
   ]
  },
  {
   "cell_type": "code",
   "execution_count": 721,
   "metadata": {},
   "outputs": [],
   "source": [
    "def truck_tour_time(truck_travel_times, tour):\n",
    "    \n",
    "    if (len(tour) == 0):\n",
    "        return 0\n",
    "    total_time = truck_travel_times[0][tour[0]]\n",
    "    \n",
    "    for i in range(len(tour) - 1):\n",
    "        \n",
    "\n",
    "        total_time += truck_travel_times[tour[i]][tour[i + 1]]\n",
    "\n",
    "           \n",
    "    total_time += truck_travel_times[tour[-1]][0]\n",
    "    \n",
    "    return total_time\n"
   ]
  },
  {
   "cell_type": "code",
   "execution_count": 722,
   "metadata": {},
   "outputs": [],
   "source": [
    "def drone_tour_time(drone_travel_times, tour):\n",
    "   \n",
    "    if (len(tour) == 0):\n",
    "        return 0\n",
    "    \n",
    "    total_time = 0\n",
    "    \n",
    "    for i in range(len(tour)):\n",
    "        total_time += (drone_travel_times[tour[i]]) * 2\n",
    "\n",
    "   \n",
    "    \n",
    "    return total_time"
   ]
  },
  {
   "cell_type": "code",
   "execution_count": 723,
   "metadata": {},
   "outputs": [],
   "source": [
    "def remove_string(truck_tour, string_length, customer, absent_customers):\n",
    "    customer_index = next((index for index, c in enumerate(truck_tour) if c == customer), -1)\n",
    "    if (len(truck_tour) < customer_index + string_length):\n",
    "        truck_tour = truck_tour[:len(truck_tour)-string_length]\n",
    "        absent_customers += [truck_tour[len(truck_tour)-string_length:]]\n",
    "\n",
    "    else:\n",
    "        truck_tour = truck_tour[:customer_index] + truck_tour[customer_index + string_length:]\n",
    "        absent_customers += truck_tour[customer_index: (customer_index + string_length)]\n",
    "\n",
    "    return truck_tour, absent_customers"
   ]
  },
  {
   "cell_type": "code",
   "execution_count": 724,
   "metadata": {},
   "outputs": [],
   "source": [
    "def is_truck_tour_feasible(instance, tour):\n",
    "    return (truck_tour_time(instance.t_t, tour) <= instance.T_t) and sum(instance.w[customer] for customer in tour) <= instance.Q_t"
   ]
  },
  {
   "cell_type": "code",
   "execution_count": 725,
   "metadata": {},
   "outputs": [],
   "source": [
    "def feasible_truck_tour_positions_calculation(instance, truck_tours, customer): #in non-empty truck tours\n",
    "    feasible_positions = []\n",
    "    for i in range(len(truck_tours)):\n",
    "        if len(truck_tours[i]) > 0:\n",
    "            for j in range (len(truck_tours[i]) + 1): # lo posso aggiungere anche come ultimo\n",
    "                new_tour = copy.deepcopy(truck_tours[i])\n",
    "                new_tour.insert(j, customer)\n",
    "                if (is_truck_tour_feasible(instance, new_tour)):\n",
    "                     feasible_positions.append([0, i, j])\n",
    "\n",
    "    return feasible_positions\n"
   ]
  },
  {
   "cell_type": "code",
   "execution_count": 726,
   "metadata": {},
   "outputs": [],
   "source": [
    "def is_drone_tour_feasible(instance, tour):\n",
    "    for customer in tour:\n",
    "       if instance.w[customer] > instance.Q_d:\n",
    "        return False \n",
    "    return (drone_tour_time(instance.t_d, tour) <= instance.T_d)"
   ]
  },
  {
   "cell_type": "code",
   "execution_count": 727,
   "metadata": {},
   "outputs": [],
   "source": [
    "def is_drone_eligible(instance, drone_tours, customer):\n",
    "    if instance.w[customer] > instance.Q_d:\n",
    "        return False\n",
    "    for tour in drone_tours:\n",
    "        new_tour = copy.deepcopy(tour)\n",
    "        new_tour.append(customer)\n",
    "        if (drone_tour_time(instance.t_d, new_tour) <= instance.T_d):\n",
    "            return True\n",
    "    \n",
    "    return False"
   ]
  },
  {
   "cell_type": "code",
   "execution_count": 728,
   "metadata": {},
   "outputs": [],
   "source": [
    "def insert_customer(customer, pos, solution_):\n",
    "    \n",
    "    solution_[0][pos[0]][pos[1]].insert(pos[2], customer)\n",
    "    \n",
    "    return solution_"
   ]
  },
  {
   "cell_type": "code",
   "execution_count": 729,
   "metadata": {},
   "outputs": [
    {
     "data": {
      "text/plain": [
       "2"
      ]
     },
     "execution_count": 729,
     "metadata": {},
     "output_type": "execute_result"
    }
   ],
   "source": [
    "array = [0,1,2]\n",
    "array.insert(1, 10)\n",
    "array[3]"
   ]
  },
  {
   "cell_type": "code",
   "execution_count": 730,
   "metadata": {},
   "outputs": [],
   "source": [
    "def largest_spatial_slack_drone(instance, drone_tours):\n",
    "    chosen_drone = min(range(len(drone_tours)), key=lambda i: drone_tour_time(instance.t_d, drone_tours[i]))\n",
    "    return chosen_drone"
   ]
  },
  {
   "cell_type": "code",
   "execution_count": 731,
   "metadata": {},
   "outputs": [],
   "source": [
    "def cost(instance, solution):\n",
    "    total_cost = 0\n",
    "    for truck_tour in solution[0][0]:\n",
    "        total_cost += truck_tour_time(instance.t_t, truck_tour) * instance.t_speed * instance.C_T\n",
    "\n",
    "    for drone_tour in solution[0][1]:\n",
    "        total_cost += drone_tour_time(instance.t_d, drone_tour) * instance.d_speed * instance.C_D\n",
    "\n",
    "\n",
    "    return total_cost"
   ]
  },
  {
   "cell_type": "code",
   "execution_count": 732,
   "metadata": {},
   "outputs": [],
   "source": [
    "def select_nearest_neighbors(n_nearest, distances_from_customer):\n",
    "    indexed_array = [(value, idx) for idx, value in enumerate(distances_from_customer) if idx != 0]\n",
    "    \n",
    "    indexed_array.sort(key=lambda x: x[0])\n",
    "    \n",
    "    nearest_neighbors = [idx for value, idx in indexed_array[1:n_nearest + 1]] #the depot and the customer itself are escluded\n",
    "    \n",
    "    return nearest_neighbors\n",
    "\n",
    "#test ok"
   ]
  },
  {
   "cell_type": "code",
   "execution_count": 733,
   "metadata": {},
   "outputs": [],
   "source": [
    "def find_customer_in_vehicle_tours(tours, customer):\n",
    "    for i, row in enumerate(tours):\n",
    "        for j, element in enumerate(row):\n",
    "            if element == customer:\n",
    "                return [i, j]\n",
    "    return None"
   ]
  },
  {
   "cell_type": "code",
   "execution_count": 734,
   "metadata": {},
   "outputs": [],
   "source": [
    "def _2_opt_x(instance, solution, customer, neighbor, customer_tour_index):\n",
    "    neighbor_index = find_customer_in_vehicle_tours(solution[0][0], neighbor)\n",
    "    customer_index = [customer_tour_index, next((index for index, c in enumerate(solution[0][0][customer_tour_index]) if c == customer), -1)]\n",
    "    new_tour_1 = solution[0][0][neighbor_index[0]][:neighbor_index[1]] + solution[0][0][customer_index[0]][customer_index[1]:]\n",
    "    new_tour_2 = solution[0][0][customer_index[0]][:customer_index[1]] + solution[0][0][neighbor_index[0]][neighbor_index[1]:]\n",
    "    if (is_truck_tour_feasible(instance, new_tour_1) and is_truck_tour_feasible(instance,new_tour_2)):\n",
    "        solution[0][0][neighbor_index[0]] = new_tour_1\n",
    "        solution[0][0][customer_index[0]] = new_tour_2\n",
    "\n",
    "    return solution"
   ]
  },
  {
   "cell_type": "code",
   "execution_count": 735,
   "metadata": {},
   "outputs": [],
   "source": [
    "def relocate(instance, solution, customer, neighbor, tour_index):\n",
    "    #customer_index = next((index for index, c in enumerate(solution[0][0][tour_index]) if c == customer), -1)\n",
    "    neighbor_index = next((index for index, c in enumerate(solution[0][0][tour_index]) if c == neighbor), -1)\n",
    "\n",
    "    proposed_tour = copy.deepcopy(solution[0][0][tour_index])\n",
    "    \n",
    "    proposed_tour.remove(customer)\n",
    "    proposed_tour.insert(neighbor_index, customer)\n",
    "\n",
    "    other_tour = copy.deepcopy(solution[0][0][tour_index])\n",
    "    other_tour.remove(customer)\n",
    "    other_tour.insert(neighbor_index + 1, customer)\n",
    "\n",
    "    if (truck_tour_time(instance.t_t, proposed_tour) > truck_tour_time(instance.t_t, other_tour)):\n",
    "        proposed_tour = other_tour\n",
    "\n",
    "    if (is_truck_tour_feasible(instance, proposed_tour)):\n",
    "        solution[0][0][tour_index] = proposed_tour\n",
    "        \n",
    "    return solution\n",
    "\n",
    "\n"
   ]
  },
  {
   "cell_type": "code",
   "execution_count": 736,
   "metadata": {},
   "outputs": [],
   "source": [
    "def swap(instance, solution, customer, neighbor, tour_index):\n",
    "    customer_index = next((index for index, c in enumerate(solution[0][0][tour_index]) if c == customer), -1)\n",
    "    neighbor_index = next((index for index, c in enumerate(solution[0][0][tour_index]) if c == neighbor), -1)\n",
    "\n",
    "    proposed_tour = copy.deepcopy(solution[0][0][tour_index])\n",
    "    proposed_tour[customer_index] = neighbor\n",
    "    proposed_tour[neighbor_index] = customer\n",
    "\n",
    "    if (is_truck_tour_feasible(instance, proposed_tour)):\n",
    "        solution[0][0][tour_index] = proposed_tour\n",
    "\n",
    "    return solution"
   ]
  },
  {
   "cell_type": "code",
   "execution_count": 737,
   "metadata": {},
   "outputs": [],
   "source": [
    "def _2_opt(instance, solution, customer, neighbor, tour_index):\n",
    "    customer_index = next((index for index, c in enumerate(solution[0][0][tour_index]) if c == customer), -1)\n",
    "    neighbor_index = next((index for index, c in enumerate(solution[0][0][tour_index]) if c == neighbor), -1)\n",
    "\n",
    "    i = min(customer_index, neighbor_index)\n",
    "    j = max(customer_index, neighbor_index)\n",
    "\n",
    "    proposed_tour = copy.deepcopy(solution[0][0][tour_index])\n",
    "\n",
    "    if (i == 0):\n",
    "        proposed_tour[:j+1] = proposed_tour[j::-1]\n",
    "        return solution\n",
    "\n",
    "    \n",
    "\n",
    "    proposed_tour[i:j+1] = proposed_tour[j:i-1:-1]\n",
    "\n",
    "    if (is_truck_tour_feasible(instance, proposed_tour)):\n",
    "        solution[0][0][tour_index] = proposed_tour\n",
    "\n",
    "    return solution\n",
    "\n",
    "#test ok"
   ]
  },
  {
   "cell_type": "code",
   "execution_count": 738,
   "metadata": {},
   "outputs": [],
   "source": [
    "def swap_x(instance, solution, customer, neighbor, customer_tour_index):\n",
    "    customer_index = [customer_tour_index, next((index for index, c in enumerate(solution[0][0][customer_tour_index]) if c == customer), -1)]\n",
    "    neighbor_index = find_customer_in_vehicle_tours(solution[0][1], neighbor)\n",
    "\n",
    "    print(\"neighbor index\", neighbor_index)\n",
    "\n",
    "\n",
    "    modified_truck_tour = copy.deepcopy(solution[0][0][customer_tour_index])\n",
    "    modified_truck_tour[customer_index[1]] = neighbor\n",
    "\n",
    "    print(\"solution in swap x\", solution)\n",
    "\n",
    "    modified_drone_tour = copy.deepcopy(solution[0][1][neighbor_index[0]])\n",
    "    modified_drone_tour[neighbor_index[1]] = customer\n",
    "\n",
    "    if(is_truck_tour_feasible(instance, modified_truck_tour) and is_drone_tour_feasible(instance, modified_drone_tour)):\n",
    "        solution[0][0][customer_index[0]] = modified_truck_tour\n",
    "        solution[0][1][neighbor_index[0]] = modified_drone_tour\n",
    "\n",
    "    return solution"
   ]
  },
  {
   "cell_type": "code",
   "execution_count": 739,
   "metadata": {},
   "outputs": [],
   "source": [
    "def shift_t(instance, solution, customer, customer_tour_index):\n",
    "    #print(\"solution\", solution)\n",
    "    #print(\"tour index\", customer_tour_index)\n",
    "    #print(\"customer\", customer)\n",
    "    if (is_drone_eligible(instance, solution[0][1], customer)):\n",
    "        solution[0][0][customer_tour_index].remove(customer)\n",
    "        chosen_drone = largest_spatial_slack_drone(instance, solution[0][1])\n",
    "        solution[0][1][chosen_drone].append(customer)\n",
    "\n",
    "    return solution\n"
   ]
  },
  {
   "cell_type": "code",
   "execution_count": 740,
   "metadata": {},
   "outputs": [],
   "source": [
    "def shift_d(instance, solution, customer, customer_tour_index):\n",
    "     \n",
    "    new_solution = copy.deepcopy(solution)\n",
    "    new_solution[0][1][customer_tour_index].remove(customer)\n",
    "\n",
    "    pos_best = None\n",
    "    feasible_truck_tour_positions = feasible_truck_tour_positions_calculation(instance, solution[0][0], customer)\n",
    "    for pos in feasible_truck_tour_positions: \n",
    "        if pos_best == None or (pos_best != None and cost(instance, insert_customer(customer, pos, copy.deepcopy(solution))) < cost(instance, insert_customer(customer, pos_best, copy.deepcopy(solution)))):\n",
    "            pos_best = pos\n",
    "\n",
    "        if pos_best == None:\n",
    "            return solution\n",
    "        \n",
    "        solution = insert_customer(customer, pos_best, new_solution)\n",
    "        return solution"
   ]
  },
  {
   "cell_type": "code",
   "execution_count": 741,
   "metadata": {},
   "outputs": [],
   "source": [
    "def get_position(customer, tours):\n",
    "    for vehicle_index in range(len(tours)): \n",
    "        for tour_index in range(len(tours[vehicle_index])):\n",
    "            for customer_index in range(len(tours[vehicle_index][tour_index])):\n",
    "                if tours[vehicle_index][tour_index][customer_index] == customer:\n",
    "                    return [vehicle_index, tour_index, vehicle_index]\n",
    "                \n",
    "    return None"
   ]
  },
  {
   "cell_type": "code",
   "execution_count": 742,
   "metadata": {},
   "outputs": [],
   "source": [
    "def is_swap_possible(instance, tours, customer, position):\n",
    "    new_tour = copy.deepcopy(tours[position[0]][position[1]])\n",
    "    new_tour[position[2]] = customer\n",
    "    if (position[0] == 0):\n",
    "        return is_truck_tour_feasible(instance, new_tour)\n",
    "    if(position[0] == 1):\n",
    "        return is_drone_tour_feasible(instance, new_tour)\n",
    "    \n",
    "    return False"
   ]
  },
  {
   "cell_type": "markdown",
   "metadata": {},
   "source": [
    "metodi generali"
   ]
  },
  {
   "cell_type": "code",
   "execution_count": 743,
   "metadata": {},
   "outputs": [],
   "source": [
    "def sweep_removal_operator(instance, solution, sigma):\n",
    "    c_drones = get_drone_customers(solution[0][1])\n",
    "    nbSweept = random.randint(0,int(len(c_drones) * sigma))\n",
    "\n",
    "    grad_seed = random.randint(0, 360)\n",
    "    c_drones = sort_by_angular(instance.coordinates, c_drones, grad_seed)\n",
    "    for c in c_drones:\n",
    "        if (len(solution[1]) < nbSweept):\n",
    "\n",
    "            #inlcude tour_index calculation inside \"remove_drone_customer, params: solution[0][1], c\"\n",
    "            tour_index = next((index for index, drone_tour in enumerate(solution[0][1]) if c in drone_tour), -1)\n",
    "            solution[0][1][tour_index], solution[1] = remove_drone_customer(solution[0][1][tour_index], solution[1], c)\n",
    "                               \n",
    "\n",
    "    return solution"
   ]
  },
  {
   "cell_type": "code",
   "execution_count": 744,
   "metadata": {},
   "outputs": [],
   "source": [
    "def random_drone_customer_removal(solution, sigma):\n",
    "    c_drones = get_drone_customers(solution[0][1])\n",
    "    q = random.randint(0,int(len(c_drones) * sigma))\n",
    "    \n",
    "    \n",
    "    while (len(solution[1]) < q):\n",
    "        customer_to_remove = random.choice(c_drones)\n",
    "\n",
    "        c_drones.remove(customer_to_remove)\n",
    "        tour_index = next((index for index, drone_tour in enumerate(solution[0][1]) if customer_to_remove in drone_tour), -1)\n",
    "        solution[0][1][tour_index], solution[1] = remove_drone_customer(solution[0][1][tour_index], solution[1], customer_to_remove)\n",
    "\n",
    "    return solution"
   ]
  },
  {
   "cell_type": "code",
   "execution_count": 745,
   "metadata": {},
   "outputs": [],
   "source": [
    "def string_removal(instance, solution, c_average_removed, L_max): \n",
    "    l_s_max = max_string_length(solution[0][0], L_max)\n",
    "    k_s = n_strings_to_remove(c_average_removed, l_s_max)\n",
    "    \n",
    "    c_seed = random.randint(1, instance.N)\n",
    "\n",
    "    R = []\n",
    "\n",
    "    c_adj = sort_by_euclidean_distance(instance.distances, c_seed)\n",
    "\n",
    "    for c in c_adj:\n",
    "        if len(R) < k_s:\n",
    "            if any(c in truck_tour for truck_tour in solution[0][0]):\n",
    "                print(\"customer\", c)\n",
    "                print(\"absents\", solution[1])\n",
    "                if c not in solution[1]:\n",
    "                    tour_index = next((index for index, truck_tour in enumerate(solution[0][0]) if c in truck_tour), -1)\n",
    "                    if tour_index not in R:\n",
    "                        l = string_to_remove_length(l_s_max, solution[0][0][tour_index])\n",
    "                        \n",
    "                        solution[0][0][tour_index], solution[1] = remove_string(solution[0][0][tour_index], l, c, solution[1])\n",
    "                        R.append(tour_index)\n",
    "            elif any(c in drone_tour for drone_tour in solution[0][1]):\n",
    "                if c not in solution[1]:\n",
    "                    tour_index = next((index for index, drone_tour in enumerate(solution[0][1]) if c in drone_tour), -1)\n",
    "                    solution[0][1][tour_index], solution[1] = remove_drone_customer(solution[0][1][tour_index], solution[1], c)\n",
    "\n",
    "\n",
    "    return solution"
   ]
  },
  {
   "cell_type": "code",
   "execution_count": 746,
   "metadata": {},
   "outputs": [],
   "source": [
    "def recreate(instance, solution, w1, w2, w3, w4, w5, gamma):\n",
    "    solution[1] = sort_absent_customers(instance, solution, w1, w2, w3, w4, w5)\n",
    "    while len(solution[1]) > 0:\n",
    "        c = solution[1][0]\n",
    "        pos_best = None\n",
    "        \n",
    "        feasible_truck_tour_positions = feasible_truck_tour_positions_calculation(instance, solution[0][0], c)\n",
    "       \n",
    "        for pos in feasible_truck_tour_positions: \n",
    "            if pos_best == None or (pos_best != None and cost(instance, insert_customer(c, pos, copy.deepcopy(solution))) < cost(instance, insert_customer(c, pos_best, copy.deepcopy(solution))) and random.random() > (1 - gamma)):\n",
    "                pos_best = pos\n",
    "        \n",
    "        if is_drone_eligible(instance, solution[0][1], c):\n",
    "            chosen_drone = largest_spatial_slack_drone(instance, solution[0][1])\n",
    "            if pos_best == None or (pos_best != None and cost(instance, insert_customer(c, [1, chosen_drone, 0], copy.deepcopy(solution))) < cost(instance, insert_customer(c, pos_best, copy.deepcopy(solution))) and random.random() > (1 - gamma)):\n",
    "                pos_best = [1, chosen_drone, 0]\n",
    "\n",
    "        if pos_best == None:\n",
    "            empty_truck_tour_index = next((index for index, truck_tour in enumerate(solution[0][0]) if len(truck_tour) == 0), -1)\n",
    "            if empty_truck_tour_index == -1:\n",
    "                return solution\n",
    "            \n",
    "            pos_best = [0, empty_truck_tour_index, 0]\n",
    "        \n",
    "        solution = insert_customer(c, pos_best, solution)\n",
    "        solution[1].remove(c)\n",
    "\n",
    "    return solution"
   ]
  },
  {
   "cell_type": "code",
   "execution_count": 747,
   "metadata": {},
   "outputs": [],
   "source": [
    "def ruin_and_recreate(instance, solution, sigma, c_average_removed, L_max, w1, w2, w3, w4, w5, gamma):\n",
    "    r = random.random()\n",
    "    if (r < 0.5):\n",
    "        solution = sweep_removal_operator(instance, solution, sigma)\n",
    "    else:\n",
    "        solution = random_drone_customer_removal(solution, sigma)\n",
    "\n",
    "    solution = string_removal(instance, solution, c_average_removed, L_max)\n",
    "\n",
    "    solution = recreate(instance, solution, w1, w2, w3, w4, w5, gamma)\n",
    "\n",
    "    return solution\n"
   ]
  },
  {
   "cell_type": "code",
   "execution_count": 748,
   "metadata": {},
   "outputs": [
    {
     "data": {
      "text/plain": [
       "'\\ndef local_search(instance, solution, n_nearest):\\n    interrupt_truck_tours = False\\n    interrupt_truck_customers = False\\n\\n    interrupt_drone_tours = False\\n    #interrupt_drone_customers = False\\n\\n\\n    for i in range(len(solution[0][0])):\\n        \\n        for customer in solution[0][0][i]:\\n\\n            print(\"solution before block\" ,solution)\\n        \\n            neighbors = select_nearest_neighbors(n_nearest, instance.distances[customer])\\n            for neighbor in neighbors:\\n                if (neighbor in get_truck_customers(solution[0][0])):\\n                    neighbor_index = next((j for j, node in enumerate(solution[0][0][i]) if node == neighbor), None)\\n                    if neighbor_index == None:\\n                        new_solution = _2_opt_x(instance, copy.deepcopy(solution), customer, neighbor, i)\\n                        if cost(instance, new_solution) < cost(instance, solution):\\n                            solution = local_search(instance, new_solution, n_nearest)\\n                            interrupt_truck_customers = True\\n                            break\\n                    else: \\n                        new_solution = relocate(instance, copy.deepcopy(solution), customer, neighbor, i)\\n                        if cost(instance, new_solution) < cost(instance, solution):\\n                            solution = local_search(instance, new_solution, n_nearest)\\n                            interrupt_truck_customers = True\\n                            break\\n\\n                        new_solution = swap(instance, copy.deepcopy(solution), customer, neighbor, i)\\n                        if cost(instance, new_solution) < cost(instance, solution):\\n                            solution = local_search(instance, new_solution, n_nearest)\\n                            interrupt_truck_customers = True\\n                            break\\n\\n                        new_solution = _2_opt(instance, copy.deepcopy(solution), customer, neighbor, i)\\n                        if cost(instance, new_solution) < cost(instance, solution):\\n                            solution = local_search(instance, new_solution, n_nearest)\\n                            interrupt_truck_customers = True\\n                            break\\n\\n                else:\\n                    new_solution = swap_x(instance, copy.deepcopy(solution), customer, neighbor, i)\\n                    if cost(instance, new_solution) < cost(instance, solution):\\n                        solution = local_search(instance, new_solution, n_nearest)\\n                        interrupt_truck_customers = True\\n                        break\\n            \\n            if interrupt_truck_customers:\\n                interrupt_truck_tours = True\\n                break\\n            print(\"solution after block\" ,solution)\\n\\n            new_solution = shift_t(instance, copy.deepcopy(solution), customer, i)\\n            if cost(instance, new_solution) < cost(instance, solution):\\n                solution = local_search(instance, new_solution, n_nearest)\\n                interrupt_truck_tours = True\\n                break\\n\\n        if interrupt_truck_tours:\\n            break\\n\\n    for i in range(len(solution[0][1])):\\n       \\n        for customer in solution[0][1][i]:\\n            new_solution = shift_d(instance, copy.deepcopy(solution), customer, i)\\n            if cost(instance, new_solution) < cost(instance, solution):\\n                solution = local_search(instance, new_solution, n_nearest)\\n                interrupt_drone_tours = True\\n                break\\n        \\n        if interrupt_drone_tours:\\n            break\\n\\n    return solution\\n          '"
      ]
     },
     "execution_count": 748,
     "metadata": {},
     "output_type": "execute_result"
    }
   ],
   "source": [
    "'''\n",
    "def local_search(instance, solution, n_nearest):\n",
    "    interrupt_truck_tours = False\n",
    "    interrupt_truck_customers = False\n",
    "\n",
    "    interrupt_drone_tours = False\n",
    "    #interrupt_drone_customers = False\n",
    "\n",
    "\n",
    "    for i in range(len(solution[0][0])):\n",
    "        \n",
    "        for customer in solution[0][0][i]:\n",
    "\n",
    "            print(\"solution before block\" ,solution)\n",
    "        \n",
    "            neighbors = select_nearest_neighbors(n_nearest, instance.distances[customer])\n",
    "            for neighbor in neighbors:\n",
    "                if (neighbor in get_truck_customers(solution[0][0])):\n",
    "                    neighbor_index = next((j for j, node in enumerate(solution[0][0][i]) if node == neighbor), None)\n",
    "                    if neighbor_index == None:\n",
    "                        new_solution = _2_opt_x(instance, copy.deepcopy(solution), customer, neighbor, i)\n",
    "                        if cost(instance, new_solution) < cost(instance, solution):\n",
    "                            solution = local_search(instance, new_solution, n_nearest)\n",
    "                            interrupt_truck_customers = True\n",
    "                            break\n",
    "                    else: \n",
    "                        new_solution = relocate(instance, copy.deepcopy(solution), customer, neighbor, i)\n",
    "                        if cost(instance, new_solution) < cost(instance, solution):\n",
    "                            solution = local_search(instance, new_solution, n_nearest)\n",
    "                            interrupt_truck_customers = True\n",
    "                            break\n",
    "\n",
    "                        new_solution = swap(instance, copy.deepcopy(solution), customer, neighbor, i)\n",
    "                        if cost(instance, new_solution) < cost(instance, solution):\n",
    "                            solution = local_search(instance, new_solution, n_nearest)\n",
    "                            interrupt_truck_customers = True\n",
    "                            break\n",
    "\n",
    "                        new_solution = _2_opt(instance, copy.deepcopy(solution), customer, neighbor, i)\n",
    "                        if cost(instance, new_solution) < cost(instance, solution):\n",
    "                            solution = local_search(instance, new_solution, n_nearest)\n",
    "                            interrupt_truck_customers = True\n",
    "                            break\n",
    "\n",
    "                else:\n",
    "                    new_solution = swap_x(instance, copy.deepcopy(solution), customer, neighbor, i)\n",
    "                    if cost(instance, new_solution) < cost(instance, solution):\n",
    "                        solution = local_search(instance, new_solution, n_nearest)\n",
    "                        interrupt_truck_customers = True\n",
    "                        break\n",
    "            \n",
    "            if interrupt_truck_customers:\n",
    "                interrupt_truck_tours = True\n",
    "                break\n",
    "            print(\"solution after block\" ,solution)\n",
    "\n",
    "            new_solution = shift_t(instance, copy.deepcopy(solution), customer, i)\n",
    "            if cost(instance, new_solution) < cost(instance, solution):\n",
    "                solution = local_search(instance, new_solution, n_nearest)\n",
    "                interrupt_truck_tours = True\n",
    "                break\n",
    "\n",
    "        if interrupt_truck_tours:\n",
    "            break\n",
    "\n",
    "    for i in range(len(solution[0][1])):\n",
    "       \n",
    "        for customer in solution[0][1][i]:\n",
    "            new_solution = shift_d(instance, copy.deepcopy(solution), customer, i)\n",
    "            if cost(instance, new_solution) < cost(instance, solution):\n",
    "                solution = local_search(instance, new_solution, n_nearest)\n",
    "                interrupt_drone_tours = True\n",
    "                break\n",
    "        \n",
    "        if interrupt_drone_tours:\n",
    "            break\n",
    "\n",
    "    return solution\n",
    "          '''  "
   ]
  },
  {
   "cell_type": "markdown",
   "metadata": {},
   "source": [
    "prova local search"
   ]
  },
  {
   "cell_type": "code",
   "execution_count": 749,
   "metadata": {},
   "outputs": [],
   "source": [
    "def local_search(instance, solution, n_nearest):\n",
    "\n",
    "    for i in range(len(solution[0][0])):\n",
    "        \n",
    "        for customer in solution[0][0][i]:\n",
    "\n",
    "            print(\"solution before block\" ,solution)\n",
    "        \n",
    "            neighbors = select_nearest_neighbors(n_nearest, instance.distances[customer])\n",
    "            for neighbor in neighbors:\n",
    "                if (neighbor in get_truck_customers(solution[0][0])):\n",
    "                    neighbor_index = next((j for j, node in enumerate(solution[0][0][i]) if node == neighbor), None)\n",
    "                    if neighbor_index == None:\n",
    "                        new_solution = _2_opt_x(instance, copy.deepcopy(solution), customer, neighbor, i)\n",
    "                        if cost(instance, new_solution) < cost(instance, solution):\n",
    "                            return local_search(instance, new_solution, n_nearest)\n",
    "                            \n",
    "                    else: \n",
    "                        new_solution = relocate(instance, copy.deepcopy(solution), customer, neighbor, i)\n",
    "                        if cost(instance, new_solution) < cost(instance, solution):\n",
    "                            return local_search(instance, new_solution, n_nearest)\n",
    "                            \n",
    "\n",
    "                        new_solution = swap(instance, copy.deepcopy(solution), customer, neighbor, i)\n",
    "                        if cost(instance, new_solution) < cost(instance, solution):\n",
    "                            return local_search(instance, new_solution, n_nearest)\n",
    "                            \n",
    "\n",
    "                        new_solution = _2_opt(instance, copy.deepcopy(solution), customer, neighbor, i)\n",
    "                        if cost(instance, new_solution) < cost(instance, solution):\n",
    "                            return local_search(instance, new_solution, n_nearest)\n",
    "                            \n",
    "                else:\n",
    "                    print(\"neighbor con cui fare swap x\", neighbor)\n",
    "                    print(\"tours su cui fare swap x\", solution[0])\n",
    "                    new_solution = swap_x(instance, copy.deepcopy(solution), customer, neighbor, i)\n",
    "                    if cost(instance, new_solution) < cost(instance, solution):\n",
    "                        return local_search(instance, new_solution, n_nearest)\n",
    "                        \n",
    "            \n",
    "            print(\"solution after block\" ,solution)\n",
    "\n",
    "            new_solution = shift_t(instance, copy.deepcopy(solution), customer, i)\n",
    "            if cost(instance, new_solution) < cost(instance, solution):\n",
    "                return local_search(instance, new_solution, n_nearest)\n",
    "            \n",
    "\n",
    "    for i in range(len(solution[0][1])):\n",
    "       \n",
    "        for customer in solution[0][1][i]:\n",
    "            new_solution = shift_d(instance, copy.deepcopy(solution), customer, i)\n",
    "            if cost(instance, new_solution) < cost(instance, solution):\n",
    "                return local_search(instance, new_solution, n_nearest)\n",
    "                \n",
    "\n",
    "    return solution\n",
    "            "
   ]
  },
  {
   "cell_type": "code",
   "execution_count": 750,
   "metadata": {},
   "outputs": [],
   "source": [
    "def initial_solution_construction(instance, w1, w2, w3, w4, w5, gamma, n_nearest):\n",
    "    A = [c for c in range (1, instance.N)]\n",
    "    solution = recreate(instance, [[[[] for _ in range(instance.h)], [[] for _ in range(instance.D)]],A], w1, w2, w3, w4, w5, gamma)\n",
    "    solution = local_search(instance, solution, n_nearest)\n",
    "    return solution"
   ]
  },
  {
   "cell_type": "code",
   "execution_count": 751,
   "metadata": {},
   "outputs": [],
   "source": [
    "def perturbate(instance, solution, p_min, p_max, max_unfeasible_swaps):\n",
    "    p = random.randint(p_min, p_max)\n",
    "    swaps_executed = 0\n",
    "    unfeasible_swaps = 0\n",
    "    while (swaps_executed < p and unfeasible_swaps < max_unfeasible_swaps):\n",
    "        c1 = random.randint(1, instance.N)\n",
    "        c2 = random.randint(1, instance.N)\n",
    "        pos1 = get_position(c1, solution[0])\n",
    "        pos2 = get_position(c2, solution[0])\n",
    "        if (is_swap_possible(instance, solution[0], c1, pos2) and is_swap_possible(instance, solution[0], c2, pos1)):\n",
    "            solution[0][pos1[0]][pos1[1]][pos1[2]] = c2\n",
    "            solution[0][pos2[0]][pos2[1]][pos2[2]] = c1\n",
    "            swaps_executed += 1\n",
    "            unfeasible_swaps = 0\n",
    "        else:\n",
    "            unfeasible_swaps += 1"
   ]
  },
  {
   "cell_type": "code",
   "execution_count": 752,
   "metadata": {},
   "outputs": [],
   "source": [
    "def SISSRs(instance, sigma, c_average_removed, L_max, w1, w2, w3, w4, w5, gamma, n_nearest, delta, epsilon, iter_imp, iter_max, p_min, p_max, max_unfeasible_swaps_perturb):\n",
    "    s_0 = initial_solution_construction(instance, w1, w2, w3, w4, w5, gamma, n_nearest)\n",
    "    s_curr = s_0\n",
    "    s_best = s_0\n",
    "    iterations_without_improvement = 0\n",
    "    iteration_counter = 0\n",
    "    while (iteration_counter < iter_max):\n",
    "        s = ruin_and_recreate(instance, copy.deepcopy(s_curr), sigma, c_average_removed, L_max, w1, w2, w3, w4, w5, gamma)\n",
    "        if cost(instance, s) < cost(instance, s_curr)*(1+delta):\n",
    "            s_curr = local_search(instance, s, n_nearest)\n",
    "            if cost(instance, s_curr) < cost(instance, s_best):\n",
    "                s_best = s_curr\n",
    "                iterations_without_improvement = 0\n",
    "            else:\n",
    "                iterations_without_improvement += 1\n",
    "        if iterations_without_improvement >= iter_imp:\n",
    "            s_curr = perturbate(instance, s_curr, p_min, p_max, max_unfeasible_swaps_perturb)\n",
    "            iterations_without_improvement = 0\n",
    "        delta = delta * epsilon\n",
    "        iteration_counter+=1\n",
    "\n",
    "    return s_best"
   ]
  },
  {
   "cell_type": "markdown",
   "metadata": {},
   "source": [
    "runniamo"
   ]
  },
  {
   "cell_type": "code",
   "execution_count": null,
   "metadata": {},
   "outputs": [],
   "source": [
    "SISSRs(PDSVRP_instance.PDSVRPInstance(\"instances/30-c-0-c.txt\"), 0.3, 4.5, 4.5, 5,1,1,2,2, 0.1, 20, 0.1, 0.999975, 10, 100, 3, 5, 6)"
   ]
  }
 ],
 "metadata": {
  "kernelspec": {
   "display_name": "Python 3",
   "language": "python",
   "name": "python3"
  },
  "language_info": {
   "codemirror_mode": {
    "name": "ipython",
    "version": 3
   },
   "file_extension": ".py",
   "mimetype": "text/x-python",
   "name": "python",
   "nbconvert_exporter": "python",
   "pygments_lexer": "ipython3",
   "version": "3.11.9"
  }
 },
 "nbformat": 4,
 "nbformat_minor": 2
}

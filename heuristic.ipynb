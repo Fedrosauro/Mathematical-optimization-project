{
 "cells": [
  {
   "cell_type": "code",
   "execution_count": null,
   "metadata": {},
   "outputs": [],
   "source": [
    "import random"
   ]
  },
  {
   "cell_type": "code",
   "execution_count": null,
   "metadata": {},
   "outputs": [],
   "source": [
    "def SISSRs(instance, delta, epsilon, iter_max):\n",
    "    s_0 = solution_construction()\n",
    "    s_curr = s_0\n",
    "    s_best = s_0\n",
    "    while (terminal_condition_met() == False):\n",
    "        s = ruin_and_recreate(s_curr)\n",
    "        if cost(s)<cost(s_curr)*(1+delta):\n",
    "            s_curr = local_search(s)\n",
    "            if cost(s_curr) < cost(s_best):\n",
    "                s_best = s_curr\n",
    "        if iterations_without_improvement >= iter_max:\n",
    "            s_curr = perturbate(s_curr)\n",
    "        delta = delta * epsilon\n",
    "\n",
    "    return s_best \n",
    "\n",
    "           "
   ]
  },
  {
   "cell_type": "code",
   "execution_count": null,
   "metadata": {},
   "outputs": [],
   "source": [
    "def sweep_removal_operator(solution, sigma):\n",
    "    c_drones = get_drone_customers(solution[0])\n",
    "    nbSweept = random.randint(0,int(len(c_drones) * sigma))\n",
    "\n",
    "    grad_seed = random.randint(0, 360)\n",
    "    c_drones = sort_by_angular(c_drones, grad_seed)\n",
    "    for c in c_drones:\n",
    "        if (len(solution[1]) < nbSweept):\n",
    "            remove_customer(solution, c)\n",
    "            solution[1].append(c)\n",
    "\n",
    "    return solution"
   ]
  },
  {
   "cell_type": "code",
   "execution_count": null,
   "metadata": {},
   "outputs": [],
   "source": [
    "def random_drone_customer_removal(solution, sigma):\n",
    "    c_drones = get_drone_customers(solution[0])\n",
    "    q = random.randint(0,int(len(c_drones) * sigma))\n",
    "    \n",
    "    \n",
    "    while (len(solution[1]) < q):\n",
    "        customer_to_remove = random.choice(c_drones)\n",
    "\n",
    "        c_drones.remove(customer_to_remove)\n",
    "        remove_customer(solution, customer_to_remove)\n",
    "        solution[1].append(customer_to_remove)\n",
    "\n",
    "    return solution"
   ]
  },
  {
   "cell_type": "code",
   "execution_count": null,
   "metadata": {},
   "outputs": [],
   "source": [
    "def string_removal(n, coord, solution, c_average_removed, L_max):# n is the number of customers\n",
    "\n",
    "    l_s_max = max_string_length(solution[0], L_max)\n",
    "    k_s = n_strings_to_remove(c_average_removed, l_s_max)\n",
    "    \n",
    "    c_seed = random.randint(1, n)\n",
    "\n",
    "    R = []\n",
    "\n",
    "    c_adj = sort_by_euclidean_distance(c_seed, coord)\n",
    "\n",
    "    for c in c_adj:\n",
    "        if len(R) < k_s:\n",
    "            if any(c in truck_tour for truck_tour in solution[0][0]):\n",
    "                if c not in solution[1]:\n",
    "                    tour_index = next((index for index, truck_tour in enumerate(solution[0][0]) if c in truck_tour), -1)\n",
    "                    if tour_index not in R:\n",
    "                        l = removed_string_length(l_s_max, solution[0][0][tour_index])\n",
    "                        \n",
    "                        solution[0][0][tour_index], solution[1] = remove_string(solution[0][0][tour_index], l, c)\n",
    "                        R.append(tour_index)\n",
    "            elif any(c in drone_tour for drone_tour in solution[0][1]):\n",
    "                if c not in solution[1]:\n",
    "                    tour_index = next((index for index, drone_tour in enumerate(solution[0][1]) if c in drone_tour), -1)\n",
    "                    solution[0][1][tour_index], solution[1] = remove_drone_customer(solution[0][1][tour_index], c)\n",
    "\n",
    "\n",
    "    return solution"
   ]
  }
 ],
 "metadata": {
  "kernelspec": {
   "display_name": "Python 3",
   "language": "python",
   "name": "python3"
  },
  "language_info": {
   "codemirror_mode": {
    "name": "ipython",
    "version": 3
   },
   "file_extension": ".py",
   "mimetype": "text/x-python",
   "name": "python",
   "nbconvert_exporter": "python",
   "pygments_lexer": "ipython3",
   "version": "3.11.9"
  }
 },
 "nbformat": 4,
 "nbformat_minor": 2
}

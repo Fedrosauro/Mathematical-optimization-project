{
 "cells": [
  {
   "cell_type": "markdown",
   "metadata": {},
   "source": [
    "### Imports "
   ]
  },
  {
   "cell_type": "code",
   "execution_count": 11,
   "metadata": {},
   "outputs": [
    {
     "name": "stdout",
     "output_type": "stream",
     "text": [
      "Requirement already satisfied: gurobipy in c:\\users\\giova\\appdata\\local\\packages\\pythonsoftwarefoundation.python.3.11_qbz5n2kfra8p0\\localcache\\local-packages\\python311\\site-packages (11.0.1)Note: you may need to restart the kernel to use updated packages.\n",
      "\n"
     ]
    }
   ],
   "source": [
    "%pip install gurobipy"
   ]
  },
  {
   "cell_type": "code",
   "execution_count": null,
   "metadata": {},
   "outputs": [],
   "source": [
    "class PDSVRPModel:\n",
    "    def __init__(self, C_T, C_D, D, h, distances, t_t, t_d, Q_t, Q_d, T_t, T_d, w):\n",
    "        self.C_T = C_T #truck transportation cost\n",
    "        self.C_D = C_D #drone transportation cost\n",
    "        self.D = D #number of drones\n",
    "        self.N = len(w) #number of nodes\n",
    "        self.h = h #number of trucks\n",
    "        self.distances= distances #matrix of distances\n",
    "        self.t_t = t_t #matrix of trucks travel times\n",
    "        self.t_d =t_d #vector of drones travel times\n",
    "        self.Q_t = Q_t #truck capacity\n",
    "        self.Q_d = Q_d #drone capacity\n",
    "        self.T_t = T_t #max time truck\n",
    "        self.T_d = T_d #max time drones\n",
    "        self.w = w #weights vector\n",
    "        \n",
    "        self.model = gb.Model(\"OptimizationModel\")\n",
    "        self.x = None\n",
    "        self.y = None\n",
    "        self.z = None\n",
    "        self.u = None\n",
    "        \n",
    "    def build_model(self):\n",
    "        # Define the decision variables\n",
    "        self.x = self.model.addVars([(i,j) for i in range(self.N) for j in range(self.N) if i!=j], vtype=gb.GRB.BINARY, name=\"x\")#ho messo +1 perchè lo 0 è il depot e poi ci sono N clienti\n",
    "        self.y = self.model.addVars([(i,k) for i in range(1, self.N) for k in range(self.D)], vtype=gb.GRB.BINARY, name=\"y\")#ok\n",
    "        self.z = self.model.addVars([(i,j) for i in range(self.N) for j in range(self.N) if i!=j], lb=0, ub=self.T_t, vtype=gb.GRB.CONTINUOUS, name=\"z\")#ok (lb e ub sono già specificati nei constraits) \n",
    "        self.u = self.model.addVars([(i) for i in range(1, self.N)], lb=0, ub=self.Q_t, vtype=gb.GRB.CONTINUOUS, name=\"u\")#ok\n",
    "\n",
    "        # Define the objective function\n",
    "        self.model.setObjective(\n",
    "            gb.quicksum(self.C_T * self.distances[i,j] * self.x[i, j] for i in range (self.N) for j in range (self.N) if i != j) +\n",
    "            gb.quicksum(self.C_D * self.distances[0,k] * self.y[k, l] for k in range (1, self.N) for l in range(self.D)),\n",
    "            gb.GRB.MINIMIZE\n",
    "        ) #ok\n",
    "\n",
    "        N_t = [i for i in range(1,self.N) if self.w[i]> self.Q_d] #indexes of clients that must be served by trucks\n",
    "        N_f= [i for i in range(1,self.N) if self.w[i]<= self.Q_d] #indexes of clients that can ber served either by e truck or a drone\n",
    "\n",
    "        # Add constraints\n",
    "        self.model.addConstr(gb.quicksum(self.x[0, i] for i in range (1, self.N)) <= self.h, \"2) Constraint on number of trucks\") #ok\n",
    "\n",
    "        for j in range(self.N):\n",
    "            self.model.addConstr(gb.quicksum(self.x[i, j] for i in range(self.N) if i != j) == gb.quicksum(self.x[j, i] for i in range(self.N) if i != j), \"3) Flow constraint\") #ok\n",
    "\n",
    "        for j in N_f:\n",
    "            self.model.addConstr(gb.quicksum(self.x[i, j] for i in range(self.N) if i != j) + gb.quicksum(self.y[j, k] for k in range(self.D)) == 1, \"4) Every customer in N_f must be served\") #ok\n",
    "\n",
    "        for j in N_t:\n",
    "            self.model.addConstr(gb.quicksum(self.x[i, j] for i in range(self.N) if i != j) == 1, \"5) Truck customers must be visited by only trucks\") #ok\n",
    "\n",
    "        for i in range (1, self.N):\n",
    "            for j in range (1, self.N):\n",
    "                if j != i:\n",
    "                    self.model.addConstr(self.u[i] - self.u[j] + self.Q_t * self.x[i, j] <= self.Q_t - self.w[j], \"6) Miller-Tucker_Zemlin constraint\") #ok\n",
    "\n",
    "        for k in range(self.D):\n",
    "            self.model.addConstr(gb.quicksum(self.y[j, k] * self.t_d[j] for j in N_f) <= self.T_d, \"7) Time constraint for drones\") #ok\n",
    "\n",
    "        for i in range(1, self.N):\n",
    "            self.model.addConstr(gb.quicksum(self.z[l, i] for l in range(self.N) if l != i) + gb.quicksum(self.t_t[i, j] * self.x[i, j] for j in range(self.N) if j != i) == gb.quicksum(self.z[i, j] for j in range(self.N) if j != i),\"8) Inductive step for induction method of cumulative time additions\")\n",
    "\n",
    "        for i in range(1, self.N):\n",
    "            self.model.addConstr(self.z[0, i] == self.t_t[0, i] * self.x[0, i], \"9) Basic step for induction method of cumulative time additions\")\n",
    "\n",
    "        for i in range(1, self.N):\n",
    "            self.model.addConstr(self.z[i, 0] <= self.T_t * self.x[i, 0], \"10) Truck time limit constraint\")\n",
    "\n",
    "        # Optimization parameters\n",
    "        #self.model.setParam('Threads', 4) #Set number of threads\n",
    "        #self.model.setParam('MIPGap', 0.01)  # Set tolerance\n",
    "        \n",
    "        #self.model.setParam('Presolve', 2)  # Presolve level increase\n",
    "        #self.model.setParam('Cuts', 2)  # Aggressive cuts\n",
    "\n",
    "    def solve(self):\n",
    "        self.model.optimize()\n",
    "\n",
    "    def print_results(self):\n",
    "        if self.model.status == gb.GRB.OPTIMAL:\n",
    "            for v in self.model.getVars():\n",
    "                if v.x != 0:\n",
    "                    print(f'{v.varName}: {v.x}')\n",
    "            print(\"Non printed variables equal 0\")\n",
    "            print(f'Obj: {self.model.objVal}')\n",
    "        else:\n",
    "            print(\"No optimal solution found.\")"
   ]
  },
  {
   "cell_type": "code",
   "execution_count": null,
   "metadata": {},
   "outputs": [],
   "source": [
    "import gurobipy as gb\n",
    "import numpy as np"
   ]
  }
 ],
 "metadata": {
  "kernelspec": {
   "display_name": "Python 3",
   "language": "python",
   "name": "python3"
  },
  "language_info": {
   "codemirror_mode": {
    "name": "ipython",
    "version": 3
   },
   "file_extension": ".py",
   "mimetype": "text/x-python",
   "name": "python",
   "nbconvert_exporter": "python",
   "pygments_lexer": "ipython3",
   "version": "3.11.9"
  }
 },
 "nbformat": 4,
 "nbformat_minor": 2
}

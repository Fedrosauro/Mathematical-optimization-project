{
 "cells": [
  {
   "cell_type": "markdown",
   "metadata": {},
   "source": [
    "### Imports "
   ]
  },
  {
   "cell_type": "code",
   "execution_count": 3,
   "metadata": {},
   "outputs": [
    {
     "name": "stdout",
     "output_type": "stream",
     "text": [
      "Requirement already satisfied: gurobipy in c:\\users\\giova\\appdata\\local\\packages\\pythonsoftwarefoundation.python.3.11_qbz5n2kfra8p0\\localcache\\local-packages\\python311\\site-packages (11.0.1)\n",
      "Note: you may need to restart the kernel to use updated packages.\n"
     ]
    }
   ],
   "source": [
    "%pip install gurobipy"
   ]
  },
  {
   "cell_type": "code",
   "execution_count": 4,
   "metadata": {},
   "outputs": [],
   "source": [
    "import gurobipy as gb\n",
    "import numpy as np"
   ]
  },
  {
   "cell_type": "code",
   "execution_count": 5,
   "metadata": {},
   "outputs": [],
   "source": [
    "class PDSVRPModel:\n",
    "\n",
    "    def __init__(self, instance):\n",
    "        self.C_T = instance.C_T #truck transportation cost\n",
    "        self.C_D = instance.C_D #drone transportation cost\n",
    "        self.D = instance.D #number of drones\n",
    "        self.N = instance.N #number of nodes\n",
    "        self.h = instance.h #number of trucks\n",
    "        self.distances= instance.distances #matrix of euclidean distances\n",
    "        self.manhattan_distances = instance.manhattan_distances #matrix of manhattan distances\n",
    "        self.t_t = instance.t_t #matrix of trucks travel times\n",
    "        self.t_d = instance.t_d #vector of drones travel times\n",
    "        self.Q_t = instance.Q_t #truck capacity\n",
    "        self.Q_d = instance.Q_d #drone capacity\n",
    "        self.T_t = instance.T_t #max time truck\n",
    "        self.T_d = instance.T_d #max time drones\n",
    "        self.w = instance.w #weights vector\n",
    "        self.d_end = instance.d_end #drone endurance\n",
    "        \n",
    "        self.model = gb.Model(\"OptimizationModel\")\n",
    "        self.x = None\n",
    "        self.y = None\n",
    "        self.z = None\n",
    "        self.u = None\n",
    "\n",
    "        \n",
    "    def build_model(self):\n",
    "        # Define the decision variables\n",
    "        self.x = self.model.addVars([(i,j) for i in range(self.N) for j in range(self.N) if i!=j], vtype=gb.GRB.BINARY, name=\"x\")#ho messo +1 perchè lo 0 è il depot e poi ci sono N clienti\n",
    "        self.y = self.model.addVars([(i,k) for i in range(1, self.N) for k in range(self.D)], vtype=gb.GRB.BINARY, name=\"y\")#ok\n",
    "        self.z = self.model.addVars([(i,j) for i in range(self.N) for j in range(self.N) if i!=j], lb=0, ub=self.T_t, vtype=gb.GRB.CONTINUOUS, name=\"z\")#ok (lb e ub sono già specificati nei constraits) \n",
    "        self.u = self.model.addVars([(i) for i in range(1, self.N)], lb=0, ub=self.Q_t, vtype=gb.GRB.CONTINUOUS, name=\"u\")#ok\n",
    "\n",
    "        # Define the objective function\n",
    "        self.model.setObjective(\n",
    "            gb.quicksum(self.C_T * self.manhattan_distances[i,j] * self.x[i, j] for i in range (self.N) for j in range (self.N) if i != j) +\n",
    "            gb.quicksum(self.C_D * 2 * self.distances[0,k] * self.y[k, l] for k in range (1, self.N) for l in range(self.D)),\n",
    "            gb.GRB.MINIMIZE\n",
    "        ) #ok\n",
    "\n",
    "        N_t = [i for i in range(1,self.N) if (self.w[i] > self.Q_d or ((self.t_d[i] * 2) > self.d_end))] #indexes of clients that must be served by trucks\n",
    "        N_f= [i for i in range(1,self.N) if i not in N_t] #indexes of clients that can ber served either by e truck or a drone\n",
    "\n",
    "        # Add constraints\n",
    "        self.model.addConstr(gb.quicksum(self.x[0, i] for i in range (1, self.N)) <= self.h, \"2) Constraint on number of trucks\") #ok\n",
    "\n",
    "        for j in range(self.N):\n",
    "            self.model.addConstr(gb.quicksum(self.x[i, j] for i in range(self.N) if i != j) == gb.quicksum(self.x[j, i] for i in range(self.N) if i != j), \"3) Flow constraint\") #ok\n",
    "\n",
    "        for j in N_f:\n",
    "            self.model.addConstr(gb.quicksum(self.x[i, j] for i in range(self.N) if i != j) + gb.quicksum(self.y[j, k] for k in range(self.D)) == 1, \"4) Every customer in N_f must be served\") #ok\n",
    "\n",
    "        for j in N_t:\n",
    "            self.model.addConstr(gb.quicksum(self.x[i, j] for i in range(self.N) if i != j) == 1, \"5) Truck customers must be visited by only trucks\") #ok\n",
    "\n",
    "        for i in range (1, self.N):\n",
    "            for j in range (1, self.N):\n",
    "                if j != i:\n",
    "                    self.model.addConstr(self.u[i] - self.u[j] + self.Q_t * self.x[i, j] <= self.Q_t - self.w[j], \"6) Miller-Tucker_Zemlin constraint\") #ok\n",
    "\n",
    "        for k in range(self.D):\n",
    "            self.model.addConstr(gb.quicksum(self.y[j, k] * self.t_d[j] for j in N_f) <= self.T_d, \"7) Time constraint for drones\") #ok\n",
    "\n",
    "        for i in range(1, self.N):\n",
    "            self.model.addConstr(gb.quicksum(self.z[l, i] for l in range(self.N) if l != i) + gb.quicksum(self.t_t[i, j] * self.x[i, j] for j in range(self.N) if j != i) == gb.quicksum(self.z[i, j] for j in range(self.N) if j != i),\"8) Inductive step for induction method of cumulative time additions\")\n",
    "\n",
    "        for i in range(1, self.N):\n",
    "            self.model.addConstr(self.z[0, i] == self.t_t[0, i] * self.x[0, i], \"9) Basic step for induction method of cumulative time additions\")\n",
    "\n",
    "        for i in range(1, self.N):\n",
    "            self.model.addConstr(self.z[i, 0] <= self.T_t * self.x[i, 0], \"10) Truck time limit constraint\")\n",
    "\n",
    "        # Optimization parameters\n",
    "        self.model.setParam('Threads', 8) #Set number of threads\n",
    "        #self.model.setParam('MIPGap', 0.01)  # Set tolerance\n",
    "        #self.model.setParam('MIPFocus', 3)  # Set focus\n",
    "        self.model.setParam('Presolve', 2)  # Presolve level increase\n",
    "        self.model.setParam('Cuts', 3)  # Aggressive cuts\n",
    "        self.model.setParam('TimeLimit', 3600) # Time limit of an hour\n",
    "\n",
    "    def solve(self):\n",
    "        self.model.optimize()\n",
    "\n",
    "    def print_results(self):\n",
    "        if self.model.status == gb.GRB.OPTIMAL:\n",
    "            for v in self.model.getVars():\n",
    "                if v.x != 0:\n",
    "                    print(f'{v.varName}: {v.x}')\n",
    "            print(\"Non printed variables equal 0\")\n",
    "            print(f'Obj: {self.model.objVal}')\n",
    "            print(f'Time taken: {self.model.Runtime} seconds')\n",
    "        else:\n",
    "            print(\"No optimal solution found.\")\n",
    "            print(f'Time taken: {self.model.Runtime} seconds')\n",
    "            \n",
    "    def get_resolution_time(self):\n",
    "        return self.model.Runtime"
   ]
  },
  {
   "cell_type": "code",
   "execution_count": 7,
   "metadata": {},
   "outputs": [],
   "source": [
    "import PDSVRP_instance\n",
    "\n",
    "def test_solver(instance_file_path):\n",
    "    instance = PDSVRP_instance.PDSVRPInstance(instance_file_path)\n",
    "    model = PDSVRPModel(instance) \n",
    "    model.build_model()\n",
    "    model.solve()\n",
    "    model.print_results()"
   ]
  },
  {
   "cell_type": "code",
   "execution_count": 8,
   "metadata": {},
   "outputs": [
    {
     "name": "stdout",
     "output_type": "stream",
     "text": [
      "Set parameter Username\n",
      "Academic license - for non-commercial use only - expires 2025-05-21\n",
      "Set parameter Threads to value 8\n",
      "Set parameter Presolve to value 2\n",
      "Set parameter Cuts to value 3\n",
      "Set parameter TimeLimit to value 3600\n",
      "Gurobi Optimizer version 11.0.1 build v11.0.1rc0 (win64 - Windows 11.0 (22631.2))\n",
      "\n",
      "CPU model: 11th Gen Intel(R) Core(TM) i7-1165G7 @ 2.80GHz, instruction set [SSE2|AVX|AVX2|AVX512]\n",
      "Thread count: 4 physical cores, 8 logical processors, using up to 8 threads\n",
      "\n",
      "Optimize a model with 1026 rows, 2010 columns and 8412 nonzeros\n",
      "Model fingerprint: 0x1d43c55e\n",
      "Variable types: 960 continuous, 1050 integer (1050 binary)\n",
      "Coefficient statistics:\n",
      "  Matrix range     [2e-03, 1e+03]\n",
      "  Objective range  [6e-02, 3e+01]\n",
      "  Bounds range     [1e+00, 1e+03]\n",
      "  RHS range        [1e+00, 1e+03]\n",
      "Found heuristic solution: objective 161.5864695\n",
      "Presolve removed 30 rows and 489 columns\n",
      "Presolve time: 0.04s\n",
      "Presolved: 996 rows, 1521 columns, 10384 nonzeros\n",
      "Variable types: 495 continuous, 1026 integer (1026 binary)\n",
      "Root relaxation presolve removed 1 rows and 0 columns\n",
      "Root relaxation presolved: 995 rows, 1521 columns, 10324 nonzeros\n",
      "\n",
      "\n",
      "Root relaxation: objective 1.121290e+01, 276 iterations, 0.01 seconds (0.02 work units)\n",
      "\n",
      "    Nodes    |    Current Node    |     Objective Bounds      |     Work\n",
      " Expl Unexpl |  Obj  Depth IntInf | Incumbent    BestBd   Gap | It/Node Time\n",
      "\n",
      "     0     0   11.21290    0   31  161.58647   11.21290  93.1%     -    0s\n",
      "H    0     0                     160.5264593   25.38178  84.2%     -    0s\n",
      "H    0     0                     138.1069883   25.38178  81.6%     -    0s\n",
      "     0     0   25.71294    0   25  138.10699   25.71294  81.4%     -    0s\n",
      "H    0     0                     136.1319883   25.71294  81.1%     -    0s\n",
      "     0     0   29.19302    0   30  136.13199   29.19302  78.6%     -    0s\n",
      "H    0     0                     119.3266555   29.32998  75.4%     -    0s\n",
      "     0     0   29.59147    0   47  119.32666   29.59147  75.2%     -    0s\n",
      "     0     0   29.59147    0   47  119.32666   29.59147  75.2%     -    0s\n",
      "     0     2   29.59291    0   47  119.32666   29.59291  75.2%     -    0s\n",
      "H   32    37                     118.8620898   35.13160  70.4%  33.1    0s\n",
      "H  128   136                     118.2997555   35.13160  70.3%  15.6    0s\n",
      "H  134   136                     116.6928484   35.13160  69.9%  15.1    0s\n",
      "H  137   136                     116.1305141   35.13160  69.7%  14.8    0s\n",
      "H  431   422                     100.6105968   35.13160  65.1%   7.6    0s\n",
      "H  765   650                     100.3342542   35.13160  65.0%   7.0    0s\n",
      "H 1217  1042                      99.7139915   35.40793  64.5%   7.1    1s\n",
      "* 1234   930              55      90.8713723   35.40793  61.0%   7.1    1s\n",
      "H 1307   860                      89.7848942   35.40793  60.6%   7.0    1s\n",
      "H 1308   857                      89.4213723   35.40793  60.4%   7.1    1s\n",
      "H 1938  1276                      83.1447005   36.99603  55.5%   8.7    4s\n",
      "H 1940  1218                      81.5366768   36.99603  54.6%   8.7    4s\n",
      "  3836  2174   39.09628   72   19   81.53668   37.04036  54.6%   8.6    5s\n"
     ]
    },
    {
     "ename": "KeyboardInterrupt",
     "evalue": "",
     "output_type": "error",
     "traceback": [
      "\u001b[1;31m---------------------------------------------------------------------------\u001b[0m",
      "\u001b[1;31mKeyboardInterrupt\u001b[0m                         Traceback (most recent call last)",
      "File \u001b[1;32m~\\AppData\\Local\\Packages\\PythonSoftwareFoundation.Python.3.11_qbz5n2kfra8p0\\LocalCache\\local-packages\\Python311\\site-packages\\ipykernel\\iostream.py:655\u001b[0m, in \u001b[0;36mOutStream.write\u001b[1;34m(self, string)\u001b[0m\n\u001b[0;32m    647\u001b[0m                     \u001b[38;5;28;01mreturn\u001b[39;00m\n\u001b[0;32m    649\u001b[0m             \u001b[38;5;28mself\u001b[39m\u001b[38;5;241m.\u001b[39msession\u001b[38;5;241m.\u001b[39msend(\n\u001b[0;32m    650\u001b[0m                 \u001b[38;5;28mself\u001b[39m\u001b[38;5;241m.\u001b[39mpub_thread,\n\u001b[0;32m    651\u001b[0m                 msg,\n\u001b[0;32m    652\u001b[0m                 ident\u001b[38;5;241m=\u001b[39m\u001b[38;5;28mself\u001b[39m\u001b[38;5;241m.\u001b[39mtopic,\n\u001b[0;32m    653\u001b[0m             )\n\u001b[1;32m--> 655\u001b[0m \u001b[38;5;28;01mdef\u001b[39;00m \u001b[38;5;21mwrite\u001b[39m(\u001b[38;5;28mself\u001b[39m, string: \u001b[38;5;28mstr\u001b[39m) \u001b[38;5;241m-\u001b[39m\u001b[38;5;241m>\u001b[39m Optional[\u001b[38;5;28mint\u001b[39m]:  \u001b[38;5;66;03m# type:ignore[override]\u001b[39;00m\n\u001b[0;32m    656\u001b[0m \u001b[38;5;250m    \u001b[39m\u001b[38;5;124;03m\"\"\"Write to current stream after encoding if necessary\u001b[39;00m\n\u001b[0;32m    657\u001b[0m \n\u001b[0;32m    658\u001b[0m \u001b[38;5;124;03m    Returns\u001b[39;00m\n\u001b[1;32m   (...)\u001b[0m\n\u001b[0;32m    662\u001b[0m \n\u001b[0;32m    663\u001b[0m \u001b[38;5;124;03m    \"\"\"\u001b[39;00m\n\u001b[0;32m    664\u001b[0m     parent \u001b[38;5;241m=\u001b[39m \u001b[38;5;28mself\u001b[39m\u001b[38;5;241m.\u001b[39mparent_header\n",
      "\u001b[1;31mKeyboardInterrupt\u001b[0m: "
     ]
    },
    {
     "name": "stderr",
     "output_type": "stream",
     "text": [
      "Exception ignored in: 'gurobipy.logcallbackstub'\n",
      "Traceback (most recent call last):\n",
      "  File \"C:\\Users\\giova\\AppData\\Local\\Packages\\PythonSoftwareFoundation.Python.3.11_qbz5n2kfra8p0\\LocalCache\\local-packages\\Python311\\site-packages\\ipykernel\\iostream.py\", line 655, in write\n",
      "    def write(self, string: str) -> Optional[int]:  # type:ignore[override]\n",
      "\n",
      "KeyboardInterrupt: \n"
     ]
    },
    {
     "name": "stdout",
     "output_type": "stream",
     "text": [
      "H48844 37531                      81.4616768   39.07424  52.0%   6.8   14s\n",
      " 51545 40260   41.86564   50   20   81.46168   39.16718  51.9%   6.9   15s\n"
     ]
    }
   ],
   "source": [
    "test_solver('instances/30-c-0-c.txt')"
   ]
  }
 ],
 "metadata": {
  "kernelspec": {
   "display_name": "Python 3",
   "language": "python",
   "name": "python3"
  },
  "language_info": {
   "codemirror_mode": {
    "name": "ipython",
    "version": 3
   },
   "file_extension": ".py",
   "mimetype": "text/x-python",
   "name": "python",
   "nbconvert_exporter": "python",
   "pygments_lexer": "ipython3",
   "version": "3.11.9"
  }
 },
 "nbformat": 4,
 "nbformat_minor": 2
}

{
 "cells": [
  {
   "cell_type": "code",
   "execution_count": 2,
   "metadata": {},
   "outputs": [],
   "source": [
    "from instancePDSVRP import instancePDSVRP\n",
    "import copy\n",
    "import time\n",
    "import heuristic as h\n",
    "import utilities as u"
   ]
  },
  {
   "cell_type": "markdown",
   "metadata": {},
   "source": [
    "Without local search (also initial_solution method has to be modified)"
   ]
  },
  {
   "cell_type": "code",
   "execution_count": 3,
   "metadata": {},
   "outputs": [],
   "source": [
    "def initial_solution_construction_no_LS(instance, w1, w2, w3, w4, w5, gamma):\n",
    "    A = [c for c in range (1, instance.N)]\n",
    "    solution = h.recreate(instance, [[[[] for _ in range(instance.h)], [[] for _ in range(instance.D)]],A], w1, w2, w3, w4, w5, gamma)\n",
    "    return solution"
   ]
  },
  {
   "cell_type": "code",
   "execution_count": 4,
   "metadata": {},
   "outputs": [],
   "source": [
    "def SISSRs_no_LS(instance, sigma, c_average_removed, L_max, w1, w2, w3, w4, w5, gamma, n_nearest, delta, epsilon, iter_imp, iter_max, p_min, p_max, max_unfeasible_swaps_perturb):\n",
    "    s_0 = initial_solution_construction_no_LS(instance, w1, w2, w3, w4, w5, gamma)\n",
    "    s_curr = s_0\n",
    "    s_best = s_0\n",
    "    iterations_without_improvement = 0\n",
    "    iteration_counter = 0\n",
    "    while (iteration_counter < iter_max):\n",
    "        s = h.ruin_and_recreate(instance, copy.deepcopy(s_curr), sigma, c_average_removed, L_max, w1, w2, w3, w4, w5, gamma)\n",
    "        if u.cost(instance, s) < u.cost(instance, s_curr)*(1+delta):\n",
    "            s_curr = s\n",
    "            if u.cost(instance, s_curr) < u.cost(instance, s_best):\n",
    "                s_best = s_curr\n",
    "                iterations_without_improvement = 0\n",
    "            else:\n",
    "                iterations_without_improvement += 1\n",
    "        if iterations_without_improvement >= iter_imp:\n",
    "            s_curr = h.perturbate(instance, s_curr, p_min, p_max, max_unfeasible_swaps_perturb)\n",
    "            iterations_without_improvement = 0\n",
    "        delta = delta * epsilon\n",
    "        iteration_counter+=1\n",
    "    \n",
    "    return s_best"
   ]
  },
  {
   "cell_type": "markdown",
   "metadata": {},
   "source": [
    "Without threshold acceptence"
   ]
  },
  {
   "cell_type": "code",
   "execution_count": 5,
   "metadata": {},
   "outputs": [],
   "source": [
    "def SISSRs_no_TA(instance, sigma, c_average_removed, L_max, w1, w2, w3, w4, w5, gamma, n_nearest, delta, epsilon, iter_imp, iter_max, p_min, p_max, max_unfeasible_swaps_perturb):\n",
    "    s_0 = h.initial_solution_construction(instance, w1, w2, w3, w4, w5, gamma, n_nearest)\n",
    "    s_curr = s_0\n",
    "    s_best = s_0\n",
    "    iterations_without_improvement = 0\n",
    "    iteration_counter = 0\n",
    "    while (iteration_counter < iter_max):\n",
    "        s = h.ruin_and_recreate(instance, copy.deepcopy(s_curr), sigma, c_average_removed, L_max, w1, w2, w3, w4, w5, gamma)\n",
    "        if u.cost(instance, s) < u.cost(instance, s_curr):\n",
    "            s_curr = h.local_search(instance, s, n_nearest)\n",
    "            if u.cost(instance, s_curr) < u.cost(instance, s_best):\n",
    "                s_best = s_curr\n",
    "                iterations_without_improvement = 0\n",
    "            else:\n",
    "                iterations_without_improvement += 1\n",
    "        if iterations_without_improvement >= iter_imp:\n",
    "            s_curr = h.perturbate(instance, s_curr, p_min, p_max, max_unfeasible_swaps_perturb)\n",
    "            iterations_without_improvement = 0\n",
    "        iteration_counter+=1\n",
    "    \n",
    "    return s_best"
   ]
  },
  {
   "cell_type": "markdown",
   "metadata": {},
   "source": [
    "Without perturbation"
   ]
  },
  {
   "cell_type": "code",
   "execution_count": 6,
   "metadata": {},
   "outputs": [],
   "source": [
    "def SISSRs_no_pert(instance, sigma, c_average_removed, L_max, w1, w2, w3, w4, w5, gamma, n_nearest, delta, epsilon, iter_imp, iter_max, p_min, p_max, max_unfeasible_swaps_perturb):\n",
    "    s_0 = h.initial_solution_construction(instance, w1, w2, w3, w4, w5, gamma, n_nearest)\n",
    "    s_curr = s_0\n",
    "    s_best = s_0\n",
    "    iterations_without_improvement = 0\n",
    "    iteration_counter = 0\n",
    "    \n",
    "    while (iteration_counter < iter_max):\n",
    "        s = h.ruin_and_recreate(instance, copy.deepcopy(s_curr), sigma, c_average_removed, L_max, w1, w2, w3, w4, w5, gamma)\n",
    "        if u.cost(instance, s) < u.cost(instance, s_curr) * (1 + delta):\n",
    "            s_curr = h.local_search(instance, s, n_nearest)\n",
    "            if u.cost(instance, s_curr) < u.cost(instance, s_best):\n",
    "                s_best = s_curr\n",
    "                iterations_without_improvement = 0\n",
    "            else:\n",
    "                iterations_without_improvement += 1\n",
    "        delta = delta * epsilon\n",
    "        iteration_counter += 1\n",
    "    \n",
    "    return s_best\n"
   ]
  },
  {
   "cell_type": "markdown",
   "metadata": {},
   "source": [
    "Without sweep removal (also ruin_and_recreate method has to be modifed)"
   ]
  },
  {
   "cell_type": "code",
   "execution_count": 7,
   "metadata": {},
   "outputs": [],
   "source": [
    "def ruin_and_recreate_no_sweep(instance, solution, sigma, c_average_removed, L_max, w1, w2, w3, w4, w5, gamma):\n",
    "   \n",
    "    solution = h.random_drone_customer_removal(solution, sigma)\n",
    "\n",
    "    solution = h.string_removal(instance, solution, c_average_removed, L_max)\n",
    "\n",
    "    solution = h.recreate(instance, solution, w1, w2, w3, w4, w5, gamma)\n",
    "\n",
    "    return solution"
   ]
  },
  {
   "cell_type": "code",
   "execution_count": 8,
   "metadata": {},
   "outputs": [],
   "source": [
    "def SISSRs_no_sweep(instance, sigma, c_average_removed, L_max, w1, w2, w3, w4, w5, gamma, n_nearest, delta, epsilon, iter_imp, iter_max, p_min, p_max, max_unfeasible_swaps_perturb):\n",
    "    \n",
    "    s_0 = h.initial_solution_construction(instance, w1, w2, w3, w4, w5, gamma, n_nearest)\n",
    "    s_curr = s_0\n",
    "    s_best = s_0\n",
    "    iterations_without_improvement = 0\n",
    "    iteration_counter = 0\n",
    "    while (iteration_counter < iter_max):\n",
    "        s = ruin_and_recreate_no_sweep(instance, copy.deepcopy(s_curr), sigma, c_average_removed, L_max, w1, w2, w3, w4, w5, gamma)\n",
    "        if u.cost(instance, s) < u.cost(instance, s_curr)*(1+delta):\n",
    "            s_curr = h.local_search(instance, s, n_nearest)\n",
    "            if u.cost(instance, s_curr) < u.cost(instance, s_best):\n",
    "                s_best = s_curr\n",
    "                iterations_without_improvement = 0\n",
    "            else:\n",
    "                iterations_without_improvement += 1\n",
    "        if iterations_without_improvement >= iter_imp:\n",
    "            s_curr = h.perturbate(instance, s_curr, p_min, p_max, max_unfeasible_swaps_perturb)\n",
    "            iterations_without_improvement = 0\n",
    "        delta = delta * epsilon\n",
    "        iteration_counter+=1\n",
    "    \n",
    "    return s_best"
   ]
  },
  {
   "cell_type": "markdown",
   "metadata": {},
   "source": [
    "Without random removal (also ruin_and_recreate method has to be modifed)"
   ]
  },
  {
   "cell_type": "code",
   "execution_count": 9,
   "metadata": {},
   "outputs": [],
   "source": [
    "def ruin_and_recreate_no_rand(instance, solution, sigma, c_average_removed, L_max, w1, w2, w3, w4, w5, gamma):\n",
    "   \n",
    "    solution = h.sweep_removal_operator(instance, solution, sigma)\n",
    "\n",
    "    solution = h.string_removal(instance, solution, c_average_removed, L_max)\n",
    "\n",
    "    solution = h.recreate(instance, solution, w1, w2, w3, w4, w5, gamma)\n",
    "\n",
    "    return solution\n"
   ]
  },
  {
   "cell_type": "code",
   "execution_count": 10,
   "metadata": {},
   "outputs": [],
   "source": [
    "def SISSRs_no_rand(instance, sigma, c_average_removed, L_max, w1, w2, w3, w4, w5, gamma, n_nearest, delta, epsilon, iter_imp, iter_max, p_min, p_max, max_unfeasible_swaps_perturb):\n",
    "    s_0 = h.initial_solution_construction(instance, w1, w2, w3, w4, w5, gamma, n_nearest)\n",
    "    s_curr = s_0\n",
    "    s_best = s_0\n",
    "    iterations_without_improvement = 0\n",
    "    iteration_counter = 0\n",
    "    while (iteration_counter < iter_max):\n",
    "        s = ruin_and_recreate_no_rand(instance, copy.deepcopy(s_curr), sigma, c_average_removed, L_max, w1, w2, w3, w4, w5, gamma)\n",
    "        if u.cost(instance, s) < u.cost(instance, s_curr)*(1+delta):\n",
    "            s_curr = h.local_search(instance, s, n_nearest)\n",
    "            if u.cost(instance, s_curr) < u.cost(instance, s_best):\n",
    "                s_best = s_curr\n",
    "                iterations_without_improvement = 0\n",
    "            else:\n",
    "                iterations_without_improvement += 1\n",
    "        if iterations_without_improvement >= iter_imp:\n",
    "            s_curr = h.perturbate(instance, s_curr, p_min, p_max, max_unfeasible_swaps_perturb)\n",
    "            iterations_without_improvement = 0\n",
    "        delta = delta * epsilon\n",
    "        iteration_counter+=1\n",
    "    \n",
    "    return s_best"
   ]
  },
  {
   "cell_type": "markdown",
   "metadata": {},
   "source": [
    "Tests"
   ]
  },
  {
   "cell_type": "code",
   "execution_count": 11,
   "metadata": {},
   "outputs": [],
   "source": [
    "def test_variants_on_instances(original_method, variants, instances,  sigma, c_average_removed, L_max, w1, w2, w3, w4, w5, gamma, n_nearest, delta, epsilon, iter_imp, iter_max, p_min, p_max, max_unfeasible_swaps_perturb):\n",
    "    results = []\n",
    "            \n",
    "    for instance_name in instances:\n",
    "        print(\"Original method for instance \" + instance_name)\n",
    "        instance = instancePDSVRP(\"instances/\" + instance_name + \".txt\") \n",
    "        \n",
    "        start_time = time.time()\n",
    "        sol_original = original_method(instance, sigma, c_average_removed, L_max, w1, w2, w3, w4, w5, gamma, n_nearest, delta, epsilon, iter_imp, iter_max, p_min, p_max, max_unfeasible_swaps_perturb)\n",
    "        end_time = time.time()\n",
    "        cost_original = u.cost(instance, sol_original)\n",
    "        elapsed_time_original = end_time - start_time\n",
    "\n",
    "        for variant in variants:\n",
    "            variant_name = variant.__name__\n",
    "            print(variant_name)\n",
    "                \n",
    "            start_time = time.time()\n",
    "            sol_variant = variant(instance, sigma, c_average_removed, L_max, w1, w2, w3, w4, w5, gamma, n_nearest, delta, epsilon, iter_imp, iter_max, p_min, p_max, max_unfeasible_swaps_perturb)\n",
    "            end_time = time.time()\n",
    "            cost_variant =u.cost(instance, sol_variant)\n",
    "            elapsed_time_variant = end_time - start_time\n",
    "                \n",
    "            cost_difference = ((cost_variant - cost_original) / cost_original) * 100\n",
    "                \n",
    "            results.append({\n",
    "                \"method\": original_method.__name__,\n",
    "                \"variant\": variant_name,\n",
    "                \"instance\": instance_name,\n",
    "                \"cost_original\": cost_original,\n",
    "                \"cost_variant\": cost_variant,\n",
    "                \"cost_difference_percentage\": cost_difference,\n",
    "                \"time_original\": elapsed_time_original,\n",
    "                \"time_variant\": elapsed_time_variant,\n",
    "                \"iter_imp\" : iter_imp,\n",
    "                \"iter_max\": iter_max\n",
    "            })\n",
    "    \n",
    "    return results"
   ]
  },
  {
   "cell_type": "code",
   "execution_count": null,
   "metadata": {},
   "outputs": [],
   "source": [
    "method = h.SISSRs\n",
    "variants = [SISSRs_no_LS, SISSRs_no_TA, SISSRs_no_pert, SISSRs_no_rand, SISSRs_no_sweep]\n",
    "instances = []\n",
    "\n",
    "for customers_position in [\"c\", \"r\", \"rc\"]:\n",
    "    for depot_position in [\"c\", \"e\", \"r\"]:\n",
    "        instances.append(\"30-\" + customers_position + \"-1-\" + depot_position)\n",
    "        \n",
    "#instances = [\"small_instances/10-c-1-c\"]\n",
    "\n",
    "results = test_variants_on_instances(method, variants, instances, 0.3, 4.5, 4.5, 5,1,1,2,2, 0.1, 20, 0.1, 0.999975, 500, 5000, 3, 3, 9)\n",
    "\n",
    "u.save_results_to_csv(results, \"results/impact_of_components_results.csv\")"
   ]
  }
 ],
 "metadata": {
  "kernelspec": {
   "display_name": "Python 3",
   "language": "python",
   "name": "python3"
  },
  "language_info": {
   "codemirror_mode": {
    "name": "ipython",
    "version": 3
   },
   "file_extension": ".py",
   "mimetype": "text/x-python",
   "name": "python",
   "nbconvert_exporter": "python",
   "pygments_lexer": "ipython3",
   "version": "3.12.2"
  }
 },
 "nbformat": 4,
 "nbformat_minor": 2
}

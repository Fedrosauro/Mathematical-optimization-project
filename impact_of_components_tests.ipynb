{
 "cells": [
  {
   "cell_type": "code",
   "execution_count": 26,
   "metadata": {},
   "outputs": [],
   "source": [
    "import random\n",
    "import numpy as np\n",
    "import PDSVRP_instance\n",
    "import copy\n",
    "\n",
    "import time"
   ]
  },
  {
   "cell_type": "code",
   "execution_count": 27,
   "metadata": {},
   "outputs": [],
   "source": [
    "from importnb import Notebook\n",
    "\n",
    "with Notebook():\n",
    "    import heuristic as h\n",
    "    import utilities as u"
   ]
  },
  {
   "cell_type": "markdown",
   "metadata": {},
   "source": [
    "without ls"
   ]
  },
  {
   "cell_type": "code",
   "execution_count": 28,
   "metadata": {},
   "outputs": [],
   "source": [
    "def initial_solution_construction_no_LS(instance, w1, w2, w3, w4, w5, gamma):\n",
    "    A = [c for c in range (1, instance.N)]\n",
    "    solution = h.recreate(instance, [[[[] for _ in range(instance.h)], [[] for _ in range(instance.D)]],A], w1, w2, w3, w4, w5, gamma)\n",
    "    return solution"
   ]
  },
  {
   "cell_type": "code",
   "execution_count": 29,
   "metadata": {},
   "outputs": [],
   "source": [
    "def SISSRs_no_LS(instance, sigma, c_average_removed, L_max, w1, w2, w3, w4, w5, gamma, n_nearest, delta, epsilon, iter_imp, iter_max, p_min, p_max, max_unfeasible_swaps_perturb):\n",
    "    s_0 = initial_solution_construction_no_LS(instance, w1, w2, w3, w4, w5, gamma)\n",
    "    s_curr = s_0\n",
    "    s_best = s_0\n",
    "    iterations_without_improvement = 0\n",
    "    iteration_counter = 0\n",
    "    while (iteration_counter < iter_max):\n",
    "        s = h.ruin_and_recreate(instance, copy.deepcopy(s_curr), sigma, c_average_removed, L_max, w1, w2, w3, w4, w5, gamma)\n",
    "        if u.cost(instance, s) < u.cost(instance, s_curr)*(1+delta):\n",
    "            s_curr = s\n",
    "            if u.cost(instance, s_curr) < u.cost(instance, s_best):\n",
    "                s_best = s_curr\n",
    "                iterations_without_improvement = 0\n",
    "            else:\n",
    "                iterations_without_improvement += 1\n",
    "        if iterations_without_improvement >= iter_imp:\n",
    "            s_curr = h.perturbate(instance, s_curr, p_min, p_max, max_unfeasible_swaps_perturb)\n",
    "            iterations_without_improvement = 0\n",
    "        delta = delta * epsilon\n",
    "        iteration_counter+=1\n",
    "    \n",
    "    return s_best"
   ]
  },
  {
   "cell_type": "markdown",
   "metadata": {},
   "source": [
    "no Threshold acceptence"
   ]
  },
  {
   "cell_type": "code",
   "execution_count": 30,
   "metadata": {},
   "outputs": [],
   "source": [
    "def SISSRs_no_TA(instance, sigma, c_average_removed, L_max, w1, w2, w3, w4, w5, gamma, n_nearest, delta, epsilon, iter_imp, iter_max, p_min, p_max, max_unfeasible_swaps_perturb):\n",
    "    s_0 = h.initial_solution_construction(instance, w1, w2, w3, w4, w5, gamma, n_nearest)\n",
    "    s_curr = s_0\n",
    "    s_best = s_0\n",
    "    iterations_without_improvement = 0\n",
    "    iteration_counter = 0\n",
    "    while (iteration_counter < iter_max):\n",
    "        s = h.ruin_and_recreate(instance, copy.deepcopy(s_curr), sigma, c_average_removed, L_max, w1, w2, w3, w4, w5, gamma)\n",
    "        if u.cost(instance, s) < u.cost(instance, s_curr):\n",
    "            s_curr = h.local_search(instance, s, n_nearest)\n",
    "            if u.cost(instance, s_curr) < u.cost(instance, s_best):\n",
    "                s_best = s_curr\n",
    "                iterations_without_improvement = 0\n",
    "            else:\n",
    "                iterations_without_improvement += 1\n",
    "        if iterations_without_improvement >= iter_imp:\n",
    "            s_curr = h.perturbate(instance, s_curr, p_min, p_max, max_unfeasible_swaps_perturb)\n",
    "            iterations_without_improvement = 0\n",
    "        iteration_counter+=1\n",
    "    \n",
    "    return s_best"
   ]
  },
  {
   "cell_type": "markdown",
   "metadata": {},
   "source": [
    "no perturbation"
   ]
  },
  {
   "cell_type": "code",
   "execution_count": 31,
   "metadata": {},
   "outputs": [],
   "source": [
    "def SISSRs_no_pert(instance, sigma, c_average_removed, L_max, w1, w2, w3, w4, w5, gamma, n_nearest, delta, epsilon, iter_imp, iter_max, p_min, p_max, max_unfeasible_swaps_perturb):\n",
    "    s_0 = h.initial_solution_construction(instance, w1, w2, w3, w4, w5, gamma, n_nearest)\n",
    "    s_curr = s_0\n",
    "    s_best = s_0\n",
    "    iterations_without_improvement = 0\n",
    "    iteration_counter = 0\n",
    "    \n",
    "    while (iteration_counter < iter_max):\n",
    "        s = h.ruin_and_recreate(instance, copy.deepcopy(s_curr), sigma, c_average_removed, L_max, w1, w2, w3, w4, w5, gamma)\n",
    "        if u.cost(instance, s) < u.cost(instance, s_curr) * (1 + delta):\n",
    "            s_curr = h.local_search(instance, s, n_nearest)\n",
    "            if u.cost(instance, s_curr) < u.cost(instance, s_best):\n",
    "                s_best = s_curr\n",
    "                iterations_without_improvement = 0\n",
    "            else:\n",
    "                iterations_without_improvement += 1\n",
    "        delta = delta * epsilon\n",
    "        iteration_counter += 1\n",
    "    \n",
    "    return s_best\n"
   ]
  },
  {
   "cell_type": "markdown",
   "metadata": {},
   "source": [
    "no sweep removal"
   ]
  },
  {
   "cell_type": "code",
   "execution_count": 32,
   "metadata": {},
   "outputs": [],
   "source": [
    "def ruin_and_recreate_no_sweep(instance, solution, sigma, c_average_removed, L_max, w1, w2, w3, w4, w5, gamma):\n",
    "   \n",
    "    solution = h.random_drone_customer_removal(solution, sigma)\n",
    "\n",
    "    solution = h.string_removal(instance, solution, c_average_removed, L_max)\n",
    "\n",
    "    solution = h.recreate(instance, solution, w1, w2, w3, w4, w5, gamma)\n",
    "\n",
    "    return solution\n"
   ]
  },
  {
   "cell_type": "code",
   "execution_count": 33,
   "metadata": {},
   "outputs": [],
   "source": [
    "def SISSRs_no_sweep(instance, sigma, c_average_removed, L_max, w1, w2, w3, w4, w5, gamma, n_nearest, delta, epsilon, iter_imp, iter_max, p_min, p_max, max_unfeasible_swaps_perturb):\n",
    "    \n",
    "    s_0 = h.initial_solution_construction(instance, w1, w2, w3, w4, w5, gamma, n_nearest)\n",
    "    s_curr = s_0\n",
    "    s_best = s_0\n",
    "    iterations_without_improvement = 0\n",
    "    iteration_counter = 0\n",
    "    while (iteration_counter < iter_max):\n",
    "        s = ruin_and_recreate_no_sweep(instance, copy.deepcopy(s_curr), sigma, c_average_removed, L_max, w1, w2, w3, w4, w5, gamma)\n",
    "        if u.cost(instance, s) < u.cost(instance, s_curr)*(1+delta):\n",
    "            s_curr = h.local_search(instance, s, n_nearest)\n",
    "            if u.cost(instance, s_curr) < u.cost(instance, s_best):\n",
    "                s_best = s_curr\n",
    "                iterations_without_improvement = 0\n",
    "            else:\n",
    "                iterations_without_improvement += 1\n",
    "        if iterations_without_improvement >= iter_imp:\n",
    "            s_curr = h.perturbate(instance, s_curr, p_min, p_max, max_unfeasible_swaps_perturb)\n",
    "            iterations_without_improvement = 0\n",
    "        delta = delta * epsilon\n",
    "        iteration_counter+=1\n",
    "    \n",
    "    return s_best"
   ]
  },
  {
   "cell_type": "markdown",
   "metadata": {},
   "source": [
    "no random removal"
   ]
  },
  {
   "cell_type": "code",
   "execution_count": 34,
   "metadata": {},
   "outputs": [],
   "source": [
    "def ruin_and_recreate_no_rand(instance, solution, sigma, c_average_removed, L_max, w1, w2, w3, w4, w5, gamma):\n",
    "   \n",
    "    solution = h.sweep_removal_operator(instance, solution, sigma)\n",
    "\n",
    "    solution = h.string_removal(instance, solution, c_average_removed, L_max)\n",
    "\n",
    "    solution = h.recreate(instance, solution, w1, w2, w3, w4, w5, gamma)\n",
    "\n",
    "    return solution\n"
   ]
  },
  {
   "cell_type": "code",
   "execution_count": 35,
   "metadata": {},
   "outputs": [],
   "source": [
    "def SISSRs_no_rand(instance, sigma, c_average_removed, L_max, w1, w2, w3, w4, w5, gamma, n_nearest, delta, epsilon, iter_imp, iter_max, p_min, p_max, max_unfeasible_swaps_perturb):\n",
    "    s_0 = h.initial_solution_construction(instance, w1, w2, w3, w4, w5, gamma, n_nearest)\n",
    "    s_curr = s_0\n",
    "    s_best = s_0\n",
    "    iterations_without_improvement = 0\n",
    "    iteration_counter = 0\n",
    "    while (iteration_counter < iter_max):\n",
    "        s = ruin_and_recreate_no_rand(instance, copy.deepcopy(s_curr), sigma, c_average_removed, L_max, w1, w2, w3, w4, w5, gamma)\n",
    "        if u.cost(instance, s) < u.cost(instance, s_curr)*(1+delta):\n",
    "            s_curr = h.local_search(instance, s, n_nearest)\n",
    "            if u.cost(instance, s_curr) < u.cost(instance, s_best):\n",
    "                s_best = s_curr\n",
    "                iterations_without_improvement = 0\n",
    "            else:\n",
    "                iterations_without_improvement += 1\n",
    "        if iterations_without_improvement >= iter_imp:\n",
    "            s_curr = h.perturbate(instance, s_curr, p_min, p_max, max_unfeasible_swaps_perturb)\n",
    "            iterations_without_improvement = 0\n",
    "        delta = delta * epsilon\n",
    "        iteration_counter+=1\n",
    "    \n",
    "    return s_best"
   ]
  },
  {
   "cell_type": "markdown",
   "metadata": {},
   "source": [
    "tests"
   ]
  },
  {
   "cell_type": "markdown",
   "metadata": {},
   "source": [
    "farei una cosa del genere (vedi sotto) per testare ogni variante con diverse istanze e salvare in un csv il valore medio della differenza percentuale rispetto alla soluzione trovata con il SISSRs originale e il tempo medio impiegato"
   ]
  },
  {
   "cell_type": "markdown",
   "metadata": {},
   "source": [
    "osservare: local search più dispendioso ma più importante"
   ]
  },
  {
   "cell_type": "code",
   "execution_count": 36,
   "metadata": {},
   "outputs": [
    {
     "name": "stdout",
     "output_type": "stream",
     "text": [
      "Original method for instance 30-c-1-c\n",
      "SISSRs_no_LS\n",
      "SISSRs_no_TA\n",
      "SISSRs_no_pert\n",
      "SISSRs_no_rand\n",
      "SISSRs_no_sweep\n",
      "Original method for instance 30-c-1-e\n",
      "SISSRs_no_LS\n",
      "SISSRs_no_TA\n",
      "SISSRs_no_pert\n",
      "SISSRs_no_rand\n",
      "SISSRs_no_sweep\n",
      "Original method for instance 30-c-1-r\n",
      "SISSRs_no_LS\n",
      "SISSRs_no_TA\n",
      "SISSRs_no_pert\n",
      "SISSRs_no_rand\n",
      "SISSRs_no_sweep\n",
      "Original method for instance 30-r-1-c\n",
      "SISSRs_no_LS\n",
      "SISSRs_no_TA\n",
      "SISSRs_no_pert\n",
      "SISSRs_no_rand\n",
      "SISSRs_no_sweep\n",
      "Original method for instance 30-r-1-e\n",
      "SISSRs_no_LS\n",
      "SISSRs_no_TA\n",
      "SISSRs_no_pert\n",
      "SISSRs_no_rand\n",
      "SISSRs_no_sweep\n",
      "Original method for instance 30-r-1-r\n",
      "SISSRs_no_LS\n",
      "SISSRs_no_TA\n",
      "SISSRs_no_pert\n",
      "SISSRs_no_rand\n",
      "SISSRs_no_sweep\n",
      "Original method for instance 30-rc-1-c\n",
      "SISSRs_no_LS\n",
      "SISSRs_no_TA\n",
      "SISSRs_no_pert\n",
      "SISSRs_no_rand\n",
      "SISSRs_no_sweep\n",
      "Original method for instance 30-rc-1-e\n",
      "SISSRs_no_LS\n",
      "SISSRs_no_TA\n",
      "SISSRs_no_pert\n",
      "SISSRs_no_rand\n",
      "SISSRs_no_sweep\n",
      "Original method for instance 30-rc-1-r\n",
      "SISSRs_no_LS\n",
      "SISSRs_no_TA\n",
      "SISSRs_no_pert\n",
      "SISSRs_no_rand\n",
      "SISSRs_no_sweep\n"
     ]
    }
   ],
   "source": [
    "import time\n",
    "import copy\n",
    "import pandas as pd\n",
    "\n",
    "def test_variants_on_instances(original_method, variants, instances,  sigma, c_average_removed, L_max, w1, w2, w3, w4, w5, gamma, n_nearest, delta, epsilon, iter_imp, iter_max, p_min, p_max, max_unfeasible_swaps_perturb):\n",
    "    results = []\n",
    "            \n",
    "    for instance_name in instances:\n",
    "        print(\"Original method for instance \" + instance_name)\n",
    "        instance = PDSVRP_instance.PDSVRPInstance(\"instances/\" + instance_name + \".txt\") # Assumi che le istanze abbiano una rappresentazione stringa unica\n",
    "        \n",
    "                # Esegui il metodo originale\n",
    "        start_time = time.time()\n",
    "        sol_original = original_method(instance, sigma, c_average_removed, L_max, w1, w2, w3, w4, w5, gamma, n_nearest, delta, epsilon, iter_imp, iter_max, p_min, p_max, max_unfeasible_swaps_perturb)\n",
    "        end_time = time.time()\n",
    "        cost_original = u.cost(instance, sol_original)\n",
    "        elapsed_time_original = end_time - start_time\n",
    "\n",
    "        for variant in variants:\n",
    "            variant_name = variant.__name__\n",
    "            print(variant_name)\n",
    "                \n",
    "            # Esegui la variante\n",
    "            start_time = time.time()\n",
    "            sol_variant = variant(instance, sigma, c_average_removed, L_max, w1, w2, w3, w4, w5, gamma, n_nearest, delta, epsilon, iter_imp, iter_max, p_min, p_max, max_unfeasible_swaps_perturb)\n",
    "            end_time = time.time()\n",
    "            cost_variant =u.cost(instance, sol_variant)\n",
    "            elapsed_time_variant = end_time - start_time\n",
    "                \n",
    "            # Calcola la differenza percentuale dei costi\n",
    "            cost_difference = ((cost_variant - cost_original) / cost_original) * 100\n",
    "                \n",
    "                # Memorizza i risultati\n",
    "            results.append({\n",
    "                \"method\": original_method.__name__,\n",
    "                \"variant\": variant_name,\n",
    "                \"instance\": instance_name,\n",
    "                \"cost_original\": cost_original,\n",
    "                \"cost_variant\": cost_variant,\n",
    "                \"cost_difference_percentage\": cost_difference,\n",
    "                \"time_original\": elapsed_time_original,\n",
    "                \"time_variant\": elapsed_time_variant,\n",
    "                \"iter_imp\" : iter_imp,\n",
    "                \"iter_max\": iter_max\n",
    "            })\n",
    "    \n",
    "    return results\n",
    "\n",
    "def save_results_to_csv(results, filename):\n",
    "    df = pd.DataFrame(results)\n",
    "    df.to_csv(filename, index=False)\n",
    "\n",
    "# Definisci i metodi e le varianti\n",
    "method = h.SISSRs\n",
    "variants = [SISSRs_no_LS, SISSRs_no_TA, SISSRs_no_pert, SISSRs_no_rand, SISSRs_no_sweep]\n",
    "instances = []\n",
    "\n",
    "for customers_position in [\"c\", \"r\", \"rc\"]:\n",
    "    for depot_position in [\"c\", \"e\", \"r\"]:\n",
    "        instances.append(\"30-\" + customers_position + \"-1-\" + depot_position)\n",
    "\n",
    "# Esegui i test e ottieni i risultati\n",
    "results = test_variants_on_instances(method, variants, instances, 0.3, 4.5, 4.5, 5,1,1,2,2, 0.1, 20, 0.1, 0.999975, 500, 5000, 3, 3, 9)\n",
    "\n",
    "# Salva i risultati in un file CSV\n",
    "save_results_to_csv(results, \"results/impact_of_components_results.csv\")\n"
   ]
  },
  {
   "cell_type": "code",
   "execution_count": 7,
   "metadata": {},
   "outputs": [
    {
     "data": {
      "image/png": "[encoded data removed]",
      "text/plain": [
       "<Figure size 1000x600 with 1 Axes>"
      ]
     },
     "metadata": {},
     "output_type": "display_data"
    }
   ],
   "source": [
    "import pandas as pd\n",
    "import matplotlib.pyplot as plt\n",
    "import seaborn as sns\n",
    "\n",
    "# Leggi il file CSV\n",
    "file_path = 'results/impact_of_components_results.csv'  # sostituisci con il percorso corretto del tuo file\n",
    "data = pd.read_csv(file_path)\n",
    "\n",
    "# Calcola la differenza tra time_original e time_variant\n",
    "data['time_difference'] = (-data['time_original'] + data['time_variant']) * 100 / data['time_original']\n",
    "\n",
    "# Raggruppa i dati per la colonna 'variant' e calcola la media della cost_difference_percentage e della differenza di tempo\n",
    "grouped_data = data.groupby('variant').agg({\n",
    "    'cost_difference_percentage': 'mean',\n",
    "    'time_difference': 'mean'\n",
    "}).reset_index()\n",
    "\n",
    "# Approssima i numeri a una sola cifra decimale\n",
    "grouped_data['cost_difference_percentage'] = grouped_data['cost_difference_percentage'].round(1)\n",
    "grouped_data['time_difference'] = grouped_data['time_difference'].round(1)\n",
    "\n",
    "# Rinomina le colonne\n",
    "grouped_data.columns = ['variant', '% gap from SISSRs solution', '% execution time saved']\n",
    "\n",
    "# Crea una tabella utilizzando matplotlib\n",
    "fig, ax = plt.subplots(figsize=(10, 6))  # puoi regolare le dimensioni della figura\n",
    "ax.axis('tight')\n",
    "ax.axis('off')\n",
    "table = ax.table(cellText=grouped_data.values, colLabels=grouped_data.columns, cellLoc='center', loc='center', colColours=['skyblue']*len(grouped_data.columns))\n",
    "\n",
    "# Mostra la tabella\n",
    "plt.show()\n",
    "\n"
   ]
  }
 ],
 "metadata": {
  "kernelspec": {
   "display_name": "Python 3",
   "language": "python",
   "name": "python3"
  },
  "language_info": {
   "codemirror_mode": {
    "name": "ipython",
    "version": 3
   },
   "file_extension": ".py",
   "mimetype": "text/x-python",
   "name": "python",
   "nbconvert_exporter": "python",
   "pygments_lexer": "ipython3",
   "version": "3.11.9"
  }
 },
 "nbformat": 4,
 "nbformat_minor": 2
}

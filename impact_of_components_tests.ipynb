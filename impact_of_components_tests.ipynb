{
 "cells": [
  {
   "cell_type": "code",
   "execution_count": 25,
   "metadata": {},
   "outputs": [],
   "source": [
    "import random\n",
    "import numpy as np\n",
    "import PDSVRP_instance\n",
    "import copy\n",
    "\n",
    "import time"
   ]
  },
  {
   "cell_type": "code",
   "execution_count": 26,
   "metadata": {},
   "outputs": [],
   "source": [
    "import import_ipynb\n",
    "from importnb import Notebook\n",
    "\n",
    "with Notebook():\n",
    "    import heuristic as h"
   ]
  },
  {
   "cell_type": "markdown",
   "metadata": {},
   "source": [
    "without ls"
   ]
  },
  {
   "cell_type": "code",
   "execution_count": 27,
   "metadata": {},
   "outputs": [],
   "source": [
    "def initial_solution_construction_no_LS(instance, w1, w2, w3, w4, w5, gamma):\n",
    "    A = [c for c in range (1, instance.N)]\n",
    "    solution = h.recreate(instance, [[[[] for _ in range(instance.h)], [[] for _ in range(instance.D)]],A], w1, w2, w3, w4, w5, gamma)\n",
    "    return solution"
   ]
  },
  {
   "cell_type": "code",
   "execution_count": 28,
   "metadata": {},
   "outputs": [],
   "source": [
    "def SISSRs_no_LS(instance, sigma, c_average_removed, L_max, w1, w2, w3, w4, w5, gamma, n_nearest, delta, epsilon, iter_imp, iter_max, p_min, p_max, max_unfeasible_swaps_perturb):\n",
    "    s_0 = initial_solution_construction_no_LS(instance, w1, w2, w3, w4, w5, gamma)\n",
    "    s_curr = s_0\n",
    "    s_best = s_0\n",
    "    iterations_without_improvement = 0\n",
    "    iteration_counter = 0\n",
    "    while (iteration_counter < iter_max):\n",
    "        s = h.ruin_and_recreate(instance, copy.deepcopy(s_curr), sigma, c_average_removed, L_max, w1, w2, w3, w4, w5, gamma)\n",
    "        if h.cost(instance, s) < h.cost(instance, s_curr)*(1+delta):\n",
    "            s_curr = s\n",
    "            if h.cost(instance, s_curr) < h.cost(instance, s_best):\n",
    "                s_best = s_curr\n",
    "                iterations_without_improvement = 0\n",
    "            else:\n",
    "                iterations_without_improvement += 1\n",
    "        if iterations_without_improvement >= iter_imp:\n",
    "            s_curr = h.perturbate(instance, s_curr, p_min, p_max, max_unfeasible_swaps_perturb)\n",
    "            iterations_without_improvement = 0\n",
    "        delta = delta * epsilon\n",
    "        iteration_counter+=1\n",
    "    \n",
    "    return s_best, h.cost(instance, s_best), elapsed_time "
   ]
  },
  {
   "cell_type": "markdown",
   "metadata": {},
   "source": [
    "no Threshold acceptence"
   ]
  },
  {
   "cell_type": "code",
   "execution_count": 29,
   "metadata": {},
   "outputs": [],
   "source": [
    "def SISSRs_no_TA(instance, sigma, c_average_removed, L_max, w1, w2, w3, w4, w5, gamma, n_nearest, delta, epsilon, iter_imp, iter_max, p_min, p_max, max_unfeasible_swaps_perturb):\n",
    "    start_time = time.time() \n",
    "    s_0 = h.initial_solution_construction(instance, w1, w2, w3, w4, w5, gamma, n_nearest)\n",
    "    s_curr = s_0\n",
    "    s_best = s_0\n",
    "    iterations_without_improvement = 0\n",
    "    iteration_counter = 0\n",
    "    while (iteration_counter < iter_max):\n",
    "        s = h.ruin_and_recreate(instance, copy.deepcopy(s_curr), sigma, c_average_removed, L_max, w1, w2, w3, w4, w5, gamma)\n",
    "        if h.cost(instance, s) < h.cost(instance, s_curr):\n",
    "            s_curr = h.local_search(instance, s, n_nearest)\n",
    "            if h.cost(instance, s_curr) < h.cost(instance, s_best):\n",
    "                s_best = s_curr\n",
    "                iterations_without_improvement = 0\n",
    "            else:\n",
    "                iterations_without_improvement += 1\n",
    "        if iterations_without_improvement >= iter_imp:\n",
    "            s_curr = h.perturbate(instance, s_curr, p_min, p_max, max_unfeasible_swaps_perturb)\n",
    "            iterations_without_improvement = 0\n",
    "        iteration_counter+=1\n",
    "\n",
    "    end_time = time.time() \n",
    "    elapsed_time = end_time - start_time  \n",
    "    \n",
    "    return s_best, h.cost(instance, s_best), elapsed_time "
   ]
  },
  {
   "cell_type": "markdown",
   "metadata": {},
   "source": [
    "no perturbation"
   ]
  },
  {
   "cell_type": "code",
   "execution_count": 30,
   "metadata": {},
   "outputs": [],
   "source": [
    "def SISSRs_no_pert(instance, sigma, c_average_removed, L_max, w1, w2, w3, w4, w5, gamma, n_nearest, delta, epsilon, iter_imp, iter_max, p_min, p_max, max_unfeasible_swaps_perturb):\n",
    "    s_0 = h.initial_solution_construction(instance, w1, w2, w3, w4, w5, gamma, n_nearest)\n",
    "    s_curr = s_0\n",
    "    s_best = s_0\n",
    "    iterations_without_improvement = 0\n",
    "    iteration_counter = 0\n",
    "    \n",
    "    while (iteration_counter < iter_max):\n",
    "        s = h.ruin_and_recreate(instance, copy.deepcopy(s_curr), sigma, c_average_removed, L_max, w1, w2, w3, w4, w5, gamma)\n",
    "        if h.cost(instance, s) < h.cost(instance, s_curr) * (1 + delta):\n",
    "            s_curr = h.local_search(instance, s, n_nearest)\n",
    "            if h.cost(instance, s_curr) < h.cost(instance, s_best):\n",
    "                s_best = s_curr\n",
    "                iterations_without_improvement = 0\n",
    "            else:\n",
    "                iterations_without_improvement += 1\n",
    "        delta = delta * epsilon\n",
    "        iteration_counter += 1\n",
    "    \n",
    "    return s_best\n"
   ]
  },
  {
   "cell_type": "markdown",
   "metadata": {},
   "source": [
    "no sweep removal"
   ]
  },
  {
   "cell_type": "code",
   "execution_count": 31,
   "metadata": {},
   "outputs": [],
   "source": [
    "def ruin_and_recreate_no_sweep(instance, solution, sigma, c_average_removed, L_max, w1, w2, w3, w4, w5, gamma):\n",
    "   \n",
    "    solution = h.random_drone_customer_removal(solution, sigma)\n",
    "\n",
    "    solution = h.string_removal(instance, solution, c_average_removed, L_max)\n",
    "\n",
    "    solution = h.recreate(instance, solution, w1, w2, w3, w4, w5, gamma)\n",
    "\n",
    "    return solution\n"
   ]
  },
  {
   "cell_type": "code",
   "execution_count": 32,
   "metadata": {},
   "outputs": [],
   "source": [
    "def SISSRs_no_sweep(instance, sigma, c_average_removed, L_max, w1, w2, w3, w4, w5, gamma, n_nearest, delta, epsilon, iter_imp, iter_max, p_min, p_max, max_unfeasible_swaps_perturb):\n",
    "    \n",
    "    s_0 = h.initial_solution_construction(instance, w1, w2, w3, w4, w5, gamma, n_nearest)\n",
    "    s_curr = s_0\n",
    "    s_best = s_0\n",
    "    iterations_without_improvement = 0\n",
    "    iteration_counter = 0\n",
    "    while (iteration_counter < iter_max):\n",
    "        s = ruin_and_recreate_no_sweep(instance, copy.deepcopy(s_curr), sigma, c_average_removed, L_max, w1, w2, w3, w4, w5, gamma)\n",
    "        if h.cost(instance, s) < h.cost(instance, s_curr)*(1+delta):\n",
    "            s_curr = h.local_search(instance, s, n_nearest)\n",
    "            if h.cost(instance, s_curr) < h.cost(instance, s_best):\n",
    "                s_best = s_curr\n",
    "                iterations_without_improvement = 0\n",
    "            else:\n",
    "                iterations_without_improvement += 1\n",
    "        if iterations_without_improvement >= iter_imp:\n",
    "            s_curr = h.perturbate(instance, s_curr, p_min, p_max, max_unfeasible_swaps_perturb)\n",
    "            iterations_without_improvement = 0\n",
    "        delta = delta * epsilon\n",
    "        iteration_counter+=1\n",
    "    \n",
    "    return s_best"
   ]
  },
  {
   "cell_type": "markdown",
   "metadata": {},
   "source": [
    "no random removal"
   ]
  },
  {
   "cell_type": "code",
   "execution_count": 33,
   "metadata": {},
   "outputs": [],
   "source": [
    "def ruin_and_recreate_no_rand(instance, solution, sigma, c_average_removed, L_max, w1, w2, w3, w4, w5, gamma):\n",
    "   \n",
    "    solution = h.sweep_removal_operator(instance, solution, sigma)\n",
    "\n",
    "    solution = h.string_removal(instance, solution, c_average_removed, L_max)\n",
    "\n",
    "    solution = h.recreate(instance, solution, w1, w2, w3, w4, w5, gamma)\n",
    "\n",
    "    return solution\n"
   ]
  },
  {
   "cell_type": "code",
   "execution_count": 34,
   "metadata": {},
   "outputs": [],
   "source": [
    "def SISSRs_no_rand(instance, sigma, c_average_removed, L_max, w1, w2, w3, w4, w5, gamma, n_nearest, delta, epsilon, iter_imp, iter_max, p_min, p_max, max_unfeasible_swaps_perturb):\n",
    "    s_0 = h.initial_solution_construction(instance, w1, w2, w3, w4, w5, gamma, n_nearest)\n",
    "    s_curr = s_0\n",
    "    s_best = s_0\n",
    "    iterations_without_improvement = 0\n",
    "    iteration_counter = 0\n",
    "    while (iteration_counter < iter_max):\n",
    "        s = ruin_and_recreate_no_rand(instance, copy.deepcopy(s_curr), sigma, c_average_removed, L_max, w1, w2, w3, w4, w5, gamma)\n",
    "        if h.cost(instance, s) < h.cost(instance, s_curr)*(1+delta):\n",
    "            s_curr = h.local_search(instance, s, n_nearest)\n",
    "            if h.cost(instance, s_curr) < h.cost(instance, s_best):\n",
    "                s_best = s_curr\n",
    "                iterations_without_improvement = 0\n",
    "            else:\n",
    "                iterations_without_improvement += 1\n",
    "        if iterations_without_improvement >= iter_imp:\n",
    "            s_curr = h.perturbate(instance, s_curr, p_min, p_max, max_unfeasible_swaps_perturb)\n",
    "            iterations_without_improvement = 0\n",
    "        delta = delta * epsilon\n",
    "        iteration_counter+=1\n",
    "    \n",
    "    return s_best"
   ]
  },
  {
   "cell_type": "markdown",
   "metadata": {},
   "source": [
    "tests"
   ]
  },
  {
   "cell_type": "markdown",
   "metadata": {},
   "source": [
    "farei una cosa del genere (vedi sotto) per testare ogni variante con diverse istanze e salvare in un csv il valore medio della differenza percentuale rispetto alla soluzione trovata con il SISSRs originale e il tempo medio impiegato"
   ]
  },
  {
   "cell_type": "code",
   "execution_count": null,
   "metadata": {},
   "outputs": [],
   "source": [
    "import time\n",
    "import copy\n",
    "import pandas as pd\n",
    "\n",
    "def test_methods_on_instances(methods, variants, instances):\n",
    "    results = []\n",
    "    for method in methods:\n",
    "        method_name = method.__name__\n",
    "        \n",
    "        for variant in variants:\n",
    "            variant_name = variant.__name__\n",
    "            \n",
    "            for instance in instances:\n",
    "                instance_name = str(instance)  # Assumi che le istanze abbiano una rappresentazione stringa unica\n",
    "                \n",
    "                # Esegui il metodo originale\n",
    "                start_time = time.time()\n",
    "                sol_original, cost_original, time_original = method(instance)\n",
    "                end_time = time.time()\n",
    "                elapsed_time_original = end_time - start_time\n",
    "                \n",
    "                # Esegui la variante\n",
    "                start_time = time.time()\n",
    "                sol_variant, cost_variant, time_variant = variant(instance)\n",
    "                end_time = time.time()\n",
    "                elapsed_time_variant = end_time - start_time\n",
    "                \n",
    "                # Calcola la differenza percentuale dei costi\n",
    "                cost_difference = ((cost_variant - cost_original) / cost_original) * 100\n",
    "                \n",
    "                # Memorizza i risultati\n",
    "                results.append({\n",
    "                    \"method\": method_name,\n",
    "                    \"variant\": variant_name,\n",
    "                    \"instance\": instance_name,\n",
    "                    \"cost_original\": cost_original,\n",
    "                    \"cost_variant\": cost_variant,\n",
    "                    \"cost_difference_percentage\": cost_difference,\n",
    "                    \"time_original\": elapsed_time_original,\n",
    "                    \"time_variant\": elapsed_time_variant\n",
    "                })\n",
    "    \n",
    "    return results\n",
    "\n",
    "def save_results_to_csv(results, filename):\n",
    "    df = pd.DataFrame(results)\n",
    "    df.to_csv(filename, index=False)\n",
    "\n",
    "# Esempio di utilizzo\n",
    "def original_method(instance):\n",
    "    # Implementazione del metodo originale\n",
    "    return \"sol\", 100, 10\n",
    "\n",
    "def variant_1(instance):\n",
    "    # Implementazione della variante 1\n",
    "    return \"sol\", 105, 12\n",
    "\n",
    "def variant_2(instance):\n",
    "    # Implementazione della variante 2\n",
    "    return \"sol\", 95, 11\n",
    "\n",
    "# Definisci i metodi e le varianti\n",
    "methods = [original_method]\n",
    "variants = [variant_1, variant_2]\n",
    "\n",
    "# Definisci le istanze su cui testare i metodi\n",
    "instances = [\"instance1\", \"instance2\"]\n",
    "\n",
    "# Esegui i test e ottieni i risultati\n",
    "results = test_methods_on_instances(methods, variants, instances)\n",
    "\n",
    "# Salva i risultati in un file CSV\n",
    "save_results_to_csv(results, \"results.csv\")\n"
   ]
  }
 ],
 "metadata": {
  "kernelspec": {
   "display_name": "Python 3",
   "language": "python",
   "name": "python3"
  },
  "language_info": {
   "codemirror_mode": {
    "name": "ipython",
    "version": 3
   },
   "file_extension": ".py",
   "mimetype": "text/x-python",
   "name": "python",
   "nbconvert_exporter": "python",
   "pygments_lexer": "ipython3",
   "version": "3.11.9"
  }
 },
 "nbformat": 4,
 "nbformat_minor": 2
}

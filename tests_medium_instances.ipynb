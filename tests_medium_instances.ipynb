{
 "cells": [
  {
   "cell_type": "code",
   "execution_count": 1,
   "metadata": {},
   "outputs": [],
   "source": [
    "\n",
    "from instancePDSVRP import instancePDSVRP\n",
    "import copy\n",
    "import time\n",
    "import heuristic as h\n",
    "import utilities as u"
   ]
  },
  {
   "cell_type": "markdown",
   "metadata": {},
   "source": [
    "Method that returns also the initial solution"
   ]
  },
  {
   "cell_type": "code",
   "execution_count": 2,
   "metadata": {},
   "outputs": [],
   "source": [
    "def SISSRs_with_initial_solution_return(instance, sigma, c_average_removed, L_max, w1, w2, w3, w4, w5, gamma, n_nearest, delta, epsilon, iter_imp, iter_max, p_min, p_max, max_unfeasible_swaps_perturb):\n",
    "    s_0 = h.initial_solution_construction(instance, w1, w2, w3, w4, w5, gamma, n_nearest)\n",
    "    s_curr = s_0\n",
    "    s_best = s_0\n",
    "    iterations_without_improvement = 0\n",
    "    iteration_counter = 0\n",
    "    while (iteration_counter < iter_max):\n",
    "        s = h.ruin_and_recreate(instance, copy.deepcopy(s_curr), sigma, c_average_removed, L_max, w1, w2, w3, w4, w5, gamma)\n",
    "        if u.cost(instance, s) < u.cost(instance, s_curr)*(1+delta):\n",
    "            s_curr = h.local_search(instance, s, n_nearest)\n",
    "            if u.cost(instance, s_curr) < u.cost(instance, s_best):\n",
    "                s_best = s_curr\n",
    "                iterations_without_improvement = 0\n",
    "            else:\n",
    "                iterations_without_improvement += 1\n",
    "        if iterations_without_improvement >= iter_imp:\n",
    "            s_curr = h.perturbate(instance, s_curr, p_min, p_max, max_unfeasible_swaps_perturb)\n",
    "            iterations_without_improvement = 0\n",
    "        delta = delta * epsilon\n",
    "        iteration_counter+=1\n",
    "\n",
    "    return s_0, s_best"
   ]
  },
  {
   "cell_type": "markdown",
   "metadata": {},
   "source": [
    "Medium instances test"
   ]
  },
  {
   "cell_type": "code",
   "execution_count": 3,
   "metadata": {},
   "outputs": [],
   "source": [
    "def test_robustness(repetitions, heuristic, instances,  sigma, c_average_removed, L_max, w1, w2, w3, w4, w5, gamma, n_nearest, delta, epsilon, iter_imp, iter_max, p_min, p_max, max_unfeasible_swaps_perturb):\n",
    "    results = []\n",
    "            \n",
    "    for instance_name in instances:\n",
    "        instance = instancePDSVRP(\"instances/\" + instance_name + \".txt\")\n",
    "\n",
    "        print(\"Instance: \", instance_name)\n",
    "        avarage_cost = 0\n",
    "        avarage_initial_cost = 0\n",
    "        best_cost = None\n",
    "        avarage_time = 0\n",
    "\n",
    "        customers_served_by_drones = 0\n",
    "        trucks_used = 0\n",
    "\n",
    "        for i in range(repetitions):\n",
    "            print(\"repetition \", i+1)\n",
    "    \n",
    "            start_time = time.time()\n",
    "            init_sol, sol = heuristic(instance, sigma, c_average_removed, L_max, w1, w2, w3, w4, w5, gamma, n_nearest, delta, epsilon, iter_imp, iter_max, p_min, p_max, max_unfeasible_swaps_perturb)\n",
    "            end_time = time.time()\n",
    "            cost_heu = u.cost(instance, sol)\n",
    "            cost_init_heu = u.cost(instance, init_sol)\n",
    "            elapsed_time_heuristic = end_time - start_time\n",
    "            avarage_time += elapsed_time_heuristic\n",
    "            avarage_cost += cost_heu\n",
    "            avarage_initial_cost += cost_init_heu\n",
    "\n",
    "            print(\"costo trovato alla ripetizione \", i + 1, \":\", cost_heu)\n",
    "\n",
    "            if (best_cost == None or (best_cost != None and best_cost > cost_heu)):\n",
    "                best_cost = cost_heu\n",
    "                customers_served_by_drones = 0\n",
    "                trucks_used = 0\n",
    "                for drone_tour in sol[0][1]:\n",
    "                    customers_served_by_drones += len(drone_tour)\n",
    "                for truck_tour in sol[0][0]:\n",
    "                    if len(truck_tour) > 0:\n",
    "                        trucks_used += 1\n",
    "                \n",
    "        avarage_time = avarage_time / repetitions\n",
    "        avarage_cost = avarage_cost / repetitions\n",
    "        avarage_initial_cost = avarage_initial_cost / repetitions\n",
    "\n",
    "        cost_difference = ((avarage_cost - best_cost) / best_cost) * 100\n",
    "        initial_cost_difference = ((avarage_initial_cost - best_cost) / best_cost) * 100\n",
    "\n",
    "        N_t = [i for i in range(1,instance.N) if (instance.w[i] <=  instance.Q_d and ((instance.t_d[i] * 2) <= instance.d_end))]\n",
    "        drone_eligible_customers = len(N_t)\n",
    "\n",
    "        results.append({\n",
    "            \"instance\": instance_name,\n",
    "            \"best_cost\": best_cost,\n",
    "            \"avarage_gap\": cost_difference,\n",
    "            \"avarage_gap_initial_solution\": initial_cost_difference,               \n",
    "            \"avarage_time\": avarage_time,\n",
    "            \"drone_eligible_customers\": drone_eligible_customers,\n",
    "            \"customers_served_by_drones\": customers_served_by_drones,\n",
    "            \"trucks_used\" : trucks_used,\n",
    "            \"repetitions\": repetitions,\n",
    "            \"iter_imp\": iter_imp,\n",
    "            \"iter_max\": iter_max\n",
    "        })\n",
    "    \n",
    "    return results"
   ]
  },
  {
   "cell_type": "code",
   "execution_count": null,
   "metadata": {},
   "outputs": [],
   "source": [
    "heuristic = SISSRs_with_initial_solution_return\n",
    "instances = []\n",
    "\n",
    "for customers_position in [\"c\", \"r\", \"rc\"]:\n",
    "    for depot_position in [\"c\", \"e\", \"r\"]:\n",
    "        instances.append(\"50-\" + customers_position + \"-1-\" + depot_position)\n",
    "\n",
    "#instances = [\"small_instances/10-c-1-c\"]\n",
    "\n",
    "results = test_robustness(10, heuristic, instances, 0.3, 7.5, 7.5, 5,1,1,2,2, 0.1, 20, 0.1, 0.999975, 100, 1000, 3, 5, 9)\n",
    "\n",
    "u.save_results_to_csv(results, \"results/medium_instances_results.csv\")"
   ]
  }
 ],
 "metadata": {
  "kernelspec": {
   "display_name": "Python 3",
   "language": "python",
   "name": "python3"
  },
  "language_info": {
   "codemirror_mode": {
    "name": "ipython",
    "version": 3
   },
   "file_extension": ".py",
   "mimetype": "text/x-python",
   "name": "python",
   "nbconvert_exporter": "python",
   "pygments_lexer": "ipython3",
   "version": "3.12.2"
  }
 },
 "nbformat": 4,
 "nbformat_minor": 2
}

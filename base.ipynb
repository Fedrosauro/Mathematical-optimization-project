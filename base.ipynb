{
 "cells": [
  {
   "cell_type": "markdown",
   "metadata": {},
   "source": [
    "### Imports "
   ]
  },
  {
   "cell_type": "code",
   "execution_count": 1,
   "metadata": {},
   "outputs": [
    {
     "name": "stdout",
     "output_type": "stream",
     "text": [
      "Note: you may need to restart the kernel to use updated packages.\n"
     ]
    },
    {
     "name": "stderr",
     "output_type": "stream",
     "text": [
      "ERROR: Could not find a version that satisfies the requirement gurobi (from versions: none)\n",
      "ERROR: No matching distribution found for gurobi\n"
     ]
    }
   ],
   "source": [
    "%pip install gurobi"
   ]
  },
  {
   "cell_type": "code",
   "execution_count": 2,
   "metadata": {},
   "outputs": [],
   "source": [
    "import gurobipy as gp\n",
    "import math"
   ]
  },
  {
   "cell_type": "code",
   "execution_count": 7,
   "metadata": {},
   "outputs": [
    {
     "ename": "SyntaxError",
     "evalue": "invalid syntax. Perhaps you forgot a comma? (1029223463.py, line 27)",
     "output_type": "error",
     "traceback": [
      "\u001b[1;36m  Cell \u001b[1;32mIn[7], line 27\u001b[1;36m\u001b[0m\n\u001b[1;33m    self.z = self.model.addVars([(i,j) for i in range(self.N + 1) for j in range(self.N +1)], '''lb=0, ub=self.T,''' vtype=gb.GRB.CONTINUOUS, name=\"z\")#ok (lb e ub sono già specificati nei constraits)\u001b[0m\n\u001b[1;37m                                                                                              ^\u001b[0m\n\u001b[1;31mSyntaxError\u001b[0m\u001b[1;31m:\u001b[0m invalid syntax. Perhaps you forgot a comma?\n"
     ]
    }
   ],
   "source": [
    "class OptimizationModel:\n",
    "    def __init__(self, C_T, C_D, D, N, h, coord, t_ij, t_0i, Q, Q_bar, T, T_prime):\n",
    "        self.C_T = C_T #truck transportation cost\n",
    "        self.C_D = C_D #drone transportation cost\n",
    "        self.D = D #number of drones\n",
    "        self.N = N #number of clients \n",
    "        self.h = h #number of trucks\n",
    "        self.coord = coord #nodes coordinates vector\n",
    "        self.t_ij = t_ij\n",
    "        self.t_0i = t_0i\n",
    "        self.Q = Q\n",
    "        self.Q_bar = Q_bar\n",
    "        self.T = T\n",
    "        self.T_prime = T_prime\n",
    "        \n",
    "        self.model = gp.Model(\"OptimizationModel\")\n",
    "        self.x = None\n",
    "        self.y = None\n",
    "        self.z = None\n",
    "        self.u = None\n",
    "        \n",
    "    def build_model(self):\n",
    "        # Define the decision variables\n",
    "        self.x = self.model.addVars([(i,j) for i in range(self.N + 1) for j in range(self.N +1) if i!=j], vtype=gb.GRB.BINARY, name=\"x\")#ho messo +1 perchè lo 0 è il depot e poi ci sono N clienti\n",
    "        self.y = self.model.addVars([(i,k) for i in range(1, self.N + 1) for k in range(self.D)], vtype=gb.GRB.BINARY, name=\"y\")#ok\n",
    "        self.z = self.model.addVars([(i,j) for i in range(self.N + 1) for j in range(self.N +1) if i!=j], '''lb=0, ub=self.T''', vtype=gb.GRB.CONTINUOUS, name=\"z\")#ok (lb e ub sono già specificati nei constraits) \n",
    "        self.u = self.model.addVars([(i) for i in range(1, self.N + 1)], '''lb=0, ub=self.Q''', vtype=gb.GRB.CONTINUOUS, name=\"u\")#ok\n",
    "\n",
    "        # Define the objective function\n",
    "        self.model.setObjective(\n",
    "            gp.quicksum(self.C_T * math.dist(self.coord[i], self.coord[j]) * self.x[i, j] for i in range (self.N +1) for j in range (self.N+1) if i != j) +\n",
    "            gp.quicksum(self.C_D * math.dist(self.coord[0], self.coord[k]) * self.y[k, l] for k in range (1, self.N+1) for l in self.D),\n",
    "            gb.GRB.MINIMIZE\n",
    "        ) #ok\n",
    "\n",
    "        # Add constraints\n",
    "        self.model.addConstr(gp.quicksum(self.x[0, i] for i in range (1, self.N+1)) <= self.h, \"Constraint on number of trucks\") #ok\n",
    "\n",
    "        for j in range(self.N+1):\n",
    "            self.model.addConstr(gp.quicksum(self.x[i, j] for i in range(self.N+1) if i != j) == gp.quicksum(self.x[j, k] for k in range(self.N+1) if k != j), \"Flow constraint\") #ok\n",
    "\n",
    "        for j in self.C_T:\n",
    "            self.model.addConstr(gp.quicksum(self.x[i, j] for i in self.N if i != j) + gp.quicksum(self.y[k, j] for k in self.D) == 1, \"Vincolo(4)\")\n",
    "\n",
    "        for j in self.C_T:\n",
    "            self.model.addConstr(gp.quicksum(self.x[i, j] for i in self.N if i != j) == 1, \"Vincolo(5)\")\n",
    "\n",
    "        for i in self.C:\n",
    "            for j in self.C:\n",
    "                if j != i:\n",
    "                    self.model.addConstr(self.u[i] - self.u[j] + self.Q * self.x[i, j] <= self.Q - self.Q_bar[j], \"Vincolo(6)\")\n",
    "\n",
    "        for k in self.D:\n",
    "            self.model.addConstr(gp.quicksum(self.y[k, j] * self.t_ij[j, k] for j in self.C_T) <= self.T_prime, \"Vincolo(7)\")\n",
    "\n",
    "        for i in self.C:\n",
    "            self.model.addConstr(self.z[i, self.h] + gp.quicksum(self.t_ij[i, j] * self.x[i, j] for j in self.N if j != i) == gp.quicksum(self.z[j, i] for j in self.N if j != i), \"Vincolo(8)\")\n",
    "\n",
    "        for i in self.C:\n",
    "            self.model.addConstr(self.z[0, i] == self.t_0i * self.x[0, i], \"Vincolo(9)\")\n",
    "\n",
    "        for i in self.C:\n",
    "            self.model.addConstr(self.z[i, 0] <= self.T * self.x[i, 0], \"Vincolo(10)\")\n",
    "\n",
    "        self.model.addConstrs((self.x[i, j] == 0 for i in self.N for j in self.N if i == j), \"Vincolo(11)\")\n",
    "        self.model.addConstrs((self.y[j, k] == 0 for j in self.C_T for k in self.D), \"Vincolo(12)\")\n",
    "        self.model.addConstrs((0 <= self.u[i] <= self.Q for i in self.C), \"Vincolo(13)\")\n",
    "        self.model.addConstrs((0 <= self.z[i, j] <= self.T for i in self.N for j in self.N if i != j), \"Vincolo(14)\")\n",
    "\n",
    "    def solve(self):\n",
    "        self.model.optimize()\n",
    "\n",
    "    def print_results(self):\n",
    "        if self.model.status == GRB.OPTIMAL:\n",
    "            for v in self.model.getVars():\n",
    "                print(f'{v.varName}: {v.x}')\n",
    "            print(f'Obj: {self.model.objVal}')\n",
    "        else:\n",
    "            print(\"No optimal solution found.\")\n",
    "\n",
    "'''\n",
    "# Esempio di utilizzo della classe\n",
    "# Definire i dati del problema (questo deve essere adattato ai dati specifici)\n",
    "C = ...\n",
    "C_T = ...\n",
    "D = ...\n",
    "N = ...\n",
    "h = ...\n",
    "d_ij = ...\n",
    "d_prime_jk = ...\n",
    "t_ij = ...\n",
    "t_0i = ...\n",
    "Q = ...\n",
    "Q_bar = ...\n",
    "T = ...\n",
    "T_prime = ...\n",
    "\n",
    "# Creare un'istanza della classe\n",
    "opt_model = OptimizationModel(C, C_T, D, N, h, d_ij, d_prime_jk, t_ij, t_0i, Q, Q_bar, T, T_prime)\n",
    "\n",
    "# Costruire il modello\n",
    "opt_model.build_model()\n",
    "\n",
    "# Risolvere il modello\n",
    "opt_model.solve()\n",
    "\n",
    "# Stampare i risultati\n",
    "opt_model.print_results()\n",
    "'''"
   ]
  },
  {
   "cell_type": "code",
   "execution_count": null,
   "metadata": {},
   "outputs": [],
   "source": [
    "def load_instance(instance):\n",
    "    file = open(instance, 'r')  \n",
    "    "
   ]
  }
 ],
 "metadata": {
  "kernelspec": {
   "display_name": "Python 3",
   "language": "python",
   "name": "python3"
  },
  "language_info": {
   "codemirror_mode": {
    "name": "ipython",
    "version": 3
   },
   "file_extension": ".py",
   "mimetype": "text/x-python",
   "name": "python",
   "nbconvert_exporter": "python",
   "pygments_lexer": "ipython3",
   "version": "3.12.2"
  }
 },
 "nbformat": 4,
 "nbformat_minor": 2
}

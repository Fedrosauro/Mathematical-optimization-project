{
 "cells": [
  {
   "cell_type": "markdown",
   "metadata": {},
   "source": [
    "### Imports "
   ]
  },
  {
   "cell_type": "code",
   "execution_count": 2,
   "metadata": {},
   "outputs": [
    {
     "name": "stdout",
     "output_type": "stream",
     "text": [
      "Requirement already satisfied: gurobipy in c:\\users\\giova\\appdata\\local\\packages\\pythonsoftwarefoundation.python.3.11_qbz5n2kfra8p0\\localcache\\local-packages\\python311\\site-packages (11.0.1)\n",
      "Note: you may need to restart the kernel to use updated packages.\n"
     ]
    }
   ],
   "source": [
    "%pip install gurobipy"
   ]
  },
  {
   "cell_type": "code",
   "execution_count": 3,
   "metadata": {},
   "outputs": [],
   "source": [
    "import gurobipy as gb\n",
    "import math"
   ]
  },
  {
   "cell_type": "code",
   "execution_count": 4,
   "metadata": {},
   "outputs": [
    {
     "data": {
      "text/plain": [
       "\"\\n# Esempio di utilizzo della classe\\n# Definire i dati del problema (questo deve essere adattato ai dati specifici)\\nC = ...\\nC_T = ...\\nD = ...\\nN = ...\\nh = ...\\nd_ij = ...\\nd_prime_jk = ...\\nt_ij = ...\\nt_0i = ...\\nQ = ...\\nQ_bar = ...\\nT = ...\\nT_prime = ...\\n\\n# Creare un'istanza della classe\\nopt_model = OptimizationModel(C, C_T, D, N, h, d_ij, d_prime_jk, t_ij, t_0i, Q, Q_bar, T, T_prime)\\n\\n# Costruire il modello\\nopt_model.build_model()\\n\\n# Risolvere il modello\\nopt_model.solve()\\n\\n# Stampare i risultati\\nopt_model.print_results()\\n\""
      ]
     },
     "execution_count": 4,
     "metadata": {},
     "output_type": "execute_result"
    }
   ],
   "source": [
    "class OptimizationModel:\n",
    "    def __init__(self, C_T, C_D, D, N, h, distances, t_t, t_d, Q_t, Q_d, T_t, T_d, w):\n",
    "        self.C_T = C_T #truck transportation cost\n",
    "        self.C_D = C_D #drone transportation cost\n",
    "        self.D = D #number of drones\n",
    "        self.N = N #number of clients \n",
    "        self.h = h #number of trucks\n",
    "        self.distances= distances #matrix of distances\n",
    "        self.t_t = t_t #matrix of trucks travel times\n",
    "        self.t_d =t_d #vector of drones travel times\n",
    "        self.Q_t = Q_t #truck capacity\n",
    "        self.Q_d = Q_d #drone capacity\n",
    "        self.T_t = T_t #max time truck\n",
    "        self.T_d = T_d #max time drones\n",
    "        self.w = w #weights vector\n",
    "        \n",
    "        self.model = gp.Model(\"OptimizationModel\")\n",
    "        self.x = None\n",
    "        self.y = None\n",
    "        self.z = None\n",
    "        self.u = None\n",
    "        \n",
    "    def build_model(self):\n",
    "        # Define the decision variables\n",
    "        self.x = self.model.addVars([(i,j) for i in range(self.N + 1) for j in range(self.N +1) if i!=j], vtype=gb.GRB.BINARY, name=\"x\")#ho messo +1 perchè lo 0 è il depot e poi ci sono N clienti\n",
    "        self.y = self.model.addVars([(i,k) for i in range(1, self.N + 1) for k in range(self.D)], vtype=gb.GRB.BINARY, name=\"y\")#ok\n",
    "        self.z = self.model.addVars([(i,j) for i in range(self.N + 1) for j in range(self.N +1) if i!=j], lb=0, ub=self.T_t, vtype=gb.GRB.CONTINUOUS, name=\"z\")#ok (lb e ub sono già specificati nei constraits) \n",
    "        self.u = self.model.addVars([(i) for i in range(1, self.N + 1)], lb=0, ub=self.Q_t, vtype=gb.GRB.CONTINUOUS, name=\"u\")#ok\n",
    "\n",
    "        # Define the objective function\n",
    "        self.model.setObjective(\n",
    "            gp.quicksum(self.C_T * self.distances[i,j] * self.x[i, j] for i in range (self.N +1) for j in range (self.N+1) if i != j) +\n",
    "            gp.quicksum(self.C_D * self.distances[0,k] * self.y[k, l] for k in range (1, self.N+1) for l in self.D),\n",
    "            gb.GRB.MINIMIZE\n",
    "        ) #ok\n",
    "\n",
    "        N_t = []\n",
    "        N_t.append(i for i in range(1,self.N+1) if self.w[i]> self.Q_d) #indexes of clients that must be served by trucks\n",
    "        N_f = []\n",
    "        N_f.append(i for i in range(1,self.N+1) if self.w[i]<= self.Q_d) #indexes of clients that can ber served either by e truck or a drone\n",
    "\n",
    "        # Add constraints\n",
    "        self.model.addConstr(gp.quicksum(self.x[0, i] for i in range (1, self.N+1)) <= self.h, \"2) Constraint on number of trucks\") #ok\n",
    "\n",
    "        for j in range(self.N+1):\n",
    "            self.model.addConstr(gp.quicksum(self.x[i, j] for i in range(self.N+1) if i != j) == gp.quicksum(self.x[j, i] for i in range(self.N+1) if i != j), \"3) Flow constraint\") #ok\n",
    "\n",
    "        for j in N_f:\n",
    "            self.model.addConstr(gp.quicksum(self.x[i, j] for i in range(self.N+1) if i != j) + gp.quicksum(self.y[j, k] for k in self.D) == 1, \"4) Every customer in N_f must be served\") #ok\n",
    "\n",
    "        for j in self.N_t:\n",
    "            self.model.addConstr(gp.quicksum(self.x[i, j] for i in range(self.N+1) if i != j) == 1, \"5) Truck customers must be visited by only trucks\") #ok\n",
    "\n",
    "        for i in range (1, self.N+1):\n",
    "            for j in range (1, self.N+1):\n",
    "                if j != i:\n",
    "                    self.model.addConstr(self.u[i] - self.u[j] + self.Q_t * self.x[i, j] <= self.Q_t - self.w[j], \"6) Miller-Tucker_Zemlin constraint\") #ok\n",
    "\n",
    "        for k in self.D:\n",
    "            self.model.addConstr(gp.quicksum(self.y[j, k] * self.t_d[j] for j in N_f) <= self.T_d, \"7) Time constraint for drones\") #ok\n",
    "\n",
    "        for i in range(1, self.N+1):\n",
    "            self.model.addConstr(gb.quicksum(self.z[l, i] for l in range(self.N+1) if l != i) + gp.quicksum(self.t_t[i, j] * self.x[i, j] for j in range(self.N+1) if j != i) == gp.quicksum(self.z[i, j] for j in range(self.N+1) if j != i),\"8) Inductive step for induction method of cumulative time additions\")\n",
    "\n",
    "        for i in range(1, self.N+1):\n",
    "            self.model.addConstr(self.z[0, i] == self.t_t[0, i] * self.x[0, i], \"9) Basic step for induction method of cumulative time additions\")\n",
    "\n",
    "        for i in range(1, self.N+1):\n",
    "            self.model.addConstr(self.z[i, 0] <= self.T_t * self.x[i, 0], \"10) Truck time limit constraint\")\n",
    "        '''\n",
    "        self.model.addConstrs((self.x[i, j] == 0 for i )n self.N for j in self.N if i == j), \"Vincolo(11)\")\n",
    "        self.model.addConstrs((self.y[j, k] == 0 for j in self.C_T for k in self.D), \"Vincolo(12)\")\n",
    "        self.model.addConstrs((0 <= self.u[i] <= self.Q for i in self.C), \"Vincolo(13)\")\n",
    "        self.model.addConstrs((0 <= self.z[i, j] <= self.T for i in self.N for j in self.N if i != j), \"Vincolo(14)\")\n",
    "        '''\n",
    "    def solve(self):\n",
    "        self.model.optimize()\n",
    "\n",
    "    def print_results(self):\n",
    "        if self.model.status == GRB.OPTIMAL:\n",
    "            for v in self.model.getVars():\n",
    "                print(f'{v.varName}: {v.x}')\n",
    "            print(f'Obj: {self.model.objVal}')\n",
    "        else:\n",
    "            print(\"No optimal solution found.\")\n",
    "\n",
    "'''\n",
    "# Esempio di utilizzo della classe\n",
    "# Definire i dati del problema (questo deve essere adattato ai dati specifici)\n",
    "C = ...\n",
    "C_T = ...\n",
    "D = ...\n",
    "N = ...\n",
    "h = ...\n",
    "d_ij = ...\n",
    "d_prime_jk = ...\n",
    "t_ij = ...\n",
    "t_0i = ...\n",
    "Q = ...\n",
    "Q_bar = ...\n",
    "T = ...\n",
    "T_prime = ...\n",
    "\n",
    "# Creare un'istanza della classe\n",
    "opt_model = OptimizationModel(C, C_T, D, N, h, d_ij, d_prime_jk, t_ij, t_0i, Q, Q_bar, T, T_prime)\n",
    "\n",
    "# Costruire il modello\n",
    "opt_model.build_model()\n",
    "\n",
    "# Risolvere il modello\n",
    "opt_model.solve()\n",
    "\n",
    "# Stampare i risultati\n",
    "opt_model.print_results()\n",
    "'''"
   ]
  },
  {
   "cell_type": "code",
   "execution_count": 5,
   "metadata": {},
   "outputs": [
    {
     "ename": "ValueError",
     "evalue": "could not convert string to float: '0  10.00  10.00  0.00'",
     "output_type": "error",
     "traceback": [
      "\u001b[1;31m---------------------------------------------------------------------------\u001b[0m",
      "\u001b[1;31mValueError\u001b[0m                                Traceback (most recent call last)",
      "Cell \u001b[1;32mIn[5], line 30\u001b[0m\n\u001b[0;32m     28\u001b[0m \u001b[38;5;66;03m# Utilizzo della funzione\u001b[39;00m\n\u001b[0;32m     29\u001b[0m file_path \u001b[38;5;241m=\u001b[39m \u001b[38;5;124m\"\u001b[39m\u001b[38;5;124m./instances/test_instance.txt\u001b[39m\u001b[38;5;124m\"\u001b[39m  \u001b[38;5;66;03m# Sostituisci con il percorso corretto del tuo file\u001b[39;00m\n\u001b[1;32m---> 30\u001b[0m valori, coordinate, pesi \u001b[38;5;241m=\u001b[39m \u001b[43mleggi_istanza\u001b[49m\u001b[43m(\u001b[49m\u001b[43mfile_path\u001b[49m\u001b[43m)\u001b[49m\n\u001b[0;32m     32\u001b[0m \u001b[38;5;66;03m# Stampa i valori per verificare\u001b[39;00m\n\u001b[0;32m     33\u001b[0m \u001b[38;5;28mprint\u001b[39m(\u001b[38;5;124m\"\u001b[39m\u001b[38;5;124mValori:\u001b[39m\u001b[38;5;124m\"\u001b[39m, valori)\n",
      "Cell \u001b[1;32mIn[5], line 22\u001b[0m, in \u001b[0;36mleggi_istanza\u001b[1;34m(file_path)\u001b[0m\n\u001b[0;32m     20\u001b[0m parts \u001b[38;5;241m=\u001b[39m line\u001b[38;5;241m.\u001b[39mstrip()\u001b[38;5;241m.\u001b[39msplit(\u001b[38;5;124m'\u001b[39m\u001b[38;5;130;01m\\t\u001b[39;00m\u001b[38;5;124m'\u001b[39m)\n\u001b[0;32m     21\u001b[0m \u001b[38;5;66;03m# Aggiungi le coordinate (x, y) e il peso alla lista corrispondente\u001b[39;00m\n\u001b[1;32m---> 22\u001b[0m x, y, peso \u001b[38;5;241m=\u001b[39m \u001b[38;5;28mmap\u001b[39m(\u001b[38;5;28mfloat\u001b[39m, parts)\n\u001b[0;32m     23\u001b[0m coordinate\u001b[38;5;241m.\u001b[39mappend((x, y))\n\u001b[0;32m     24\u001b[0m pesi\u001b[38;5;241m.\u001b[39mappend(peso)\n",
      "\u001b[1;31mValueError\u001b[0m: could not convert string to float: '0  10.00  10.00  0.00'"
     ]
    }
   ],
   "source": [
    "def leggi_istanza(file_path):\n",
    "    with open(file_path, 'r') as file:\n",
    "        lines = file.readlines()\n",
    "    \n",
    "    # Dizionario per memorizzare i valori\n",
    "    valori = {}\n",
    "    \n",
    "    # Liste per memorizzare le coordinate e i pesi\n",
    "    coordinate = []\n",
    "    pesi = []\n",
    "\n",
    "    for line in lines:\n",
    "        if ',' in line:\n",
    "            key, value = line.strip().split(',')\n",
    "            if key in [\"NUM DRONES\", \"NUM TRUCKS\"]:\n",
    "                valori[key] = int(value)\n",
    "            elif key in [\"TRUCK CAP\", \"DRONE CAP\", \"TRUCK SPEED\", \"DRONE SPEED\", \"DRONE ENDURANCE\", \"DRONE TIME LIMIT\", \"TRUCK TIME LIMIT\", \"TRUCK UNIT COST\", \"DRONE UNIT COST\"]:\n",
    "                valori[key] = float(value)\n",
    "        else:\n",
    "            parts = line.strip().split('\\t')\n",
    "            # Aggiungi le coordinate (x, y) e il peso alla lista corrispondente\n",
    "            x, y, peso = map(float, parts)\n",
    "            coordinate.append((x, y))\n",
    "            pesi.append(peso)\n",
    "\n",
    "    return valori, coordinate, pesi\n",
    "\n",
    "# Utilizzo della funzione\n",
    "file_path = \"./instances/test_instance.txt\"  # Sostituisci con il percorso corretto del tuo file\n",
    "valori, coordinate, pesi = leggi_istanza(file_path)\n",
    "\n",
    "# Stampa i valori per verificare\n",
    "print(\"Valori:\", valori)\n",
    "print(\"Coordinate:\")\n",
    "for coord in coordinate:\n",
    "    print(coord)\n",
    "\n",
    "print(\"Pesi:\")\n",
    "for peso in pesi:\n",
    "    print(peso)"
   ]
  }
 ],
 "metadata": {
  "kernelspec": {
   "display_name": "Python 3",
   "language": "python",
   "name": "python3"
  },
  "language_info": {
   "codemirror_mode": {
    "name": "ipython",
    "version": 3
   },
   "file_extension": ".py",
   "mimetype": "text/x-python",
   "name": "python",
   "nbconvert_exporter": "python",
   "pygments_lexer": "ipython3",
   "version": "3.11.9"
  }
 },
 "nbformat": 4,
 "nbformat_minor": 2
}

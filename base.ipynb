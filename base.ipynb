{
 "cells": [
  {
   "cell_type": "markdown",
   "metadata": {},
   "source": [
    "### Imports "
   ]
  },
  {
   "cell_type": "code",
   "execution_count": 2,
   "metadata": {},
   "outputs": [
    {
     "name": "stdout",
     "output_type": "stream",
     "text": [
      "Requirement already satisfied: gurobipy in c:\\users\\giova\\appdata\\local\\packages\\pythonsoftwarefoundation.python.3.11_qbz5n2kfra8p0\\localcache\\local-packages\\python311\\site-packages (11.0.1)\n",
      "Note: you may need to restart the kernel to use updated packages.\n"
     ]
    }
   ],
   "source": [
    "%pip install gurobipy"
   ]
  },
  {
   "cell_type": "code",
   "execution_count": 9,
   "metadata": {},
   "outputs": [],
   "source": [
    "import gurobipy as gb\n",
    "import math\n",
    "import re\n",
    "from scipy.spatial import distance_matrix\n",
    "import numpy as np"
   ]
  },
  {
   "cell_type": "code",
   "execution_count": 65,
   "metadata": {},
   "outputs": [
    {
     "data": {
      "text/plain": [
       "\"\\n# Esempio di utilizzo della classe\\n# Definire i dati del problema (questo deve essere adattato ai dati specifici)\\nC = ...\\nC_T = ...\\nD = ...\\nN = ...\\nh = ...\\nd_ij = ...\\nd_prime_jk = ...\\nt_ij = ...\\nt_0i = ...\\nQ = ...\\nQ_bar = ...\\nT = ...\\nT_prime = ...\\n\\n# Creare un'istanza della classe\\nopt_model = OptimizationModel(C, C_T, D, N, h, d_ij, d_prime_jk, t_ij, t_0i, Q, Q_bar, T, T_prime)\\n\\n# Costruire il modello\\nopt_model.build_model()\\n\\n# Risolvere il modello\\nopt_model.solve()\\n\\n# Stampare i risultati\\nopt_model.print_results()\\n\""
      ]
     },
     "execution_count": 65,
     "metadata": {},
     "output_type": "execute_result"
    }
   ],
   "source": [
    "class PDSVRPModel:\n",
    "    def __init__(self, C_T, C_D, D, h, distances, t_t, t_d, Q_t, Q_d, T_t, T_d, w):\n",
    "        self.C_T = C_T #truck transportation cost\n",
    "        self.C_D = C_D #drone transportation cost\n",
    "        self.D = D #number of drones\n",
    "        self.N = len(w) #number of nodes\n",
    "        self.h = h #number of trucks\n",
    "        self.distances= distances #matrix of distances\n",
    "        self.t_t = t_t #matrix of trucks travel times\n",
    "        self.t_d =t_d #vector of drones travel times\n",
    "        self.Q_t = Q_t #truck capacity\n",
    "        self.Q_d = Q_d #drone capacity\n",
    "        self.T_t = T_t #max time truck\n",
    "        self.T_d = T_d #max time drones\n",
    "        self.w = w #weights vector\n",
    "        \n",
    "        self.model = gb.Model(\"OptimizationModel\")\n",
    "        self.x = None\n",
    "        self.y = None\n",
    "        self.z = None\n",
    "        self.u = None\n",
    "        \n",
    "    def build_model(self):\n",
    "        # Define the decision variables\n",
    "        self.x = self.model.addVars([(i,j) for i in range(self.N) for j in range(self.N) if i!=j], vtype=gb.GRB.BINARY, name=\"x\")#ho messo +1 perchè lo 0 è il depot e poi ci sono N clienti\n",
    "        self.y = self.model.addVars([(i,k) for i in range(1, self.N) for k in range(self.D)], vtype=gb.GRB.BINARY, name=\"y\")#ok\n",
    "        self.z = self.model.addVars([(i,j) for i in range(self.N) for j in range(self.N) if i!=j], lb=0, ub=self.T_t, vtype=gb.GRB.CONTINUOUS, name=\"z\")#ok (lb e ub sono già specificati nei constraits) \n",
    "        self.u = self.model.addVars([(i) for i in range(1, self.N)], lb=0, ub=self.Q_t, vtype=gb.GRB.CONTINUOUS, name=\"u\")#ok\n",
    "\n",
    "        # Define the objective function\n",
    "        self.model.setObjective(\n",
    "            gb.quicksum(self.C_T * self.distances[i,j] * self.x[i, j] for i in range (self.N) for j in range (self.N) if i != j) +\n",
    "            gb.quicksum(self.C_D * self.distances[0,k] * self.y[k, l] for k in range (1, self.N) for l in range(self.D)),\n",
    "            gb.GRB.MINIMIZE\n",
    "        ) #ok\n",
    "\n",
    "        N_t = [i for i in range(1,self.N) if self.w[i]> self.Q_d] #indexes of clients that must be served by trucks\n",
    "        N_f= [i for i in range(1,self.N) if self.w[i]<= self.Q_d] #indexes of clients that can ber served either by e truck or a drone\n",
    "\n",
    "        # Add constraints\n",
    "        self.model.addConstr(gb.quicksum(self.x[0, i] for i in range (1, self.N)) <= self.h, \"2) Constraint on number of trucks\") #ok\n",
    "\n",
    "        for j in range(self.N):\n",
    "            self.model.addConstr(gb.quicksum(self.x[i, j] for i in range(self.N) if i != j) == gb.quicksum(self.x[j, i] for i in range(self.N) if i != j), \"3) Flow constraint\") #ok\n",
    "\n",
    "        for j in N_f:\n",
    "            self.model.addConstr(gb.quicksum(self.x[i, j] for i in range(self.N) if i != j) + gb.quicksum(self.y[j, k] for k in range(self.D)) == 1, \"4) Every customer in N_f must be served\") #ok\n",
    "\n",
    "        for j in N_t:\n",
    "            self.model.addConstr(gb.quicksum(self.x[i, j] for i in range(self.N) if i != j) == 1, \"5) Truck customers must be visited by only trucks\") #ok\n",
    "\n",
    "        for i in range (1, self.N):\n",
    "            for j in range (1, self.N):\n",
    "                if j != i:\n",
    "                    self.model.addConstr(self.u[i] - self.u[j] + self.Q_t * self.x[i, j] <= self.Q_t - self.w[j], \"6) Miller-Tucker_Zemlin constraint\") #ok\n",
    "\n",
    "        for k in range(self.D):\n",
    "            self.model.addConstr(gb.quicksum(self.y[j, k] * self.t_d[j] for j in N_f) <= self.T_d, \"7) Time constraint for drones\") #ok\n",
    "\n",
    "        for i in range(1, self.N):\n",
    "            self.model.addConstr(gb.quicksum(self.z[l, i] for l in range(self.N) if l != i) + gb.quicksum(self.t_t[i, j] * self.x[i, j] for j in range(self.N) if j != i) == gb.quicksum(self.z[i, j] for j in range(self.N) if j != i),\"8) Inductive step for induction method of cumulative time additions\")\n",
    "\n",
    "        for i in range(1, self.N):\n",
    "            self.model.addConstr(self.z[0, i] == self.t_t[0, i] * self.x[0, i], \"9) Basic step for induction method of cumulative time additions\")\n",
    "\n",
    "        for i in range(1, self.N):\n",
    "            self.model.addConstr(self.z[i, 0] <= self.T_t * self.x[i, 0], \"10) Truck time limit constraint\")\n",
    "        '''\n",
    "        self.model.addConstrs((self.x[i, j] == 0 for i )n self.N for j in self.N if i == j), \"Vincolo(11)\")\n",
    "        self.model.addConstrs((self.y[j, k] == 0 for j in self.C_T for k in self.D), \"Vincolo(12)\")\n",
    "        self.model.addConstrs((0 <= self.u[i] <= self.Q for i in self.C), \"Vincolo(13)\")\n",
    "        self.model.addConstrs((0 <= self.z[i, j] <= self.T for i in self.N for j in self.N if i != j), \"Vincolo(14)\")\n",
    "        '''\n",
    "    def solve(self):\n",
    "        self.model.optimize()\n",
    "\n",
    "    def print_results(self):\n",
    "        if self.model.status == gb.GRB.OPTIMAL:\n",
    "            for v in self.model.getVars():\n",
    "                print(f'{v.varName}: {v.x}')\n",
    "            print(f'Obj: {self.model.objVal}')\n",
    "        else:\n",
    "            print(\"No optimal solution found.\")\n",
    "\n",
    "'''\n",
    "# Esempio di utilizzo della classe\n",
    "# Definire i dati del problema (questo deve essere adattato ai dati specifici)\n",
    "C = ...\n",
    "C_T = ...\n",
    "D = ...\n",
    "N = ...\n",
    "h = ...\n",
    "d_ij = ...\n",
    "d_prime_jk = ...\n",
    "t_ij = ...\n",
    "t_0i = ...\n",
    "Q = ...\n",
    "Q_bar = ...\n",
    "T = ...\n",
    "T_prime = ...\n",
    "\n",
    "# Creare un'istanza della classe\n",
    "opt_model = OptimizationModel(C, C_T, D, N, h, d_ij, d_prime_jk, t_ij, t_0i, Q, Q_bar, T, T_prime)\n",
    "\n",
    "# Costruire il modello\n",
    "opt_model.build_model()\n",
    "\n",
    "# Risolvere il modello\n",
    "opt_model.solve()\n",
    "\n",
    "# Stampare i risultati\n",
    "opt_model.print_results()\n",
    "'''"
   ]
  },
  {
   "cell_type": "code",
   "execution_count": 60,
   "metadata": {},
   "outputs": [
    {
     "name": "stdout",
     "output_type": "stream",
     "text": [
      "Values: {'NUM DRONES': 4, 'NUM TRUCKS': 10, 'TRUCK CAP': 1300.0, 'DRONE CAP': 2.27, 'TRUCK SPEED': 30.0, 'DRONE SPEED': 40.0, 'DRONE ENDURANCE': 0.6, 'DRONE TIME LIMIT': 1.5, 'TRUCK TIME LIMIT': 1.5, 'TRUCK UNIT COST': 1.25, 'DRONE UNIT COST': 0.03}\n",
      "Coordinate:\n",
      "(10.0, 10.0)\n",
      "(8.08, 0.81)\n",
      "(10.07, 16.46)\n",
      "(8.15, 10.68)\n",
      "(4.47, 3.39)\n",
      "(13.91, 12.49)\n",
      "(13.75, 19.07)\n",
      "(1.87, 10.74)\n",
      "(1.88, 14.08)\n",
      "(17.35, 15.64)\n",
      "(17.21, 16.95)\n",
      "(17.8, 2.38)\n",
      "(8.02, 4.22)\n",
      "(13.19, 7.99)\n",
      "(7.04, 16.33)\n",
      "(3.92, 10.07)\n",
      "(12.62, 4.54)\n",
      "(9.75, 6.97)\n",
      "(15.02, 11.41)\n",
      "(15.19, 4.17)\n",
      "(10.72, 13.63)\n",
      "(12.64, 4.36)\n",
      "(13.13, 4.39)\n",
      "(12.67, 3.33)\n",
      "(10.47, 8.7)\n",
      "(9.35, 6.36)\n",
      "(8.72, 8.69)\n",
      "(15.0, 11.18)\n",
      "(14.86, 4.33)\n",
      "(10.71, 13.65)\n",
      "(10.77, 14.5)\n",
      "Pesi:\n",
      "0.0\n",
      "1.9\n",
      "1.02\n",
      "0.18\n",
      "0.93\n",
      "1.04\n",
      "48.34\n",
      "1.82\n",
      "0.98\n",
      "1.37\n",
      "1.04\n",
      "18.2\n",
      "39.0\n",
      "0.98\n",
      "1.85\n",
      "0.62\n",
      "0.86\n",
      "1.51\n",
      "0.36\n",
      "2.21\n",
      "1.44\n",
      "1.9\n",
      "0.94\n",
      "1.77\n",
      "0.86\n",
      "1.88\n",
      "1.78\n",
      "0.87\n",
      "1.11\n",
      "30.4\n",
      "0.63\n"
     ]
    }
   ],
   "source": [
    "def load_instance(file_path):\n",
    "    with open(file_path, 'r') as file:\n",
    "        lines = file.readlines()\n",
    "    \n",
    "    # Dictionary of values\n",
    "    values = {}\n",
    "    \n",
    "    # Lists to save coordinates and weights\n",
    "    coordinates = []\n",
    "    weights = []\n",
    "\n",
    "    for line in lines:\n",
    "        if ',' in line:\n",
    "            key, value = line.strip().split(',')\n",
    "            if key in [\"NUM DRONES\", \"NUM TRUCKS\"]:\n",
    "                values[key] = int(value)\n",
    "            elif key in [\"TRUCK CAP\", \"DRONE CAP\", \"TRUCK SPEED\", \"DRONE SPEED\", \"DRONE ENDURANCE\", \"DRONE TIME LIMIT\", \"TRUCK TIME LIMIT\", \"TRUCK UNIT COST\", \"DRONE UNIT COST\"]:\n",
    "                values[key] = float(value)\n",
    "        else:\n",
    "            parts = re.sub(' +',' ', line).split()[1:] \n",
    "            # Aggiungi le coordinate (x, y) e il peso alla lista corrispondente\n",
    "            x, y, weight = map(float, parts)\n",
    "            coordinates.append((x, y))\n",
    "            weights.append(weight)\n",
    "\n",
    "    return values, coordinates, weights\n",
    "\n",
    "# Utilizzo della funzione\n",
    "file_path = \"./instances/test_instance.txt\"  # Sostituisci con il percorso corretto del tuo file\n",
    "values, coordinates, weights = load_instance(file_path)\n",
    "\n",
    "# Stampa i valori per verificare\n",
    "print(\"Values:\", values)\n",
    "print(\"Coordinate:\")\n",
    "for coord in coordinates:\n",
    "    print(coord)\n",
    "\n",
    "print(\"Pesi:\")\n",
    "for weight in weights:\n",
    "    print(weight)\n",
    "\n"
   ]
  },
  {
   "cell_type": "code",
   "execution_count": 61,
   "metadata": {},
   "outputs": [],
   "source": [
    "def distance_matrix_computation(coord):\n",
    "    coord_array = np.array(coord)\n",
    "    return distance_matrix(coord_array, coord_array)"
   ]
  },
  {
   "cell_type": "code",
   "execution_count": 62,
   "metadata": {},
   "outputs": [],
   "source": [
    "d_matrix= distance_matrix_computation(coordinates)\n",
    "t_t_matrix = d_matrix/values[\"TRUCK SPEED\"]\n",
    "t_d_vector = d_matrix[0]/values[\"DRONE SPEED\"]"
   ]
  },
  {
   "cell_type": "code",
   "execution_count": 66,
   "metadata": {},
   "outputs": [],
   "source": [
    "model = PDSVRPModel(C_T= values[\"TRUCK UNIT COST\"], \n",
    "                    C_D=values[\"DRONE UNIT COST\"],\n",
    "                    D=values[\"NUM DRONES\"],\n",
    "                    h=values[\"NUM TRUCKS\"],\n",
    "                    distances= d_matrix,\n",
    "                    t_t= t_t_matrix,\n",
    "                    t_d= t_d_vector,\n",
    "                    Q_t= values[\"TRUCK CAP\"],\n",
    "                    Q_d= values[\"DRONE CAP\"],\n",
    "                    T_t= values[\"TRUCK TIME LIMIT\"],\n",
    "                    T_d= values[\"DRONE TIME LIMIT\"],\n",
    "                    w=weights)"
   ]
  },
  {
   "cell_type": "code",
   "execution_count": 67,
   "metadata": {},
   "outputs": [],
   "source": [
    "model.build_model()"
   ]
  },
  {
   "cell_type": "code",
   "execution_count": 68,
   "metadata": {},
   "outputs": [
    {
     "name": "stdout",
     "output_type": "stream",
     "text": [
      "Gurobi Optimizer version 11.0.1 build v11.0.1rc0 (win64 - Windows 11.0 (22631.2))\n",
      "\n",
      "CPU model: 11th Gen Intel(R) Core(TM) i7-1165G7 @ 2.80GHz, instruction set [SSE2|AVX|AVX2|AVX512]\n",
      "Thread count: 4 physical cores, 8 logical processors, using up to 8 threads\n",
      "\n"
     ]
    },
    {
     "ename": "GurobiError",
     "evalue": "Model too large for size-limited license; visit https://gurobi.com/unrestricted for more information",
     "output_type": "error",
     "traceback": [
      "\u001b[1;31m---------------------------------------------------------------------------\u001b[0m",
      "\u001b[1;31mGurobiError\u001b[0m                               Traceback (most recent call last)",
      "Cell \u001b[1;32mIn[68], line 1\u001b[0m\n\u001b[1;32m----> 1\u001b[0m \u001b[43mmodel\u001b[49m\u001b[38;5;241;43m.\u001b[39;49m\u001b[43msolve\u001b[49m\u001b[43m(\u001b[49m\u001b[43m)\u001b[49m\n",
      "Cell \u001b[1;32mIn[65], line 75\u001b[0m, in \u001b[0;36mPDSVRPModel.solve\u001b[1;34m(self)\u001b[0m\n\u001b[0;32m     74\u001b[0m \u001b[38;5;28;01mdef\u001b[39;00m \u001b[38;5;21msolve\u001b[39m(\u001b[38;5;28mself\u001b[39m):\n\u001b[1;32m---> 75\u001b[0m     \u001b[38;5;28;43mself\u001b[39;49m\u001b[38;5;241;43m.\u001b[39;49m\u001b[43mmodel\u001b[49m\u001b[38;5;241;43m.\u001b[39;49m\u001b[43moptimize\u001b[49m\u001b[43m(\u001b[49m\u001b[43m)\u001b[49m\n",
      "File \u001b[1;32msrc\\\\gurobipy\\\\model.pxi:893\u001b[0m, in \u001b[0;36mgurobipy.Model.optimize\u001b[1;34m()\u001b[0m\n",
      "\u001b[1;31mGurobiError\u001b[0m: Model too large for size-limited license; visit https://gurobi.com/unrestricted for more information"
     ]
    }
   ],
   "source": [
    "model.solve()\n"
   ]
  }
 ],
 "metadata": {
  "kernelspec": {
   "display_name": "Python 3",
   "language": "python",
   "name": "python3"
  },
  "language_info": {
   "codemirror_mode": {
    "name": "ipython",
    "version": 3
   },
   "file_extension": ".py",
   "mimetype": "text/x-python",
   "name": "python",
   "nbconvert_exporter": "python",
   "pygments_lexer": "ipython3",
   "version": "3.11.9"
  }
 },
 "nbformat": 4,
 "nbformat_minor": 2
}

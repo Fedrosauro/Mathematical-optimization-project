{
 "cells": [
  {
   "cell_type": "markdown",
   "metadata": {},
   "source": [
    "tra poco eliminerò questo file"
   ]
  },
  {
   "cell_type": "code",
   "execution_count": 10,
   "metadata": {},
   "outputs": [],
   "source": [
    "from instancePDSVRP import instancePDSVRP\n",
    "import time\n",
    "import copy\n",
    "import heuristic_min_time as hmt\n",
    "import utilities as u\n",
    "import heuristic as h"
   ]
  },
  {
   "cell_type": "markdown",
   "metadata": {},
   "source": [
    "Method that tracks the progress of the solution (used when only one instance has to be tested)"
   ]
  },
  {
   "cell_type": "code",
   "execution_count": 11,
   "metadata": {},
   "outputs": [],
   "source": [
    "\n",
    "def SISSRs_min_time_imported_instance(instance, sigma, c_average_removed, L_max, w1, w2, w3, w4, w5, gamma, n_nearest, delta, epsilon, iter_imp, iter_max, p_min, p_max, max_unfeasible_swaps_perturb):\n",
    "    solutions_times = []\n",
    "    s_0 = h.initial_solution_construction(instance, w1, w2, w3, w4, w5, gamma, n_nearest)\n",
    "    s_curr = s_0\n",
    "    s_best = s_0\n",
    "    iterations_without_improvement = 0\n",
    "    iteration_counter = 0\n",
    "    while (iteration_counter < iter_max):\n",
    "        s = hmt.ruin_and_recreate_min_time(instance, copy.deepcopy(s_curr), sigma, c_average_removed, L_max, w1, w2, w3, w4, w5, gamma)\n",
    "        if u.makespan(instance, s) < u.makespan(instance, s_curr)*(1+delta) or ((u.makespan(instance, s) == u.makespan(instance, s_curr) and u.total_completion_time(instance,s) < u.total_completion_time(instance, s_curr))):\n",
    "            s_curr = hmt.local_search_min_time(instance, s, n_nearest)\n",
    "            if u.makespan(instance, s_curr) < u.makespan(instance, s_best) or ((u.makespan(instance, s) == u.makespan(instance, s_best) and u.total_completion_time(instance,s) < u.total_completion_time(instance, s_best))):\n",
    "                s_best = s_curr\n",
    "                iterations_without_improvement = 0\n",
    "            else:\n",
    "                iterations_without_improvement += 1\n",
    "        if iterations_without_improvement >= iter_imp:\n",
    "            s_curr = h.perturbate(instance, s_curr, p_min, p_max, max_unfeasible_swaps_perturb)\n",
    "            iterations_without_improvement = 0\n",
    "        delta = delta * epsilon\n",
    "        iteration_counter+=1\n",
    "        solutions_times.append(u.makespan(instance, s_best))\n",
    "\n",
    "    return s_best, solutions_times"
   ]
  },
  {
   "cell_type": "markdown",
   "metadata": {},
   "source": [
    "Min Time test"
   ]
  },
  {
   "cell_type": "code",
   "execution_count": 12,
   "metadata": {},
   "outputs": [],
   "source": [
    "def test_min_time(heuristic, instances, sigma, c_average_removed, L_max, w1, w2, w3, w4, w5, gamma, n_nearest, delta, epsilon, iter_imp, iter_max, p_min, p_max, max_unfeasible_swaps_perturb):\n",
    "    results = []\n",
    "    \n",
    "    for instance_name in instances:\n",
    "        instance = instancePDSVRP(\"instances/\" + instance_name + \".txt\")\n",
    "        \n",
    "        print(\"Heuristic min time\") \n",
    "        start_time = time.time()\n",
    "        sol, sol_times = heuristic(instance, sigma, c_average_removed, L_max, w1, w2, w3, w4, w5, gamma, n_nearest, delta, epsilon, iter_imp, iter_max, p_min, p_max, max_unfeasible_swaps_perturb)\n",
    "        end_time = time.time()               \n",
    "        time_heu = u.makespan(instance, sol)\n",
    "        elapsed_time_heuristic = end_time - start_time\n",
    "        print(\"Time found with heuristic: \", time_heu)\n",
    "        \n",
    "        results.append({\n",
    "            \"instance\": instance_name,\n",
    "            \"time_heuristic\": time_heu,\n",
    "            \"execution_time_heuristic\": elapsed_time_heuristic,\n",
    "            \"solution_times\": sol_times,\n",
    "            \"iter_imp\": iter_imp,\n",
    "            \"iter_max\": iter_max\n",
    "        })\n",
    "    \n",
    "    return results    "
   ]
  },
  {
   "cell_type": "code",
   "execution_count": null,
   "metadata": {},
   "outputs": [],
   "source": [
    "instances = []\n",
    "imported_instance = [\"eil101\"]\n",
    "\n",
    "for customers_position in [\"c\", \"r\", \"rc\"]:\n",
    "    for depot_position in [\"c\", \"e\", \"r\"]:\n",
    "        instances.append(\"30-\" + customers_position + \"-1-\" + depot_position)\n",
    "        \n",
    "#instances = [\"small_instances/10-c-1-c\"]\n",
    "        \n",
    "heuristic = hmt.SISSRs_min_time\n",
    "heuristic_imported_instance = SISSRs_min_time_imported_instance\n",
    "        \n",
    "results_our_instances = test_min_time(heuristic, instances, 0.3, 4.5, 4.5, 5,1,1,2,2, 0.1, 20, 0.1, 0.999975, 10, 100, 3, 3, 9)\n",
    "results_imported_instance = test_min_time(heuristic_imported_instance, instances, 0.3, 15.15, 15.15, 5,1,1,2,2, 0.1, 20, 0.1, 0.999975, 10, 100, 3, 10.1, 9)\n",
    "\n",
    "u.save_results_to_csv(results_our_instances, \"results/heuristic_min_time_our_instances_results.csv\")\n",
    "u.save_results_to_csv(results_imported_instance, \"results/heuristic_min_time_imported_instance_results.csv\")"
   ]
  }
 ],
 "metadata": {
  "kernelspec": {
   "display_name": "Python 3",
   "language": "python",
   "name": "python3"
  },
  "language_info": {
   "codemirror_mode": {
    "name": "ipython",
    "version": 3
   },
   "file_extension": ".py",
   "mimetype": "text/x-python",
   "name": "python",
   "nbconvert_exporter": "python",
   "pygments_lexer": "ipython3",
   "version": "3.12.2"
  }
 },
 "nbformat": 4,
 "nbformat_minor": 2
}

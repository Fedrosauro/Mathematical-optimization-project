{
 "cells": [
  {
   "cell_type": "code",
   "execution_count": null,
   "metadata": {},
   "outputs": [],
   "source": [
    "%pip install import-ipynb"
   ]
  },
  {
   "cell_type": "code",
   "execution_count": null,
   "metadata": {},
   "outputs": [],
   "source": [
    "from scipy.spatial import distance_matrix\n",
    "import re\n",
    "import import_ipynb\n",
    "import numpy as np\n",
    "import solver"
   ]
  },
  {
   "cell_type": "code",
   "execution_count": 4,
   "metadata": {},
   "outputs": [],
   "source": [
    "def load_instance(file_path):\n",
    "    with open(file_path, 'r') as file:\n",
    "        lines = file.readlines()\n",
    "    \n",
    "    # Dictionary of values\n",
    "    values = {}\n",
    "    \n",
    "    # Lists to save coordinates and weights\n",
    "    coordinates = []\n",
    "    weights = []\n",
    "\n",
    "    for line in lines:\n",
    "        if ',' in line:\n",
    "            key, value = line.strip().split(',')\n",
    "            if key in [\"NUM DRONES\", \"NUM TRUCKS\"]:\n",
    "                values[key] = int(value)\n",
    "            elif key in [\"TRUCK CAP\", \"DRONE CAP\", \"TRUCK SPEED\", \"DRONE SPEED\", \"DRONE ENDURANCE\", \"DRONE TIME LIMIT\", \"TRUCK TIME LIMIT\", \"TRUCK UNIT COST\", \"DRONE UNIT COST\"]:\n",
    "                values[key] = float(value)\n",
    "        else:\n",
    "            parts = re.sub(' +',' ', line).split()[1:] \n",
    "            # Add coordinates and weights to the lists\n",
    "            x, y, weight = map(float, parts)\n",
    "            coordinates.append((x, y))\n",
    "            weights.append(weight)\n",
    "\n",
    "    return values, coordinates, weights"
   ]
  },
  {
   "cell_type": "code",
   "execution_count": 5,
   "metadata": {},
   "outputs": [],
   "source": [
    "def distance_matrix_computation(coord):\n",
    "    coord_array = np.array(coord)\n",
    "    return distance_matrix(coord_array, coord_array)"
   ]
  },
  {
   "cell_type": "code",
   "execution_count": 32,
   "metadata": {},
   "outputs": [],
   "source": [
    "def test_solver(file_path):\n",
    "    values, coordinates, weights = load_instance(file_path)\n",
    "    d_matrix= distance_matrix_computation(coordinates)\n",
    "    t_t_matrix = d_matrix/values[\"TRUCK SPEED\"]\n",
    "    t_d_vector = d_matrix[0]/values[\"DRONE SPEED\"]\n",
    "    model = solver.PDSVRPModel(C_T= values[\"TRUCK UNIT COST\"], \n",
    "                    C_D=values[\"DRONE UNIT COST\"],\n",
    "                    D=values[\"NUM DRONES\"],\n",
    "                    h=values[\"NUM TRUCKS\"],\n",
    "                    distances= d_matrix,\n",
    "                    t_t= t_t_matrix,\n",
    "                    t_d= t_d_vector,\n",
    "                    Q_t= values[\"TRUCK CAP\"],\n",
    "                    Q_d= values[\"DRONE CAP\"],\n",
    "                    T_t= values[\"TRUCK TIME LIMIT\"],\n",
    "                    T_d= values[\"DRONE TIME LIMIT\"],\n",
    "                    w=weights)\n",
    "    model.build_model()\n",
    "    model.solve()\n",
    "    model.print_results()\n",
    "    "
   ]
  },
  {
   "cell_type": "code",
   "execution_count": null,
   "metadata": {},
   "outputs": [],
   "source": [
    "test_solver(\"instances/50-r-2-e.txt\")"
   ]
  },
  {
   "cell_type": "code",
   "execution_count": 4,
   "metadata": {},
   "outputs": [],
   "source": [
    "#fancendo cosi utilizzando la classe PDSVRP_istance\n",
    "#basterebbe solo questa cella di codice e poi chiamare la funzione test_solver_2\n",
    "\n",
    "import PDSVRP_instance\n",
    "\n",
    "def test_solver_2(instance_file_path):\n",
    "    instance = PDSVRP_instance.PDSVRPInstance(instance_file_path)\n",
    "    #params = instance.get_params()\n",
    "    model = solver.PDSVRPModel(instance) # * => unpack values of params\n",
    "    model.build_model()\n",
    "    model.solve()\n",
    "    model.print_results()\n"
   ]
  },
  {
   "cell_type": "code",
   "execution_count": null,
   "metadata": {},
   "outputs": [],
   "source": [
    "test_solver_2('instances/30-c-0-c.txt')"
   ]
  }
 ],
 "metadata": {
  "kernelspec": {
   "display_name": "Python 3",
   "language": "python",
   "name": "python3"
  },
  "language_info": {
   "codemirror_mode": {
    "name": "ipython",
    "version": 3
   },
   "file_extension": ".py",
   "mimetype": "text/x-python",
   "name": "python",
   "nbconvert_exporter": "python",
   "pygments_lexer": "ipython3",
   "version": "3.11.9"
  }
 },
 "nbformat": 4,
 "nbformat_minor": 2
}

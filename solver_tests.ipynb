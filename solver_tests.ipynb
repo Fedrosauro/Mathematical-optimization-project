{
 "cells": [
  {
   "cell_type": "code",
   "execution_count": 1,
   "metadata": {},
   "outputs": [
    {
     "name": "stdout",
     "output_type": "stream",
     "text": [
      "Requirement already satisfied: import-ipynb in c:\\users\\giova\\appdata\\local\\packages\\pythonsoftwarefoundation.python.3.11_qbz5n2kfra8p0\\localcache\\local-packages\\python311\\site-packages (0.1.4)Note: you may need to restart the kernel to use updated packages.\n",
      "\n",
      "Requirement already satisfied: IPython in c:\\users\\giova\\appdata\\local\\packages\\pythonsoftwarefoundation.python.3.11_qbz5n2kfra8p0\\localcache\\local-packages\\python311\\site-packages (from import-ipynb) (8.22.2)\n",
      "Requirement already satisfied: nbformat in c:\\users\\giova\\appdata\\local\\packages\\pythonsoftwarefoundation.python.3.11_qbz5n2kfra8p0\\localcache\\local-packages\\python311\\site-packages (from import-ipynb) (5.10.4)\n",
      "Requirement already satisfied: decorator in c:\\users\\giova\\appdata\\local\\packages\\pythonsoftwarefoundation.python.3.11_qbz5n2kfra8p0\\localcache\\local-packages\\python311\\site-packages (from IPython->import-ipynb) (5.1.1)\n",
      "Requirement already satisfied: jedi>=0.16 in c:\\users\\giova\\appdata\\local\\packages\\pythonsoftwarefoundation.python.3.11_qbz5n2kfra8p0\\localcache\\local-packages\\python311\\site-packages (from IPython->import-ipynb) (0.19.1)\n",
      "Requirement already satisfied: matplotlib-inline in c:\\users\\giova\\appdata\\local\\packages\\pythonsoftwarefoundation.python.3.11_qbz5n2kfra8p0\\localcache\\local-packages\\python311\\site-packages (from IPython->import-ipynb) (0.1.6)\n",
      "Requirement already satisfied: prompt-toolkit<3.1.0,>=3.0.41 in c:\\users\\giova\\appdata\\local\\packages\\pythonsoftwarefoundation.python.3.11_qbz5n2kfra8p0\\localcache\\local-packages\\python311\\site-packages (from IPython->import-ipynb) (3.0.43)\n",
      "Requirement already satisfied: pygments>=2.4.0 in c:\\users\\giova\\appdata\\local\\packages\\pythonsoftwarefoundation.python.3.11_qbz5n2kfra8p0\\localcache\\local-packages\\python311\\site-packages (from IPython->import-ipynb) (2.17.2)\n",
      "Requirement already satisfied: stack-data in c:\\users\\giova\\appdata\\local\\packages\\pythonsoftwarefoundation.python.3.11_qbz5n2kfra8p0\\localcache\\local-packages\\python311\\site-packages (from IPython->import-ipynb) (0.6.3)\n",
      "Requirement already satisfied: traitlets>=5.13.0 in c:\\users\\giova\\appdata\\local\\packages\\pythonsoftwarefoundation.python.3.11_qbz5n2kfra8p0\\localcache\\local-packages\\python311\\site-packages (from IPython->import-ipynb) (5.14.2)\n",
      "Requirement already satisfied: colorama in c:\\users\\giova\\appdata\\local\\packages\\pythonsoftwarefoundation.python.3.11_qbz5n2kfra8p0\\localcache\\local-packages\\python311\\site-packages (from IPython->import-ipynb) (0.4.6)\n",
      "Requirement already satisfied: fastjsonschema>=2.15 in c:\\users\\giova\\appdata\\local\\packages\\pythonsoftwarefoundation.python.3.11_qbz5n2kfra8p0\\localcache\\local-packages\\python311\\site-packages (from nbformat->import-ipynb) (2.19.1)\n",
      "Requirement already satisfied: jsonschema>=2.6 in c:\\users\\giova\\appdata\\local\\packages\\pythonsoftwarefoundation.python.3.11_qbz5n2kfra8p0\\localcache\\local-packages\\python311\\site-packages (from nbformat->import-ipynb) (4.21.1)\n",
      "Requirement already satisfied: jupyter-core!=5.0.*,>=4.12 in c:\\users\\giova\\appdata\\local\\packages\\pythonsoftwarefoundation.python.3.11_qbz5n2kfra8p0\\localcache\\local-packages\\python311\\site-packages (from nbformat->import-ipynb) (5.7.2)\n",
      "Requirement already satisfied: parso<0.9.0,>=0.8.3 in c:\\users\\giova\\appdata\\local\\packages\\pythonsoftwarefoundation.python.3.11_qbz5n2kfra8p0\\localcache\\local-packages\\python311\\site-packages (from jedi>=0.16->IPython->import-ipynb) (0.8.3)\n",
      "Requirement already satisfied: attrs>=22.2.0 in c:\\users\\giova\\appdata\\local\\packages\\pythonsoftwarefoundation.python.3.11_qbz5n2kfra8p0\\localcache\\local-packages\\python311\\site-packages (from jsonschema>=2.6->nbformat->import-ipynb) (23.2.0)\n",
      "Requirement already satisfied: jsonschema-specifications>=2023.03.6 in c:\\users\\giova\\appdata\\local\\packages\\pythonsoftwarefoundation.python.3.11_qbz5n2kfra8p0\\localcache\\local-packages\\python311\\site-packages (from jsonschema>=2.6->nbformat->import-ipynb) (2023.12.1)\n",
      "Requirement already satisfied: referencing>=0.28.4 in c:\\users\\giova\\appdata\\local\\packages\\pythonsoftwarefoundation.python.3.11_qbz5n2kfra8p0\\localcache\\local-packages\\python311\\site-packages (from jsonschema>=2.6->nbformat->import-ipynb) (0.34.0)\n",
      "Requirement already satisfied: rpds-py>=0.7.1 in c:\\users\\giova\\appdata\\local\\packages\\pythonsoftwarefoundation.python.3.11_qbz5n2kfra8p0\\localcache\\local-packages\\python311\\site-packages (from jsonschema>=2.6->nbformat->import-ipynb) (0.18.0)\n",
      "Requirement already satisfied: platformdirs>=2.5 in c:\\users\\giova\\appdata\\local\\packages\\pythonsoftwarefoundation.python.3.11_qbz5n2kfra8p0\\localcache\\local-packages\\python311\\site-packages (from jupyter-core!=5.0.*,>=4.12->nbformat->import-ipynb) (4.2.0)\n",
      "Requirement already satisfied: pywin32>=300 in c:\\users\\giova\\appdata\\local\\packages\\pythonsoftwarefoundation.python.3.11_qbz5n2kfra8p0\\localcache\\local-packages\\python311\\site-packages (from jupyter-core!=5.0.*,>=4.12->nbformat->import-ipynb) (306)\n",
      "Requirement already satisfied: wcwidth in c:\\users\\giova\\appdata\\local\\packages\\pythonsoftwarefoundation.python.3.11_qbz5n2kfra8p0\\localcache\\local-packages\\python311\\site-packages (from prompt-toolkit<3.1.0,>=3.0.41->IPython->import-ipynb) (0.2.13)\n",
      "Requirement already satisfied: executing>=1.2.0 in c:\\users\\giova\\appdata\\local\\packages\\pythonsoftwarefoundation.python.3.11_qbz5n2kfra8p0\\localcache\\local-packages\\python311\\site-packages (from stack-data->IPython->import-ipynb) (2.0.1)\n",
      "Requirement already satisfied: asttokens>=2.1.0 in c:\\users\\giova\\appdata\\local\\packages\\pythonsoftwarefoundation.python.3.11_qbz5n2kfra8p0\\localcache\\local-packages\\python311\\site-packages (from stack-data->IPython->import-ipynb) (2.4.1)\n",
      "Requirement already satisfied: pure-eval in c:\\users\\giova\\appdata\\local\\packages\\pythonsoftwarefoundation.python.3.11_qbz5n2kfra8p0\\localcache\\local-packages\\python311\\site-packages (from stack-data->IPython->import-ipynb) (0.2.2)\n",
      "Requirement already satisfied: six>=1.12.0 in c:\\users\\giova\\appdata\\local\\packages\\pythonsoftwarefoundation.python.3.11_qbz5n2kfra8p0\\localcache\\local-packages\\python311\\site-packages (from asttokens>=2.1.0->stack-data->IPython->import-ipynb) (1.16.0)\n"
     ]
    }
   ],
   "source": [
    "%pip install import-ipynb"
   ]
  },
  {
   "cell_type": "code",
   "execution_count": 2,
   "metadata": {},
   "outputs": [
    {
     "name": "stdout",
     "output_type": "stream",
     "text": [
      "importing Jupyter notebook from solver.ipynb\n",
      "Requirement already satisfied: gurobipy in c:\\users\\giova\\appdata\\local\\packages\\pythonsoftwarefoundation.python.3.11_qbz5n2kfra8p0\\localcache\\local-packages\\python311\\site-packages (11.0.1)\n",
      "Note: you may need to restart the kernel to use updated packages.\n"
     ]
    }
   ],
   "source": [
    "\n",
    "import import_ipynb\n",
    "\n",
    "import solver"
   ]
  },
  {
   "cell_type": "code",
   "execution_count": 3,
   "metadata": {},
   "outputs": [],
   "source": [
    "#fancendo cosi utilizzando la classe PDSVRP_istance\n",
    "#basterebbe solo questa cella di codice e poi chiamare la funzione test_solver_2\n",
    "\n",
    "import PDSVRP_instance\n",
    "\n",
    "def test_solver(instance_file_path):\n",
    "    instance = PDSVRP_instance.PDSVRPInstance(instance_file_path)\n",
    "    model = solver.PDSVRPModel(instance) \n",
    "    model.build_model()\n",
    "    model.solve()\n",
    "    model.print_results()"
   ]
  },
  {
   "cell_type": "code",
   "execution_count": 4,
   "metadata": {},
   "outputs": [
    {
     "name": "stdout",
     "output_type": "stream",
     "text": [
      "Set parameter Username\n",
      "Academic license - for non-commercial use only - expires 2025-05-21\n",
      "Set parameter Threads to value 8\n",
      "Set parameter Presolve to value 2\n",
      "Set parameter Cuts to value 3\n",
      "Gurobi Optimizer version 11.0.1 build v11.0.1rc0 (win64 - Windows 11.0 (22631.2))\n",
      "\n",
      "CPU model: 11th Gen Intel(R) Core(TM) i7-1165G7 @ 2.80GHz, instruction set [SSE2|AVX|AVX2|AVX512]\n",
      "Thread count: 4 physical cores, 8 logical processors, using up to 8 threads\n",
      "\n",
      "Optimize a model with 1026 rows, 2010 columns and 8412 nonzeros\n",
      "Model fingerprint: 0xda6cee5e\n",
      "Variable types: 960 continuous, 1050 integer (1050 binary)\n",
      "Coefficient statistics:\n",
      "  Matrix range     [1e-03, 1e+03]\n",
      "  Objective range  [6e-02, 3e+01]\n",
      "  Bounds range     [1e+00, 1e+03]\n",
      "  RHS range        [1e+00, 1e+03]\n",
      "Found heuristic solution: objective 161.5864695\n",
      "Presolve removed 30 rows and 489 columns\n",
      "Presolve time: 0.03s\n",
      "Presolved: 996 rows, 1521 columns, 10386 nonzeros\n",
      "Variable types: 495 continuous, 1026 integer (1026 binary)\n",
      "Root relaxation presolve removed 1 rows and 0 columns\n",
      "Root relaxation presolved: 995 rows, 1521 columns, 10326 nonzeros\n",
      "\n",
      "\n",
      "Root relaxation: objective 1.091421e+01, 295 iterations, 0.01 seconds (0.02 work units)\n",
      "\n",
      "    Nodes    |    Current Node    |     Objective Bounds      |     Work\n",
      " Expl Unexpl |  Obj  Depth IntInf | Incumbent    BestBd   Gap | It/Node Time\n",
      "\n",
      "     0     0   10.91421    0   31  161.58647   10.91421  93.2%     -    0s\n",
      "H    0     0                     136.9463329   21.44833  84.3%     -    0s\n",
      "     0     0   21.58220    0   31  136.94633   21.58220  84.2%     -    0s\n",
      "     0     0   22.97536    0   40  136.94633   22.97536  83.2%     -    0s\n",
      "     0     0   22.97536    0   40  136.94633   22.97536  83.2%     -    0s\n",
      "H    0     0                     119.5090049   28.68792  76.0%     -    0s\n",
      "H    0     0                     118.5834232   28.68792  75.8%     -    0s\n",
      "     0     0   28.68792    0   34  118.58342   28.68792  75.8%     -    0s\n",
      "     0     0   28.68792    0   34  118.58342   28.68792  75.8%     -    0s\n",
      "H    0     0                     118.4786859   28.68792  75.8%     -    0s\n",
      "     0     2   28.68792    0   34  118.47869   28.68792  75.8%     -    0s\n",
      "H    7    16                     117.9254921   28.68792  75.7%  48.4    0s\n",
      "H   31    40                     117.8754921   28.68792  75.7%  28.0    0s\n",
      "H   32    40                     116.6254921   28.68792  75.4%  27.8    0s\n",
      "H   66    80                     116.3881578   28.68792  75.4%  16.4    0s\n",
      "H   70    80                     115.5802615   28.68792  75.2%  15.6    0s\n",
      "H  119   144                     115.3429272   28.68792  75.1%  11.5    0s\n",
      "H  122   144                     114.6546798   28.68792  75.0%  11.7    0s\n",
      "H  131   144                     114.0860850   28.68792  74.9%  11.1    0s\n",
      "H  258   264                      93.6853879   28.68792  69.4%   7.9    0s\n",
      "H  261   264                      88.1419186   28.68792  67.5%   8.1    0s\n",
      "H 1779  1426                      87.9045843   28.68792  67.4%   7.5    1s\n",
      "H 1801  1369                      87.8295843   35.37965  59.7%   7.4    3s\n",
      "H 2024  1436                      87.6488257   35.37965  59.6%  10.7    4s\n",
      "H 2025  1369                      87.3669186   35.37965  59.5%  10.7    4s\n",
      "H 2026  1307                      87.3045843   35.37965  59.5%  10.7    4s\n",
      "H 2028  1247                      86.6431062   35.37965  59.2%  10.7    4s\n",
      "H 2133  1238                      86.1875686   35.37965  59.0%  11.1    4s\n",
      "H 2136  1184                      85.6757032   35.37965  58.7%  11.1    4s\n",
      "H 2193  1139                      85.6257032   35.37965  58.7%  11.2    5s\n",
      "H 2194  1091                      85.1621813   35.37965  58.5%  11.2    5s\n",
      "H 2418  1100                      84.6813578   35.37965  58.2%  11.7    5s\n",
      "H 2423  1056                      81.8735878   35.37965  56.8%  11.7    5s\n",
      "H 3491  1393                      81.8491695   36.61281  55.3%  11.4    6s\n",
      "H 3954  1562                      81.4433460   36.65362  55.0%  11.1    6s\n",
      " 22438 15922   47.88908   24   33   81.44335   37.91719  53.4%   8.7   10s\n",
      " 53445 39292   64.80401   83   10   81.44335   38.98654  52.1%   8.1   15s\n",
      " 79588 58880   80.03733   54    6   81.44335   39.42894  51.6%   8.0   20s\n",
      " 109690 82164   43.30205   33   19   81.44335   39.84373  51.1%   7.9   25s\n",
      " 140924 105784   60.32260   78   14   81.44335   40.08475  50.8%   7.7   30s\n",
      " 172305 129068   73.90152   49    6   81.44335   40.22251  50.6%   7.6   35s\n",
      "H182803 136580                      81.4433376   40.25731  50.6%   7.5   37s\n",
      " 197848 148447   63.52877   44   14   81.44334   40.30462  50.5%   7.5   40s\n",
      " 230008 172461   63.21507   90   13   81.44334   40.40622  50.4%   7.4   45s\n",
      " 255840 191806 infeasible   84        81.44334   40.46898  50.3%   7.4   50s\n",
      " 279108 209794   40.55105   32   30   81.44334   40.51002  50.3%   7.3   55s\n",
      "H300960 224973                      81.4433365   40.55346  50.2%   7.3   58s\n",
      "H302829 226604                      81.4433363   40.55780  50.2%   7.2   59s\n",
      " 306030 229264   65.38199   42   10   81.44334   40.56375  50.2%   7.2   60s\n",
      " 334060 250048   76.49994   55    9   81.44334   40.60783  50.1%   7.2   65s\n",
      " 362632 271384   41.49104   35   20   81.44334   40.65246  50.1%   7.2   70s\n",
      " 390123 291724   41.48104   34   21   81.44334   40.69387  50.0%   7.2   75s\n",
      " 417329 312715   72.21655   51    8   81.44334   40.73536  50.0%   7.2   80s\n",
      " 447044 335224   47.87190   60   21   81.44334   40.77301  49.9%   7.2   85s\n",
      " 474757 355497   73.36251   58   10   81.44334   40.80821  49.9%   7.1   90s\n",
      " 504329 377760   73.17884   72   14   81.44334   40.84003  49.9%   7.1   95s\n",
      " 535214 400440   62.45809   68   16   81.44334   40.87582  49.8%   7.1  100s\n",
      " 564134 422561   72.27308   52   12   81.44334   40.90425  49.8%   7.1  105s\n",
      " 595276 446196   41.38395   51   26   81.44334   40.93653  49.7%   7.1  110s\n",
      " 622702 466349   74.34470   42   27   81.44334   40.96143  49.7%   7.1  115s\n",
      " 649648 486779   73.66548   85    6   81.44334   40.98444  49.7%   7.1  120s\n",
      " 676606 506518   41.43629   35   22   81.44334   41.00663  49.7%   7.1  125s\n",
      " 705423 528372   78.53271   90    6   81.44334   41.03103  49.6%   7.1  130s\n",
      " 733468 549438   41.13496   38   22   81.44334   41.05472  49.6%   7.1  135s\n",
      " 759887 568652   41.22272   42   26   81.44334   41.07640  49.6%   7.1  140s\n",
      " 789211 590588 infeasible  104        81.44334   41.09869  49.5%   7.1  145s\n",
      " 812192 607864   73.56170   61    8   81.44334   41.11674  49.5%   7.1  150s\n",
      " 834225 624282   63.09032   78   18   81.44334   41.13444  49.5%   7.1  155s\n",
      " 857281 641163   78.72740   74    6   81.44334   41.15094  49.5%   7.1  160s\n",
      " 880082 658409   76.57064   59    4   81.44334   41.16771  49.5%   7.1  165s\n",
      " 900998 673436   75.03036   66    4   81.44334   41.18176  49.4%   7.1  170s\n",
      " 923885 690626   60.43671   52   14   81.44334   41.19870  49.4%   7.1  175s\n",
      " 948299 708651   41.66412   62   17   81.44334   41.21518  49.4%   7.1  180s\n",
      " 969458 723961   72.76939   92    8   81.44334   41.22867  49.4%   7.1  185s\n",
      " 988484 737834   44.40791   39   22   81.44334   41.24073  49.4%   7.1  190s\n",
      " 1009728 753684   73.66461   45   22   81.44334   41.25459  49.3%   7.1  195s\n",
      " 1030179 769010   59.56429   49   12   81.44334   41.26635  49.3%   7.1  200s\n",
      " 1051365 784431   61.08603   45   16   81.44334   41.28142  49.3%   7.1  205s\n",
      " 1071996 799244   62.34536   42   12   81.44334   41.29436  49.3%   7.1  210s\n",
      " 1092039 814696   42.45762   56   22   81.44334   41.30682  49.3%   7.1  215s\n",
      " 1110970 828662   41.34552   34   18   81.44334   41.31746  49.3%   7.1  220s\n",
      " 1128365 841035   73.26608   51   14   81.44334   41.32774  49.3%   7.1  225s\n",
      " 1146565 854409   74.24184   44    6   81.44334   41.33943  49.2%   7.1  230s\n",
      " 1168970 871360   79.05593  119    4   81.44334   41.35314  49.2%   7.2  235s\n",
      " 1191608 887482   72.93114   39    6   81.44334   41.36678  49.2%   7.2  240s\n",
      " 1213940 903976   61.58634   56   10   81.44334   41.37920  49.2%   7.2  245s\n",
      " 1237914 921159   43.05043   36   18   81.44334   41.39163  49.2%   7.2  250s\n",
      " 1260586 937449   74.41040   49    9   81.44334   41.40418  49.2%   7.2  255s\n",
      " 1281590 953552     cutoff   86        81.44334   41.41370  49.2%   7.2  260s\n",
      " 1301661 967335   81.43537   77    4   81.44334   41.42492  49.1%   7.2  265s\n",
      " 1323496 983073   72.81577   71   11   81.44334   41.43737  49.1%   7.2  270s\n",
      " 1343449 997716   44.26359   56   22   81.44334   41.44829  49.1%   7.2  275s\n",
      " 1364042 1012555   60.47919   62   18   81.44334   41.45795  49.1%   7.2  280s\n",
      " 1382616 1025974   74.75486   74    7   81.44334   41.46819  49.1%   7.2  285s\n",
      " 1402555 1040495   44.53056   59   31   81.44334   41.47856  49.1%   7.3  290s\n",
      " 1426754 1058165   76.84490   56    4   81.44334   41.49011  49.1%   7.3  295s\n",
      " 1446746 1072577 infeasible   93        81.44334   41.49863  49.0%   7.3  300s\n",
      " 1468133 1088247   42.25284   35   18   81.44334   41.50870  49.0%   7.3  305s\n"
     ]
    },
    {
     "ename": "KeyboardInterrupt",
     "evalue": "",
     "output_type": "error",
     "traceback": [
      "\u001b[1;31m---------------------------------------------------------------------------\u001b[0m",
      "\u001b[1;31mKeyboardInterrupt\u001b[0m                         Traceback (most recent call last)",
      "File \u001b[1;32m~\\AppData\\Local\\Packages\\PythonSoftwareFoundation.Python.3.11_qbz5n2kfra8p0\\LocalCache\\local-packages\\Python311\\site-packages\\ipykernel\\iostream.py:655\u001b[0m, in \u001b[0;36mOutStream.write\u001b[1;34m(self, string)\u001b[0m\n\u001b[0;32m    647\u001b[0m                     \u001b[38;5;28;01mreturn\u001b[39;00m\n\u001b[0;32m    649\u001b[0m             \u001b[38;5;28mself\u001b[39m\u001b[38;5;241m.\u001b[39msession\u001b[38;5;241m.\u001b[39msend(\n\u001b[0;32m    650\u001b[0m                 \u001b[38;5;28mself\u001b[39m\u001b[38;5;241m.\u001b[39mpub_thread,\n\u001b[0;32m    651\u001b[0m                 msg,\n\u001b[0;32m    652\u001b[0m                 ident\u001b[38;5;241m=\u001b[39m\u001b[38;5;28mself\u001b[39m\u001b[38;5;241m.\u001b[39mtopic,\n\u001b[0;32m    653\u001b[0m             )\n\u001b[1;32m--> 655\u001b[0m \u001b[38;5;28;01mdef\u001b[39;00m \u001b[38;5;21mwrite\u001b[39m(\u001b[38;5;28mself\u001b[39m, string: \u001b[38;5;28mstr\u001b[39m) \u001b[38;5;241m-\u001b[39m\u001b[38;5;241m>\u001b[39m Optional[\u001b[38;5;28mint\u001b[39m]:  \u001b[38;5;66;03m# type:ignore[override]\u001b[39;00m\n\u001b[0;32m    656\u001b[0m \u001b[38;5;250m    \u001b[39m\u001b[38;5;124;03m\"\"\"Write to current stream after encoding if necessary\u001b[39;00m\n\u001b[0;32m    657\u001b[0m \n\u001b[0;32m    658\u001b[0m \u001b[38;5;124;03m    Returns\u001b[39;00m\n\u001b[1;32m   (...)\u001b[0m\n\u001b[0;32m    662\u001b[0m \n\u001b[0;32m    663\u001b[0m \u001b[38;5;124;03m    \"\"\"\u001b[39;00m\n\u001b[0;32m    664\u001b[0m     parent \u001b[38;5;241m=\u001b[39m \u001b[38;5;28mself\u001b[39m\u001b[38;5;241m.\u001b[39mparent_header\n",
      "\u001b[1;31mKeyboardInterrupt\u001b[0m: "
     ]
    },
    {
     "name": "stderr",
     "output_type": "stream",
     "text": [
      "Exception ignored in: 'gurobipy.logcallbackstub'\n",
      "Traceback (most recent call last):\n",
      "  File \"C:\\Users\\giova\\AppData\\Local\\Packages\\PythonSoftwareFoundation.Python.3.11_qbz5n2kfra8p0\\LocalCache\\local-packages\\Python311\\site-packages\\ipykernel\\iostream.py\", line 655, in write\n",
      "    def write(self, string: str) -> Optional[int]:  # type:ignore[override]\n",
      "\n",
      "KeyboardInterrupt: \n"
     ]
    },
    {
     "name": "stdout",
     "output_type": "stream",
     "text": [
      " 1502630 1113435   73.61589   43   13   81.44334   41.52513  49.0%   7.3  315s\n",
      " 1522527 1127844   41.86626   35   35   81.44334   41.53406  49.0%   7.3  320s\n"
     ]
    }
   ],
   "source": [
    "test_solver('instances/30-c-0-c.txt')"
   ]
  }
 ],
 "metadata": {
  "kernelspec": {
   "display_name": "Python 3",
   "language": "python",
   "name": "python3"
  },
  "language_info": {
   "codemirror_mode": {
    "name": "ipython",
    "version": 3
   },
   "file_extension": ".py",
   "mimetype": "text/x-python",
   "name": "python",
   "nbconvert_exporter": "python",
   "pygments_lexer": "ipython3",
   "version": "3.11.9"
  }
 },
 "nbformat": 4,
 "nbformat_minor": 2
}

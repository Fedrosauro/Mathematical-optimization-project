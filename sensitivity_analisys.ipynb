{
 "cells": [
  {
   "cell_type": "code",
   "execution_count": 115,
   "metadata": {},
   "outputs": [],
   "source": [
    "import random\n",
    "import pandas as pd\n",
    "import numpy as np\n",
    "from sklearn.tree import DecisionTreeRegressor\n",
    "from sklearn.model_selection import train_test_split\n",
    "from sklearn.metrics import mean_squared_error\n",
    "import PDSVRP_instance\n",
    "from importnb import Notebook\n",
    "import copy\n",
    "\n",
    "with Notebook():\n",
    "    import heuristic as h\n",
    "    import utilities as u"
   ]
  },
  {
   "cell_type": "code",
   "execution_count": 129,
   "metadata": {},
   "outputs": [],
   "source": [
    "# Parameter ranges\n",
    "param_ranges = {\n",
    "    'num_customers': (10, 100),\n",
    "    'grid_size': (20, 40),\n",
    "    'num_drones': (1, 20),\n",
    "    'battery_endurance': (0.25, 1.0),  # in hours\n",
    "    'cost_ratio': (10.0, 50.0)\n",
    "}\n",
    "\n",
    "# Constants\n",
    "constants = {\n",
    "    'truck_speed': 30.0,\n",
    "    'drone_speed': 40.0,\n",
    "    'truck_capacity': 1300.0,\n",
    "    'drone_capacity': 2.27,\n",
    "    'drone_unit_cost': 0.03,\n",
    "    'work_time_limit': 8.0\n",
    "}\n",
    "\n",
    "num_instances = 10"
   ]
  },
  {
   "cell_type": "code",
   "execution_count": 130,
   "metadata": {},
   "outputs": [],
   "source": [
    "def generate_instance():\n",
    "    grid_size = random.choice(param_ranges['grid_size'])\n",
    "    custumers = []\n",
    "    \n",
    "    depot = [{\n",
    "        'x': grid_size/2,\n",
    "        'y': grid_size/2, \n",
    "        'demand': 0.00\n",
    "    }]\n",
    "    \n",
    "    custumers = [\n",
    "            {\n",
    "                'x': random.uniform(0, param_ranges['grid_size'][1]),\n",
    "                'y': random.uniform(0, param_ranges['grid_size'][1]),\n",
    "                'demand': random.uniform(0, 3) if np.random.rand() < 0.6 else random.uniform(5, 50) \n",
    "            }\n",
    "            for _ in range(random.randint(*param_ranges['num_customers']))\n",
    "        ]\n",
    "    \n",
    "    all_entities  = depot + custumers\n",
    "    \n",
    "    header = (\n",
    "        f\"NUM DRONES,{random.randint(*param_ranges['num_drones'])}\\n\"\n",
    "        f\"NUM TRUCKS,{10}\\n\"\n",
    "        f\"TRUCK CAP,{constants['truck_capacity']}\\n\"\n",
    "        f\"DRONE CAP,{constants['drone_capacity']}\\n\"\n",
    "        f\"TRUCK SPEED,{constants['truck_speed']}\\n\"\n",
    "        f\"DRONE SPEED,{constants['drone_speed']}\\n\"\n",
    "        f\"DRONE ENDURANCE,{random.uniform(*param_ranges['battery_endurance']):.2f}\\n\"\n",
    "        f\"DRONE TIME LIMIT,{random.uniform(1.0, constants['work_time_limit']):.2f}\\n\"\n",
    "        f\"TRUCK TIME LIMIT,{random.uniform(1.0, constants['work_time_limit']):.2f}\\n\"\n",
    "        f\"TRUCK UNIT COST,{(random.uniform(*param_ranges['cost_ratio']) * constants['drone_unit_cost']):.2f}\\n\"\n",
    "        f\"DRONE UNIT COST,{constants['drone_unit_cost']}\\n\"\n",
    "    )\n",
    "    customer_lines = \"\\n\".join(\n",
    "        f\"{i}\\t{customer['x']:.2f}\\t{customer['y']:.2f}\\t{customer['demand']:.2f}\"\n",
    "        for i, customer in enumerate(all_entities)\n",
    "    )\n",
    "    return header + customer_lines"
   ]
  },
  {
   "cell_type": "code",
   "execution_count": 131,
   "metadata": {},
   "outputs": [],
   "source": [
    "# Generate all instances\n",
    "instances = [generate_instance()  for _ in range(num_instances)]"
   ]
  },
  {
   "cell_type": "code",
   "execution_count": 132,
   "metadata": {},
   "outputs": [],
   "source": [
    "for index, instance in enumerate(instances):\n",
    "    with open('./generated_instances/'+ str(index) + '-r-r' '.txt', 'w') as file:\n",
    "        file.write(str(instance))"
   ]
  },
  {
   "cell_type": "code",
   "execution_count": 139,
   "metadata": {},
   "outputs": [],
   "source": [
    "def compute_cost_saving(instance_name, sigma, c_average_removed, L_max, w1, w2, w3, w4, w5, gamma, n_nearest, delta, epsilon, iter_imp, iter_max, p_min, p_max, max_unfeasible_swaps_perturb):\n",
    "    instance = PDSVRP_instance.PDSVRPInstance(\"generated_instances/\" + instance_name)\n",
    "    \n",
    "    instance_no_drones = copy.deepcopy(instance)\n",
    "    instance_no_drones.D = 0\n",
    "    \n",
    "    sol_drones = h.SISSRs(instance, sigma, c_average_removed, L_max, w1, w2, w3, w4, w5, gamma, n_nearest, delta, epsilon, iter_imp, iter_max, p_min, p_max, max_unfeasible_swaps_perturb)\n",
    "    sol_no_drones = h.SISSRs(instance_no_drones, sigma, c_average_removed, L_max, w1, w2, w3, w4, w5, gamma, n_nearest, delta, epsilon, iter_imp, iter_max, p_min, p_max, max_unfeasible_swaps_perturb)\n",
    "    \n",
    "    cost_with_drones = u.cost(instance, sol_drones)\n",
    "    cost_without_drones = u.cost(instance_no_drones, sol_no_drones)\n",
    "    \n",
    "    cost_saving = 100 * (cost_without_drones - cost_with_drones) / cost_without_drones\n",
    "    return cost_saving"
   ]
  },
  {
   "cell_type": "code",
   "execution_count": 140,
   "metadata": {},
   "outputs": [
    {
     "name": "stdout",
     "output_type": "stream",
     "text": [
      "Iteration:  1\n",
      "Costo miglior soluzione:  91.24581218256175\n",
      "Iteration:  2\n",
      "Costo miglior soluzione:  91.24581218256175\n",
      "Iteration:  3\n",
      "Costo miglior soluzione:  91.24581218256175\n",
      "Iteration:  4\n",
      "Costo miglior soluzione:  91.24581218256175\n",
      "Iteration:  5\n",
      "Costo miglior soluzione:  91.24581218256175\n",
      "Iteration:  6\n",
      "Costo miglior soluzione:  90.00501218256173\n",
      "Iteration:  7\n",
      "Costo miglior soluzione:  90.00501218256173\n",
      "Iteration:  8\n",
      "Costo miglior soluzione:  90.00501218256173\n",
      "Iteration:  9\n",
      "Costo miglior soluzione:  90.00501218256173\n"
     ]
    },
    {
     "ename": "KeyboardInterrupt",
     "evalue": "",
     "output_type": "error",
     "traceback": [
      "\u001b[1;31m---------------------------------------------------------------------------\u001b[0m",
      "\u001b[1;31mKeyboardInterrupt\u001b[0m                         Traceback (most recent call last)",
      "Cell \u001b[1;32mIn[140], line 9\u001b[0m\n\u001b[0;32m      6\u001b[0m     instances_name_files\u001b[38;5;241m.\u001b[39mappend(\u001b[38;5;28mstr\u001b[39m(index) \u001b[38;5;241m+\u001b[39m \u001b[38;5;124m\"\u001b[39m\u001b[38;5;124m-r-r.txt\u001b[39m\u001b[38;5;124m\"\u001b[39m)\n\u001b[0;32m      8\u001b[0m \u001b[38;5;28;01mfor\u001b[39;00m name_file_instance \u001b[38;5;129;01min\u001b[39;00m instances_name_files:\n\u001b[1;32m----> 9\u001b[0m     cost_savings\u001b[38;5;241m.\u001b[39mappend(\u001b[43mcompute_cost_saving\u001b[49m\u001b[43m(\u001b[49m\u001b[43mname_file_instance\u001b[49m\u001b[43m,\u001b[49m\u001b[43m \u001b[49m\u001b[38;5;241;43m0.3\u001b[39;49m\u001b[43m,\u001b[49m\u001b[43m \u001b[49m\u001b[38;5;241;43m4.5\u001b[39;49m\u001b[43m,\u001b[49m\u001b[43m \u001b[49m\u001b[38;5;241;43m4.5\u001b[39;49m\u001b[43m,\u001b[49m\u001b[43m \u001b[49m\u001b[38;5;241;43m5\u001b[39;49m\u001b[43m,\u001b[49m\u001b[38;5;241;43m1\u001b[39;49m\u001b[43m,\u001b[49m\u001b[38;5;241;43m1\u001b[39;49m\u001b[43m,\u001b[49m\u001b[38;5;241;43m2\u001b[39;49m\u001b[43m,\u001b[49m\u001b[38;5;241;43m2\u001b[39;49m\u001b[43m,\u001b[49m\u001b[43m \u001b[49m\u001b[38;5;241;43m0.1\u001b[39;49m\u001b[43m,\u001b[49m\u001b[43m \u001b[49m\u001b[38;5;241;43m20\u001b[39;49m\u001b[43m,\u001b[49m\u001b[43m \u001b[49m\u001b[38;5;241;43m0.1\u001b[39;49m\u001b[43m,\u001b[49m\u001b[43m \u001b[49m\u001b[38;5;241;43m0.999975\u001b[39;49m\u001b[43m,\u001b[49m\u001b[43m \u001b[49m\u001b[38;5;241;43m1000\u001b[39;49m\u001b[43m,\u001b[49m\u001b[43m \u001b[49m\u001b[38;5;241;43m10000\u001b[39;49m\u001b[43m,\u001b[49m\u001b[43m \u001b[49m\u001b[38;5;241;43m3\u001b[39;49m\u001b[43m,\u001b[49m\u001b[43m \u001b[49m\u001b[38;5;241;43m3\u001b[39;49m\u001b[43m,\u001b[49m\u001b[43m \u001b[49m\u001b[38;5;241;43m9\u001b[39;49m\u001b[43m)\u001b[49m)\n",
      "Cell \u001b[1;32mIn[139], line 7\u001b[0m, in \u001b[0;36mcompute_cost_saving\u001b[1;34m(instance_name, sigma, c_average_removed, L_max, w1, w2, w3, w4, w5, gamma, n_nearest, delta, epsilon, iter_imp, iter_max, p_min, p_max, max_unfeasible_swaps_perturb)\u001b[0m\n\u001b[0;32m      4\u001b[0m instance_no_drones \u001b[38;5;241m=\u001b[39m copy\u001b[38;5;241m.\u001b[39mdeepcopy(instance)\n\u001b[0;32m      5\u001b[0m instance_no_drones\u001b[38;5;241m.\u001b[39mD \u001b[38;5;241m=\u001b[39m \u001b[38;5;241m0\u001b[39m\n\u001b[1;32m----> 7\u001b[0m sol_drones \u001b[38;5;241m=\u001b[39m \u001b[43mh\u001b[49m\u001b[38;5;241;43m.\u001b[39;49m\u001b[43mSISSRs\u001b[49m\u001b[43m(\u001b[49m\u001b[43minstance\u001b[49m\u001b[43m,\u001b[49m\u001b[43m \u001b[49m\u001b[43msigma\u001b[49m\u001b[43m,\u001b[49m\u001b[43m \u001b[49m\u001b[43mc_average_removed\u001b[49m\u001b[43m,\u001b[49m\u001b[43m \u001b[49m\u001b[43mL_max\u001b[49m\u001b[43m,\u001b[49m\u001b[43m \u001b[49m\u001b[43mw1\u001b[49m\u001b[43m,\u001b[49m\u001b[43m \u001b[49m\u001b[43mw2\u001b[49m\u001b[43m,\u001b[49m\u001b[43m \u001b[49m\u001b[43mw3\u001b[49m\u001b[43m,\u001b[49m\u001b[43m \u001b[49m\u001b[43mw4\u001b[49m\u001b[43m,\u001b[49m\u001b[43m \u001b[49m\u001b[43mw5\u001b[49m\u001b[43m,\u001b[49m\u001b[43m \u001b[49m\u001b[43mgamma\u001b[49m\u001b[43m,\u001b[49m\u001b[43m \u001b[49m\u001b[43mn_nearest\u001b[49m\u001b[43m,\u001b[49m\u001b[43m \u001b[49m\u001b[43mdelta\u001b[49m\u001b[43m,\u001b[49m\u001b[43m \u001b[49m\u001b[43mepsilon\u001b[49m\u001b[43m,\u001b[49m\u001b[43m \u001b[49m\u001b[43miter_imp\u001b[49m\u001b[43m,\u001b[49m\u001b[43m \u001b[49m\u001b[43miter_max\u001b[49m\u001b[43m,\u001b[49m\u001b[43m \u001b[49m\u001b[43mp_min\u001b[49m\u001b[43m,\u001b[49m\u001b[43m \u001b[49m\u001b[43mp_max\u001b[49m\u001b[43m,\u001b[49m\u001b[43m \u001b[49m\u001b[43mmax_unfeasible_swaps_perturb\u001b[49m\u001b[43m)\u001b[49m\n\u001b[0;32m      8\u001b[0m sol_no_drones \u001b[38;5;241m=\u001b[39m h\u001b[38;5;241m.\u001b[39mSISSRs(instance_no_drones, sigma, c_average_removed, L_max, w1, w2, w3, w4, w5, gamma, n_nearest, delta, epsilon, iter_imp, iter_max, p_min, p_max, max_unfeasible_swaps_perturb)\n\u001b[0;32m     10\u001b[0m cost_with_drones \u001b[38;5;241m=\u001b[39m u\u001b[38;5;241m.\u001b[39mcost(instance, sol_drones)\n",
      "File \u001b[1;32mc:\\Users\\pelli\\Documents\\Università\\Magistrale ING INFO\\2_ANNO\\Mathematical Optimization\\Mathematical-optimization-project\\heuristic.ipynb:285\u001b[0m, in \u001b[0;36mSISSRs\u001b[1;34m(instance, sigma, c_average_removed, L_max, w1, w2, w3, w4, w5, gamma, n_nearest, delta, epsilon, iter_imp, iter_max, p_min, p_max, max_unfeasible_swaps_perturb)\u001b[0m\n\u001b[0;32m    283\u001b[0m s \u001b[38;5;241m=\u001b[39m ruin_and_recreate(instance, copy\u001b[38;5;241m.\u001b[39mdeepcopy(s_curr), sigma, c_average_removed, L_max, w1, w2, w3, w4, w5, gamma)\n\u001b[0;32m    284\u001b[0m \u001b[38;5;28;01mif\u001b[39;00m u\u001b[38;5;241m.\u001b[39mcost(instance, s) \u001b[38;5;241m<\u001b[39m u\u001b[38;5;241m.\u001b[39mcost(instance, s_curr)\u001b[38;5;241m*\u001b[39m(\u001b[38;5;241m1\u001b[39m\u001b[38;5;241m+\u001b[39mdelta):\n\u001b[1;32m--> 285\u001b[0m     s_curr \u001b[38;5;241m=\u001b[39m \u001b[43mlocal_search\u001b[49m\u001b[43m(\u001b[49m\u001b[43minstance\u001b[49m\u001b[43m,\u001b[49m\u001b[43m \u001b[49m\u001b[43ms\u001b[49m\u001b[43m,\u001b[49m\u001b[43m \u001b[49m\u001b[43mn_nearest\u001b[49m\u001b[43m)\u001b[49m\n\u001b[0;32m    286\u001b[0m     \u001b[38;5;28;01mif\u001b[39;00m u\u001b[38;5;241m.\u001b[39mcost(instance, s_curr) \u001b[38;5;241m<\u001b[39m u\u001b[38;5;241m.\u001b[39mcost(instance, s_best):\n\u001b[0;32m    287\u001b[0m         s_best \u001b[38;5;241m=\u001b[39m s_curr\n",
      "File \u001b[1;32mc:\\Users\\pelli\\Documents\\Università\\Magistrale ING INFO\\2_ANNO\\Mathematical Optimization\\Mathematical-optimization-project\\heuristic.ipynb:196\u001b[0m, in \u001b[0;36mlocal_search\u001b[1;34m(instance, solution, n_nearest)\u001b[0m\n\u001b[0;32m    194\u001b[0m new_solution \u001b[38;5;241m=\u001b[39m u\u001b[38;5;241m.\u001b[39mrelocate(instance, copy\u001b[38;5;241m.\u001b[39mdeepcopy(solution), customer, neighbor, i)\n\u001b[0;32m    195\u001b[0m \u001b[38;5;28;01mif\u001b[39;00m u\u001b[38;5;241m.\u001b[39mcost(instance, new_solution) \u001b[38;5;241m<\u001b[39m u\u001b[38;5;241m.\u001b[39mcost(instance, solution):\n\u001b[1;32m--> 196\u001b[0m     \u001b[38;5;28;01mreturn\u001b[39;00m \u001b[43mlocal_search\u001b[49m\u001b[43m(\u001b[49m\u001b[43minstance\u001b[49m\u001b[43m,\u001b[49m\u001b[43m \u001b[49m\u001b[43mnew_solution\u001b[49m\u001b[43m,\u001b[49m\u001b[43m \u001b[49m\u001b[43mn_nearest\u001b[49m\u001b[43m)\u001b[49m\n\u001b[0;32m    199\u001b[0m new_solution \u001b[38;5;241m=\u001b[39m u\u001b[38;5;241m.\u001b[39mswap(instance, copy\u001b[38;5;241m.\u001b[39mdeepcopy(solution), customer, neighbor, i)\n\u001b[0;32m    200\u001b[0m \u001b[38;5;28;01mif\u001b[39;00m u\u001b[38;5;241m.\u001b[39mcost(instance, new_solution) \u001b[38;5;241m<\u001b[39m u\u001b[38;5;241m.\u001b[39mcost(instance, solution):\n",
      "File \u001b[1;32mc:\\Users\\pelli\\Documents\\Università\\Magistrale ING INFO\\2_ANNO\\Mathematical Optimization\\Mathematical-optimization-project\\heuristic.ipynb:211\u001b[0m, in \u001b[0;36mlocal_search\u001b[1;34m(instance, solution, n_nearest)\u001b[0m\n\u001b[0;32m    209\u001b[0m         new_solution \u001b[38;5;241m=\u001b[39m u\u001b[38;5;241m.\u001b[39mswap_x(instance, copy\u001b[38;5;241m.\u001b[39mdeepcopy(solution), customer, neighbor, i)\n\u001b[0;32m    210\u001b[0m         \u001b[38;5;28;01mif\u001b[39;00m u\u001b[38;5;241m.\u001b[39mcost(instance, new_solution) \u001b[38;5;241m<\u001b[39m u\u001b[38;5;241m.\u001b[39mcost(instance, solution):\n\u001b[1;32m--> 211\u001b[0m             \u001b[38;5;28;01mreturn\u001b[39;00m \u001b[43mlocal_search\u001b[49m\u001b[43m(\u001b[49m\u001b[43minstance\u001b[49m\u001b[43m,\u001b[49m\u001b[43m \u001b[49m\u001b[43mnew_solution\u001b[49m\u001b[43m,\u001b[49m\u001b[43m \u001b[49m\u001b[43mn_nearest\u001b[49m\u001b[43m)\u001b[49m\n\u001b[0;32m    214\u001b[0m new_solution \u001b[38;5;241m=\u001b[39m u\u001b[38;5;241m.\u001b[39mshift_t(instance, copy\u001b[38;5;241m.\u001b[39mdeepcopy(solution), customer, i)\n\u001b[0;32m    215\u001b[0m \u001b[38;5;28;01mif\u001b[39;00m u\u001b[38;5;241m.\u001b[39mcost(instance, new_solution) \u001b[38;5;241m<\u001b[39m u\u001b[38;5;241m.\u001b[39mcost(instance, solution):\n",
      "File \u001b[1;32mc:\\Users\\pelli\\Documents\\Università\\Magistrale ING INFO\\2_ANNO\\Mathematical Optimization\\Mathematical-optimization-project\\heuristic.ipynb:216\u001b[0m, in \u001b[0;36mlocal_search\u001b[1;34m(instance, solution, n_nearest)\u001b[0m\n\u001b[0;32m    214\u001b[0m         new_solution \u001b[38;5;241m=\u001b[39m u\u001b[38;5;241m.\u001b[39mshift_t(instance, copy\u001b[38;5;241m.\u001b[39mdeepcopy(solution), customer, i)\n\u001b[0;32m    215\u001b[0m         \u001b[38;5;28;01mif\u001b[39;00m u\u001b[38;5;241m.\u001b[39mcost(instance, new_solution) \u001b[38;5;241m<\u001b[39m u\u001b[38;5;241m.\u001b[39mcost(instance, solution):\n\u001b[1;32m--> 216\u001b[0m             \u001b[38;5;28;01mreturn\u001b[39;00m \u001b[43mlocal_search\u001b[49m\u001b[43m(\u001b[49m\u001b[43minstance\u001b[49m\u001b[43m,\u001b[49m\u001b[43m \u001b[49m\u001b[43mnew_solution\u001b[49m\u001b[43m,\u001b[49m\u001b[43m \u001b[49m\u001b[43mn_nearest\u001b[49m\u001b[43m)\u001b[49m\n\u001b[0;32m    219\u001b[0m \u001b[38;5;28;01mfor\u001b[39;00m i \u001b[38;5;129;01min\u001b[39;00m \u001b[38;5;28mrange\u001b[39m(\u001b[38;5;28mlen\u001b[39m(solution[\u001b[38;5;241m0\u001b[39m][\u001b[38;5;241m1\u001b[39m])):\n\u001b[0;32m    221\u001b[0m     \u001b[38;5;28;01mfor\u001b[39;00m customer \u001b[38;5;129;01min\u001b[39;00m solution[\u001b[38;5;241m0\u001b[39m][\u001b[38;5;241m1\u001b[39m][i]:\n",
      "File \u001b[1;32mc:\\Users\\pelli\\Documents\\Università\\Magistrale ING INFO\\2_ANNO\\Mathematical Optimization\\Mathematical-optimization-project\\heuristic.ipynb:191\u001b[0m, in \u001b[0;36mlocal_search\u001b[1;34m(instance, solution, n_nearest)\u001b[0m\n\u001b[0;32m    189\u001b[0m     new_solution \u001b[38;5;241m=\u001b[39m u\u001b[38;5;241m.\u001b[39m_2_opt_x(instance, copy\u001b[38;5;241m.\u001b[39mdeepcopy(solution), customer, neighbor, i)\n\u001b[0;32m    190\u001b[0m     \u001b[38;5;28;01mif\u001b[39;00m u\u001b[38;5;241m.\u001b[39mcost(instance, new_solution) \u001b[38;5;241m<\u001b[39m u\u001b[38;5;241m.\u001b[39mcost(instance, solution):\n\u001b[1;32m--> 191\u001b[0m         \u001b[38;5;28;01mreturn\u001b[39;00m \u001b[43mlocal_search\u001b[49m\u001b[43m(\u001b[49m\u001b[43minstance\u001b[49m\u001b[43m,\u001b[49m\u001b[43m \u001b[49m\u001b[43mnew_solution\u001b[49m\u001b[43m,\u001b[49m\u001b[43m \u001b[49m\u001b[43mn_nearest\u001b[49m\u001b[43m)\u001b[49m\n\u001b[0;32m    193\u001b[0m \u001b[38;5;28;01melse\u001b[39;00m: \n\u001b[0;32m    194\u001b[0m     new_solution \u001b[38;5;241m=\u001b[39m u\u001b[38;5;241m.\u001b[39mrelocate(instance, copy\u001b[38;5;241m.\u001b[39mdeepcopy(solution), customer, neighbor, i)\n",
      "File \u001b[1;32mc:\\Users\\pelli\\Documents\\Università\\Magistrale ING INFO\\2_ANNO\\Mathematical Optimization\\Mathematical-optimization-project\\heuristic.ipynb:191\u001b[0m, in \u001b[0;36mlocal_search\u001b[1;34m(instance, solution, n_nearest)\u001b[0m\n\u001b[0;32m    189\u001b[0m     new_solution \u001b[38;5;241m=\u001b[39m u\u001b[38;5;241m.\u001b[39m_2_opt_x(instance, copy\u001b[38;5;241m.\u001b[39mdeepcopy(solution), customer, neighbor, i)\n\u001b[0;32m    190\u001b[0m     \u001b[38;5;28;01mif\u001b[39;00m u\u001b[38;5;241m.\u001b[39mcost(instance, new_solution) \u001b[38;5;241m<\u001b[39m u\u001b[38;5;241m.\u001b[39mcost(instance, solution):\n\u001b[1;32m--> 191\u001b[0m         \u001b[38;5;28;01mreturn\u001b[39;00m \u001b[43mlocal_search\u001b[49m\u001b[43m(\u001b[49m\u001b[43minstance\u001b[49m\u001b[43m,\u001b[49m\u001b[43m \u001b[49m\u001b[43mnew_solution\u001b[49m\u001b[43m,\u001b[49m\u001b[43m \u001b[49m\u001b[43mn_nearest\u001b[49m\u001b[43m)\u001b[49m\n\u001b[0;32m    193\u001b[0m \u001b[38;5;28;01melse\u001b[39;00m: \n\u001b[0;32m    194\u001b[0m     new_solution \u001b[38;5;241m=\u001b[39m u\u001b[38;5;241m.\u001b[39mrelocate(instance, copy\u001b[38;5;241m.\u001b[39mdeepcopy(solution), customer, neighbor, i)\n",
      "File \u001b[1;32mc:\\Users\\pelli\\Documents\\Università\\Magistrale ING INFO\\2_ANNO\\Mathematical Optimization\\Mathematical-optimization-project\\heuristic.ipynb:216\u001b[0m, in \u001b[0;36mlocal_search\u001b[1;34m(instance, solution, n_nearest)\u001b[0m\n\u001b[0;32m    214\u001b[0m         new_solution \u001b[38;5;241m=\u001b[39m u\u001b[38;5;241m.\u001b[39mshift_t(instance, copy\u001b[38;5;241m.\u001b[39mdeepcopy(solution), customer, i)\n\u001b[0;32m    215\u001b[0m         \u001b[38;5;28;01mif\u001b[39;00m u\u001b[38;5;241m.\u001b[39mcost(instance, new_solution) \u001b[38;5;241m<\u001b[39m u\u001b[38;5;241m.\u001b[39mcost(instance, solution):\n\u001b[1;32m--> 216\u001b[0m             \u001b[38;5;28;01mreturn\u001b[39;00m \u001b[43mlocal_search\u001b[49m\u001b[43m(\u001b[49m\u001b[43minstance\u001b[49m\u001b[43m,\u001b[49m\u001b[43m \u001b[49m\u001b[43mnew_solution\u001b[49m\u001b[43m,\u001b[49m\u001b[43m \u001b[49m\u001b[43mn_nearest\u001b[49m\u001b[43m)\u001b[49m\n\u001b[0;32m    219\u001b[0m \u001b[38;5;28;01mfor\u001b[39;00m i \u001b[38;5;129;01min\u001b[39;00m \u001b[38;5;28mrange\u001b[39m(\u001b[38;5;28mlen\u001b[39m(solution[\u001b[38;5;241m0\u001b[39m][\u001b[38;5;241m1\u001b[39m])):\n\u001b[0;32m    221\u001b[0m     \u001b[38;5;28;01mfor\u001b[39;00m customer \u001b[38;5;129;01min\u001b[39;00m solution[\u001b[38;5;241m0\u001b[39m][\u001b[38;5;241m1\u001b[39m][i]:\n",
      "File \u001b[1;32mc:\\Users\\pelli\\Documents\\Università\\Magistrale ING INFO\\2_ANNO\\Mathematical Optimization\\Mathematical-optimization-project\\heuristic.ipynb:224\u001b[0m, in \u001b[0;36mlocal_search\u001b[1;34m(instance, solution, n_nearest)\u001b[0m\n\u001b[0;32m    222\u001b[0m         new_solution \u001b[38;5;241m=\u001b[39m u\u001b[38;5;241m.\u001b[39mshift_d(instance, copy\u001b[38;5;241m.\u001b[39mdeepcopy(solution), customer, i)\n\u001b[0;32m    223\u001b[0m         \u001b[38;5;28;01mif\u001b[39;00m u\u001b[38;5;241m.\u001b[39mcost(instance, new_solution) \u001b[38;5;241m<\u001b[39m u\u001b[38;5;241m.\u001b[39mcost(instance, solution):\n\u001b[1;32m--> 224\u001b[0m             \u001b[38;5;28;01mreturn\u001b[39;00m \u001b[43mlocal_search\u001b[49m\u001b[43m(\u001b[49m\u001b[43minstance\u001b[49m\u001b[43m,\u001b[49m\u001b[43m \u001b[49m\u001b[43mnew_solution\u001b[49m\u001b[43m,\u001b[49m\u001b[43m \u001b[49m\u001b[43mn_nearest\u001b[49m\u001b[43m)\u001b[49m\n\u001b[0;32m    227\u001b[0m \u001b[38;5;28;01mreturn\u001b[39;00m solution\n",
      "File \u001b[1;32mc:\\Users\\pelli\\Documents\\Università\\Magistrale ING INFO\\2_ANNO\\Mathematical Optimization\\Mathematical-optimization-project\\heuristic.ipynb:199\u001b[0m, in \u001b[0;36mlocal_search\u001b[1;34m(instance, solution, n_nearest)\u001b[0m\n\u001b[0;32m    195\u001b[0m \u001b[38;5;28;01mif\u001b[39;00m u\u001b[38;5;241m.\u001b[39mcost(instance, new_solution) \u001b[38;5;241m<\u001b[39m u\u001b[38;5;241m.\u001b[39mcost(instance, solution):\n\u001b[0;32m    196\u001b[0m     \u001b[38;5;28;01mreturn\u001b[39;00m local_search(instance, new_solution, n_nearest)\n\u001b[1;32m--> 199\u001b[0m new_solution \u001b[38;5;241m=\u001b[39m \u001b[43mu\u001b[49m\u001b[38;5;241;43m.\u001b[39;49m\u001b[43mswap\u001b[49m\u001b[43m(\u001b[49m\u001b[43minstance\u001b[49m\u001b[43m,\u001b[49m\u001b[43m \u001b[49m\u001b[43mcopy\u001b[49m\u001b[38;5;241;43m.\u001b[39;49m\u001b[43mdeepcopy\u001b[49m\u001b[43m(\u001b[49m\u001b[43msolution\u001b[49m\u001b[43m)\u001b[49m\u001b[43m,\u001b[49m\u001b[43m \u001b[49m\u001b[43mcustomer\u001b[49m\u001b[43m,\u001b[49m\u001b[43m \u001b[49m\u001b[43mneighbor\u001b[49m\u001b[43m,\u001b[49m\u001b[43m \u001b[49m\u001b[43mi\u001b[49m\u001b[43m)\u001b[49m\n\u001b[0;32m    200\u001b[0m \u001b[38;5;28;01mif\u001b[39;00m u\u001b[38;5;241m.\u001b[39mcost(instance, new_solution) \u001b[38;5;241m<\u001b[39m u\u001b[38;5;241m.\u001b[39mcost(instance, solution):\n\u001b[0;32m    201\u001b[0m     \u001b[38;5;28;01mreturn\u001b[39;00m local_search(instance, new_solution, n_nearest)\n",
      "File \u001b[1;32mc:\\Users\\pelli\\Documents\\Università\\Magistrale ING INFO\\2_ANNO\\Mathematical Optimization\\Mathematical-optimization-project\\utilities.ipynb:488\u001b[0m, in \u001b[0;36mswap\u001b[1;34m(instance, solution, customer, neighbor, tour_index)\u001b[0m\n\u001b[0;32m    485\u001b[0m proposed_tour[customer_index] \u001b[38;5;241m=\u001b[39m neighbor\n\u001b[0;32m    486\u001b[0m proposed_tour[neighbor_index] \u001b[38;5;241m=\u001b[39m customer\n\u001b[1;32m--> 488\u001b[0m \u001b[38;5;28;01mif\u001b[39;00m (\u001b[43mis_truck_tour_feasible\u001b[49m\u001b[43m(\u001b[49m\u001b[43minstance\u001b[49m\u001b[43m,\u001b[49m\u001b[43m \u001b[49m\u001b[43mproposed_tour\u001b[49m\u001b[43m)\u001b[49m):\n\u001b[0;32m    489\u001b[0m     solution[\u001b[38;5;241m0\u001b[39m][\u001b[38;5;241m0\u001b[39m][tour_index] \u001b[38;5;241m=\u001b[39m proposed_tour\n\u001b[0;32m    491\u001b[0m \u001b[38;5;28;01mreturn\u001b[39;00m solution\n",
      "File \u001b[1;32mc:\\Users\\pelli\\Documents\\Università\\Magistrale ING INFO\\2_ANNO\\Mathematical Optimization\\Mathematical-optimization-project\\utilities.ipynb:298\u001b[0m, in \u001b[0;36mis_truck_tour_feasible\u001b[1;34m(instance, tour)\u001b[0m\n\u001b[0;32m    287\u001b[0m         truck_tour \u001b[38;5;241m=\u001b[39m truck_tour[:customer_index] \u001b[38;5;241m+\u001b[39m truck_tour[customer_index \u001b[38;5;241m+\u001b[39m string_length:]\n\u001b[0;32m    289\u001b[0m     \u001b[38;5;28;01mreturn\u001b[39;00m truck_tour, absent_customers\n\u001b[1;32m--> 298\u001b[0m \u001b[38;5;28;01mdef\u001b[39;00m \u001b[38;5;21mis_truck_tour_feasible\u001b[39m(instance, tour):\n\u001b[0;32m    299\u001b[0m     \u001b[38;5;28;01mreturn\u001b[39;00m (truck_tour_time(instance\u001b[38;5;241m.\u001b[39mt_t, tour) \u001b[38;5;241m<\u001b[39m\u001b[38;5;241m=\u001b[39m instance\u001b[38;5;241m.\u001b[39mT_t) \u001b[38;5;129;01mand\u001b[39;00m \u001b[38;5;28msum\u001b[39m(instance\u001b[38;5;241m.\u001b[39mw[customer] \u001b[38;5;28;01mfor\u001b[39;00m customer \u001b[38;5;129;01min\u001b[39;00m tour) \u001b[38;5;241m<\u001b[39m\u001b[38;5;241m=\u001b[39m instance\u001b[38;5;241m.\u001b[39mQ_t\n\u001b[0;32m    308\u001b[0m \u001b[38;5;28;01mdef\u001b[39;00m \u001b[38;5;21mfeasible_truck_tour_positions_calculation\u001b[39m(instance, truck_tours, customer): \u001b[38;5;66;03m#in non-empty truck tours\u001b[39;00m\n",
      "\u001b[1;31mKeyboardInterrupt\u001b[0m: "
     ]
    }
   ],
   "source": [
    "# Apply the function to each instance\n",
    "cost_savings = []\n",
    "\n",
    "instances_name_files = []\n",
    "for indee in range(num_instances):\n",
    "    instances_name_files.append(str(index) + \"-r-r.txt\")\n",
    "        \n",
    "for name_file_instance in instances_name_files:\n",
    "    cost_savings.append(compute_cost_saving(name_file_instance, 0.3, 4.5, 4.5, 5,1,1,2,2, 0.1, 20, 0.1, 0.999975, 1000, 10000, 3, 3, 9))"
   ]
  }
 ],
 "metadata": {
  "kernelspec": {
   "display_name": "Python 3",
   "language": "python",
   "name": "python3"
  },
  "language_info": {
   "codemirror_mode": {
    "name": "ipython",
    "version": 3
   },
   "file_extension": ".py",
   "mimetype": "text/x-python",
   "name": "python",
   "nbconvert_exporter": "python",
   "pygments_lexer": "ipython3",
   "version": "3.12.2"
  }
 },
 "nbformat": 4,
 "nbformat_minor": 2
}

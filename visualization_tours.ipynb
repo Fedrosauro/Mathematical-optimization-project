{
 "cells": [
  {
   "cell_type": "code",
   "execution_count": 8,
   "metadata": {},
   "outputs": [
    {
     "name": "stdout",
     "output_type": "stream",
     "text": [
      "{(0, 20): 1.0, (6, 18): 1.0, (11, 19): 1.0, (12, 0): 1.0, (18, 27): 1.0, (19, 28): 1.0, (20, 29): 1.0, (21, 12): 1.0, (22, 21): 1.0, (27, 11): 1.0, (28, 22): 1.0, (29, 30): 1.0, (30, 6): 1.0, (1, 2): 1.0, (2, 2): 1.0, (3, 0): 1.0, (4, 0): 1.0, (5, 2): 1.0, (7, 1): 1.0, (8, 1): 1.0, (9, 3): 1.0, (10, 0): 1.0, (13, 0): 1.0, (14, 1): 1.0, (15, 0): 1.0, (16, 0): 1.0, (17, 0): 1.0, (23, 1): 1.0, (24, 0): 1.0, (25, 0): 1.0, (26, 3): 1.0}\n"
     ]
    }
   ],
   "source": [
    "import numpy as np\n",
    "\n",
    "# Step 1: Read the file\n",
    "file_path = 'solver_solution_file_test.txt'\n",
    "with open(file_path, 'r') as file:\n",
    "    data = file.readlines()\n",
    "\n",
    "# Step 2: Parse the data\n",
    "data_dict = {}\n",
    "for line in data:\n",
    "    key, value = line.strip().split(': ')\n",
    "    row_col = key.split('[')[1].split(']')[0].split(',')\n",
    "    row, col = int(row_col[0]), int(row_col[1])\n",
    "    value = float(value)\n",
    "    if value != 0:\n",
    "        data_dict[(row, col)] = value\n",
    "\n",
    "print(data_dict)"
   ]
  }
 ],
 "metadata": {
  "kernelspec": {
   "display_name": "base",
   "language": "python",
   "name": "python3"
  },
  "language_info": {
   "codemirror_mode": {
    "name": "ipython",
    "version": 3
   },
   "file_extension": ".py",
   "mimetype": "text/x-python",
   "name": "python",
   "nbconvert_exporter": "python",
   "pygments_lexer": "ipython3",
   "version": "3.9.13"
  }
 },
 "nbformat": 4,
 "nbformat_minor": 2
}

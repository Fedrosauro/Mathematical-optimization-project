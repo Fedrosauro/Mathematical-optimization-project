{
 "cells": [
  {
   "cell_type": "code",
   "execution_count": 8,
   "metadata": {},
   "outputs": [],
   "source": [
    "from instancePDSVRP import instancePDSVRP\n",
    "from solver import PDSVRPModel\n",
    "import copy\n",
    "import time\n",
    "import heuristic as h\n",
    "import utilities as u"
   ]
  },
  {
   "cell_type": "markdown",
   "metadata": {},
   "source": [
    "Method that returns also the initial solution"
   ]
  },
  {
   "cell_type": "code",
   "execution_count": 9,
   "metadata": {},
   "outputs": [],
   "source": [
    "def SISSRs_with_initial_solution_return(instance, sigma, c_average_removed, L_max, w1, w2, w3, w4, w5, gamma, n_nearest, delta, epsilon, iter_imp, iter_max, p_min, p_max, max_unfeasible_swaps_perturb):\n",
    "    s_0 = h.initial_solution_construction(instance, w1, w2, w3, w4, w5, gamma, n_nearest)\n",
    "    s_curr = s_0\n",
    "    s_best = s_0\n",
    "    iterations_without_improvement = 0\n",
    "    iteration_counter = 0\n",
    "    while (iteration_counter < iter_max):\n",
    "        s = h.ruin_and_recreate(instance, copy.deepcopy(s_curr), sigma, c_average_removed, L_max, w1, w2, w3, w4, w5, gamma)\n",
    "        if u.cost(instance, s) < u.cost(instance, s_curr)*(1+delta):\n",
    "            s_curr = h.local_search(instance, s, n_nearest)\n",
    "            if u.cost(instance, s_curr) < u.cost(instance, s_best):\n",
    "                s_best = s_curr\n",
    "                iterations_without_improvement = 0\n",
    "            else:\n",
    "                iterations_without_improvement += 1\n",
    "        if iterations_without_improvement >= iter_imp:\n",
    "            s_curr = h.perturbate(instance, s_curr, p_min, p_max, max_unfeasible_swaps_perturb)\n",
    "            iterations_without_improvement = 0\n",
    "        delta = delta * epsilon\n",
    "        iteration_counter+=1\n",
    "\n",
    "    return s_0, s_best"
   ]
  },
  {
   "cell_type": "markdown",
   "metadata": {},
   "source": [
    "Small instances test (both solver and heuristic)"
   ]
  },
  {
   "cell_type": "code",
   "execution_count": 10,
   "metadata": {},
   "outputs": [],
   "source": [
    "def test_solver_and_heuristic(solver, heuristic, instances,  sigma, c_average_removed, L_max, w1, w2, w3, w4, w5, gamma, n_nearest, delta, epsilon, iter_imp, iter_max, p_min, p_max, max_unfeasible_swaps_perturb):\n",
    "    results = []\n",
    "            \n",
    "    for instance_name in instances:\n",
    "        print(\"Solver for instance \" + instance_name)\n",
    "        instance = instancePDSVRP(\"instances/small_instances/\" + instance_name + \".txt\")\n",
    "        \n",
    "        s = solver(instance) \n",
    "        s.build_model()\n",
    "        s.solve()\n",
    "        cost_solver = s.model.objVal\n",
    "        elapsed_time_solver = s.model.Runtime\n",
    "\n",
    "        print(\"Heuristic\")   \n",
    "        start_time = time.time()\n",
    "        init_sol, sol = heuristic(instance, sigma, c_average_removed, L_max, w1, w2, w3, w4, w5, gamma, n_nearest, delta, epsilon, iter_imp, iter_max, p_min, p_max, max_unfeasible_swaps_perturb)\n",
    "        end_time = time.time()\n",
    "        cost_init_heu = u.cost(instance, init_sol)\n",
    "        cost_heu =u.cost(instance, sol)\n",
    "        elapsed_time_heuristic = end_time - start_time\n",
    "\n",
    "        print(\"Cost found with heuristic: \", cost_heu)\n",
    "        cost_difference = ((cost_heu - cost_solver) / cost_solver) * 100\n",
    "        cost_init_difference = ((cost_init_heu - cost_solver) / cost_solver) * 100\n",
    "                \n",
    "\n",
    "        N_t = [i for i in range(1,instance.N) if (instance.w[i] <=  instance.Q_d and ((instance.t_d[i] * 2) <= instance.d_end))]\n",
    "        drone_eligible_customers = len(N_t)\n",
    "\n",
    "        customers_served_by_drones = 0\n",
    "        trucks_used = 0\n",
    "         \n",
    "        if cost_heu < cost_solver:\n",
    "            for drone_tour in sol[0][1]:\n",
    "                customers_served_by_drones += len(drone_tour)\n",
    "            for truck_tour in sol[0][0]:\n",
    "                if len(truck_tour) > 0:\n",
    "                    trucks_used += 1\n",
    "\n",
    "        else:\n",
    "            trucks_used = sum(1 for i in range(1, s.N) if s.x[0, i].x > 0)\n",
    "            customers_served_by_drones = sum(1 for i in range(1, s.N) for k in range(s.D) if s.y[i, k].x > 0)\n",
    "\n",
    "        results.append({\n",
    "            \"instance\": instance_name,\n",
    "            \"cost_solver\": cost_solver,\n",
    "            \"cost_heuristic\": cost_heu,\n",
    "            \"cost_difference_percentage\": cost_difference,\n",
    "            \"cost_heuristic_initial\": cost_init_heu,  \n",
    "            \"cost_difference_initial_percentage\": cost_init_difference,             \n",
    "            \"time_solver\": elapsed_time_solver,\n",
    "            \"time_heuristic\": elapsed_time_heuristic,\n",
    "            \"drone_eligible_customers\": drone_eligible_customers,\n",
    "            \"customers_served_by_drones\": customers_served_by_drones,\n",
    "            \"trucks_used\" : trucks_used,\n",
    "            \"iter_imp\": iter_imp,\n",
    "            \"iter_max\": iter_max\n",
    "        })\n",
    "    \n",
    "    return results"
   ]
  },
  {
   "cell_type": "code",
   "execution_count": null,
   "metadata": {},
   "outputs": [],
   "source": [
    "\n",
    "model = PDSVRPModel\n",
    "heuristic = SISSRs_with_initial_solution_return\n",
    "\n",
    "instances = []\n",
    "for customers_position in [\"c\", \"r\", \"rc\"]:\n",
    "    for i in [\"0\", \"1\", \"2\"]:\n",
    "        for depot_position in [\"c\", \"e\", \"r\"]:\n",
    "            instances.append(\"20-\" + customers_position + \"-\" + i + \"-\" + depot_position)\n",
    "\n",
    "#instances = [\"10-c-1-c\"]\n",
    "\n",
    "results = test_solver_and_heuristic(model, heuristic, instances, 0.3, 3, 3, 5,1,1,2,2, 0.1, 20, 0.1, 0.999975, 100, 1000, 2, 2, 9)\n",
    "\n",
    "u.save_results_to_csv(results, \"tests/results/small_instances_results.csv\")"
   ]
  }
 ],
 "metadata": {
  "kernelspec": {
   "display_name": "Python 3",
   "language": "python",
   "name": "python3"
  },
  "language_info": {
   "codemirror_mode": {
    "name": "ipython",
    "version": 3
   },
   "file_extension": ".py",
   "mimetype": "text/x-python",
   "name": "python",
   "nbconvert_exporter": "python",
   "pygments_lexer": "ipython3",
   "version": "3.12.2"
  }
 },
 "nbformat": 4,
 "nbformat_minor": 2
}

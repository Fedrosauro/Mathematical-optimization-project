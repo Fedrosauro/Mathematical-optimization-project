{
 "cells": [
  {
   "cell_type": "code",
   "execution_count": 1,
   "metadata": {},
   "outputs": [],
   "source": [
    "import random\n",
    "import pandas as pd\n",
    "import numpy as np\n",
    "from sklearn.tree import DecisionTreeRegressor\n",
    "from instancePDSVRP import instancePDSVRP\n",
    "import copy\n",
    "import matplotlib.pyplot as plt\n",
    "from sklearn.tree import plot_tree\n",
    "import seaborn as sns\n",
    "import heuristic as h\n",
    "import utilities as u"
   ]
  },
  {
   "cell_type": "code",
   "execution_count": 2,
   "metadata": {},
   "outputs": [],
   "source": [
    "# Parameter ranges\n",
    "param_ranges = {\n",
    "    'num_customers': (10, 100),\n",
    "    'grid_size': (20, 40),\n",
    "    'num_drones': (1, 20),\n",
    "    'battery_endurance': (0.25, 1.0),\n",
    "    'cost_ratio': (10.0, 50.0)\n",
    "}\n",
    "\n",
    "# Constants\n",
    "constants = {\n",
    "    'truck_speed': 30.0,\n",
    "    'drone_speed': 40.0,\n",
    "    'truck_capacity': 1300.0,\n",
    "    'drone_capacity': 2.27,\n",
    "    'drone_unit_cost': 0.03,\n",
    "    'work_time_limit': 8.0\n",
    "}\n",
    "\n",
    "num_instances = 300"
   ]
  },
  {
   "cell_type": "markdown",
   "metadata": {},
   "source": [
    "Method to generate instances with given features"
   ]
  },
  {
   "cell_type": "code",
   "execution_count": 3,
   "metadata": {},
   "outputs": [],
   "source": [
    "def generate_instance(num_custumers, grid_size, num_drones, battery_endurance, cost_ratio):\n",
    "    custumers = []\n",
    "    \n",
    "    depot = [{\n",
    "        'x': random.uniform(0, grid_size),\n",
    "        'y': random.uniform(0, grid_size),\n",
    "        'demand': 0.00\n",
    "    }]\n",
    "    \n",
    "    custumers = [\n",
    "            {\n",
    "                'x': random.uniform(0, grid_size),\n",
    "                'y': random.uniform(0, grid_size),\n",
    "                'demand': random.uniform(0, 2.27) if np.random.rand() < 0.86 else random.uniform(2.27, 68) \n",
    "            }\n",
    "            for _ in range(num_custumers)\n",
    "        ]\n",
    "    \n",
    "    all_entities  = depot + custumers\n",
    "    \n",
    "    header = (\n",
    "        f\"NUM DRONES,{num_drones}\\n\"\n",
    "        f\"NUM TRUCKS,{10}\\n\"\n",
    "        f\"TRUCK CAP,{constants['truck_capacity']}\\n\"\n",
    "        f\"DRONE CAP,{constants['drone_capacity']}\\n\"\n",
    "        f\"TRUCK SPEED,{constants['truck_speed']}\\n\"\n",
    "        f\"DRONE SPEED,{constants['drone_speed']}\\n\"\n",
    "        f\"DRONE ENDURANCE,{battery_endurance:.2f}\\n\"\n",
    "        f\"DRONE TIME LIMIT,{constants['work_time_limit']}\\n\"\n",
    "        f\"TRUCK TIME LIMIT,{constants['work_time_limit']}\\n\"\n",
    "        f\"TRUCK UNIT COST,{cost_ratio * constants['drone_unit_cost']:.2f}\\n\"\n",
    "        f\"DRONE UNIT COST,{constants['drone_unit_cost']}\\n\"\n",
    "    )\n",
    "    customer_lines = \"\\n\".join(\n",
    "        f\"{i}\\t{customer['x']:.2f}\\t{customer['y']:.2f}\\t{customer['demand']:.2f}\"\n",
    "        for i, customer in enumerate(all_entities)\n",
    "    )\n",
    "    return header + customer_lines"
   ]
  },
  {
   "cell_type": "markdown",
   "metadata": {},
   "source": [
    "Dataset creation"
   ]
  },
  {
   "cell_type": "code",
   "execution_count": 4,
   "metadata": {},
   "outputs": [],
   "source": [
    "instances = []\n",
    "params = []\n",
    "\n",
    "for _ in range(num_instances):\n",
    "    int_params = {\n",
    "        'num_custumers': random.randint(*param_ranges['num_customers']),\n",
    "        'grid_size': random.randint(*param_ranges['grid_size']),\n",
    "        'num_drones': random.randint(*param_ranges['num_drones']),\n",
    "        'battery_endurance': random.uniform(*param_ranges['battery_endurance']),\n",
    "        'cost_ratio': random.uniform(*param_ranges['cost_ratio']),\n",
    "    }\n",
    "    params.append(int_params)\n",
    "    instances.append(generate_instance(int_params['num_custumers'], int_params['grid_size'], int_params['num_drones'], int_params['battery_endurance'], int_params['cost_ratio']))\n",
    "\n",
    "df = pd.DataFrame(params)"
   ]
  },
  {
   "cell_type": "code",
   "execution_count": 6,
   "metadata": {},
   "outputs": [],
   "source": [
    "for index, instance in enumerate(instances):\n",
    "    with open('./instances/generated_instances/'+ str(index) + '-r-r' '.txt', 'w') as file:\n",
    "        file.write(str(instance))"
   ]
  },
  {
   "cell_type": "markdown",
   "metadata": {},
   "source": [
    "Computation of the dependent variable"
   ]
  },
  {
   "cell_type": "code",
   "execution_count": 7,
   "metadata": {},
   "outputs": [],
   "source": [
    "def compute_cost_saving(instance, sigma, c_average_removed, L_max, w1, w2, w3, w4, w5, gamma, n_nearest, delta, epsilon, iter_imp, iter_max, p_min, p_max, max_unfeasible_swaps_perturb):    \n",
    "    instance_no_drones = copy.deepcopy(instance)\n",
    "    instance_no_drones.D = 0\n",
    "        \n",
    "    sol_drones = h.SISSRs(instance, sigma, c_average_removed, L_max, w1, w2, w3, w4, w5, gamma, n_nearest, delta, epsilon, iter_imp, iter_max, p_min, p_max, max_unfeasible_swaps_perturb)\n",
    "    sol_no_drones = h.SISSRs(instance_no_drones, sigma, c_average_removed, L_max, w1, w2, w3, w4, w5, gamma, n_nearest, delta, epsilon, iter_imp, iter_max, p_min, p_max, max_unfeasible_swaps_perturb)\n",
    "    \n",
    "    cost_with_drones = u.cost(instance, sol_drones)\n",
    "    cost_without_drones = u.cost(instance_no_drones, sol_no_drones)\n",
    "    \n",
    "    cost_saving = 100 * (cost_without_drones - cost_with_drones) / cost_without_drones\n",
    "    return cost_saving"
   ]
  },
  {
   "cell_type": "code",
   "execution_count": null,
   "metadata": {},
   "outputs": [],
   "source": [
    "cost_savings = []\n",
    "\n",
    "instances_name_files = []\n",
    "for index in range(num_instances):\n",
    "    instances_name_files.append(str(index) + \"-r-r.txt\")\n",
    "            \n",
    "for name_file_instance in instances_name_files:\n",
    "    instance = instancePDSVRP(\"instances/generated_instances/\" + name_file_instance)\n",
    "    print(\"instance: \", name_file_instance)\n",
    "    p_min = (int)(min(3, instance.N * 0.1))\n",
    "    p_max = (int)(instance.N * 0.1)\n",
    "    cost_savings.append(compute_cost_saving(instance, 0.3, instance.N * 0.15, instance.N * 0.15, 5,1,1,2,2, 0.1, 20, 0.1, 0.999975, 30, 300, p_min, p_max, 9))\n",
    "    \n",
    "df['cost_savings'] = cost_savings"
   ]
  },
  {
   "cell_type": "code",
   "execution_count": null,
   "metadata": {},
   "outputs": [],
   "source": [
    "df.to_csv(\"results/sensitivity_analysis_results.csv\")"
   ]
  },
  {
   "cell_type": "markdown",
   "metadata": {},
   "source": [
    "Model training"
   ]
  },
  {
   "cell_type": "code",
   "execution_count": null,
   "metadata": {},
   "outputs": [],
   "source": [
    "# Features\n",
    "X = df[['num_custumers', 'grid_size', 'num_drones', 'battery_endurance', 'cost_ratio']]\n",
    "\n",
    "# Target\n",
    "y = df['cost_savings']\n",
    "\n",
    "regressor = DecisionTreeRegressor(max_depth=4, min_samples_leaf=9, random_state=42)\n",
    "\n",
    "regressor.fit(X, y)"
   ]
  },
  {
   "cell_type": "markdown",
   "metadata": {},
   "source": [
    "Tree rapresentation"
   ]
  },
  {
   "cell_type": "code",
   "execution_count": null,
   "metadata": {},
   "outputs": [],
   "source": [
    "plt.figure(figsize=(20,10))\n",
    "plot_tree(regressor, feature_names=X.columns, filled=True, rounded=True)\n",
    "plt.show()"
   ]
  },
  {
   "cell_type": "markdown",
   "metadata": {},
   "source": [
    "Plot feature importances"
   ]
  },
  {
   "cell_type": "code",
   "execution_count": null,
   "metadata": {},
   "outputs": [],
   "source": [
    "feature_importances = regressor.feature_importances_\n",
    "\n",
    "importance_df = pd.DataFrame({\n",
    "    'Parameter': X.columns,\n",
    "    'Importance': feature_importances\n",
    "})\n",
    "\n",
    "importance_df['Importance'] = importance_df['Importance'] / importance_df['Importance'].sum()\n",
    "importance_df = importance_df.sort_values(by='Importance', ascending=False)\n",
    "\n",
    "plt.figure(figsize=(10, 6))\n",
    "sns.barplot(data=importance_df, x='Importance', y='Parameter')\n",
    "plt.title('Parameter Importance')\n",
    "plt.show()"
   ]
  }
 ],
 "metadata": {
  "kernelspec": {
   "display_name": "Python 3",
   "language": "python",
   "name": "python3"
  },
  "language_info": {
   "codemirror_mode": {
    "name": "ipython",
    "version": 3
   },
   "file_extension": ".py",
   "mimetype": "text/x-python",
   "name": "python",
   "nbconvert_exporter": "python",
   "pygments_lexer": "ipython3",
   "version": "3.11.9"
  }
 },
 "nbformat": 4,
 "nbformat_minor": 2
}

{
 "cells": [
  {
   "cell_type": "code",
   "execution_count": 1,
   "metadata": {},
   "outputs": [
    {
     "name": "stdout",
     "output_type": "stream",
     "text": [
      "Requirement already satisfied: importnb in c:\\users\\pelli\\miniconda3\\lib\\site-packages (2023.11.1)\n",
      "Note: you may need to restart the kernel to use updated packages.\n"
     ]
    }
   ],
   "source": [
    "%pip install importnb"
   ]
  },
  {
   "cell_type": "code",
   "execution_count": 12,
   "metadata": {},
   "outputs": [],
   "source": [
    "from importnb import Notebook\n",
    "import PDSVRP_instance\n",
    "import time\n",
    "import pandas as pd\n",
    "\n",
    "with Notebook():\n",
    "    import solver as s\n",
    "    import heuristic as h"
   ]
  },
  {
   "cell_type": "code",
   "execution_count": 9,
   "metadata": {},
   "outputs": [],
   "source": [
    "def run_solver(instance):\n",
    "    model = s.PDSVRPModel(instance) \n",
    "    model.build_model()\n",
    "    model.solve()\n",
    "    \n",
    "    return model.get_resolution_time()"
   ]
  },
  {
   "cell_type": "code",
   "execution_count": 16,
   "metadata": {},
   "outputs": [],
   "source": [
    "def run_heuristic(instance):\n",
    "    h.SISSRs(instance, 0.3, 4.5, 4.5, 5,1,1,2,2, 0.1, 20, 0.1, 0.999975, 100, 1000, 3, 3, 9)"
   ]
  },
  {
   "cell_type": "code",
   "execution_count": 15,
   "metadata": {},
   "outputs": [],
   "source": [
    "def run_scalability_tests(instances):\n",
    "    results = []\n",
    "\n",
    "    for instance_file_path in instances:\n",
    "        instance = PDSVRP_instance.PDSVRPInstance(instance_file_path)\n",
    "        \n",
    "        solver_time = run_solver(instance)\n",
    "    \n",
    "        start_time = time.time()\n",
    "        run_heuristic(instance)\n",
    "        end_time = time.time()\n",
    "        elapsed_time_variant = end_time - start_time\n",
    "\n",
    "        results.append({\n",
    "            \"instance\": instance_file_path,\n",
    "            \"time_solver\": solver_time,\n",
    "            \"time_heuristic\": elapsed_time_variant\n",
    "        })\n",
    "    \n",
    "    return results"
   ]
  },
  {
   "cell_type": "code",
   "execution_count": 17,
   "metadata": {},
   "outputs": [],
   "source": [
    "def save_results_to_csv(results, filename):\n",
    "    df = pd.DataFrame(results)\n",
    "    df.to_csv(filename, index=False)    "
   ]
  },
  {
   "cell_type": "code",
   "execution_count": null,
   "metadata": {},
   "outputs": [],
   "source": [
    "instances = [\"\", \"\", \"\", \"\", \"\"]\n",
    "filename = \"\"\n",
    "\n",
    "for customers_position in [\"c\", \"r\", \"rc\"]:\n",
    "    for depot_position in [\"c\", \"e\", \"r\"]:\n",
    "        instances.append(\"30-\" + customers_position + \"-0-\" + depot_position)\n",
    "\n",
    "results = run_scalability_tests(instances)\n",
    "save_results_to_csv(results, filename)"
   ]
  }
 ],
 "metadata": {
  "kernelspec": {
   "display_name": "Python 3",
   "language": "python",
   "name": "python3"
  },
  "language_info": {
   "codemirror_mode": {
    "name": "ipython",
    "version": 3
   },
   "file_extension": ".py",
   "mimetype": "text/x-python",
   "name": "python",
   "nbconvert_exporter": "python",
   "pygments_lexer": "ipython3",
   "version": "3.12.2"
  }
 },
 "nbformat": 4,
 "nbformat_minor": 2
}

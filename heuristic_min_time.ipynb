{
 "cells": [
  {
   "cell_type": "code",
   "execution_count": 1,
   "metadata": {},
   "outputs": [],
   "source": [
    "import random"
   ]
  },
  {
   "cell_type": "code",
   "execution_count": null,
   "metadata": {},
   "outputs": [],
   "source": [
    "def SISSRs_min_time(instance, delta, epsilon, iter_max):\n",
    "    s_0 = initial_solution_construction(instance)\n",
    "    s_curr = s_0\n",
    "    s_best = s_0\n",
    "    iterations_without_improvement = 0\n",
    "    while (terminal_condition_met() == False):\n",
    "        s = ruin_and_recreate(instance, s_curr)\n",
    "        if cost(instance, s) < cost(instance, s_curr)*(1+delta):\n",
    "            s_curr = local_search(instance, s)\n",
    "            if cost(instance, s_curr) < cost(instance, s_best):\n",
    "                s_best = s_curr\n",
    "                iterations_without_improvement = 0\n",
    "            else:\n",
    "                iterations_without_improvement += 1\n",
    "        if iterations_without_improvement >= iter_max:\n",
    "            s_curr = perturbate(instance, s_curr)\n",
    "            iterations_without_improvement = 0\n",
    "        delta = delta * epsilon\n",
    "\n",
    "    return s_best \n",
    "\n",
    "           "
   ]
  }
 ],
 "metadata": {
  "kernelspec": {
   "display_name": "Python 3",
   "language": "python",
   "name": "python3"
  },
  "language_info": {
   "codemirror_mode": {
    "name": "ipython",
    "version": 3
   },
   "file_extension": ".py",
   "mimetype": "text/x-python",
   "name": "python",
   "nbconvert_exporter": "python",
   "pygments_lexer": "ipython3",
   "version": "3.11.9"
  }
 },
 "nbformat": 4,
 "nbformat_minor": 2
}

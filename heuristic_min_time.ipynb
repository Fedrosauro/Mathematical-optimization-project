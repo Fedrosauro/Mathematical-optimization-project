{
 "cells": [
  {
   "cell_type": "code",
   "execution_count": 1,
   "metadata": {},
   "outputs": [],
   "source": [
    "import random"
   ]
  },
  {
   "cell_type": "code",
   "execution_count": null,
   "metadata": {},
   "outputs": [],
   "source": [
    "def recreate(instance, solution, w1, w2, w3, w4, w5, gamma):\n",
    "    solution[1] = sort_absent_customers(instance, solution, w1, w2, w3, w4, w5)\n",
    "    for c in solution[1]:\n",
    "        pos_best = None\n",
    "        makespan_best = float('inf')\n",
    "        \n",
    "        feasible_truck_tour_positions = feasible_truck_tour_positions_calculation(instance, solution[0][0], c)\n",
    "        for pos in feasible_truck_tour_positions: \n",
    "            makespan_diff = completion_time(instance, insert_customer(c, pos, solution)) - makespan(instance, solution)\n",
    "            if pos_best == None or ((pos_best != None and makespan_diff <= makespan_best) and random.random() > (1 - gamma)):\n",
    "                makespan_best = makespan_diff\n",
    "                pos_best = pos\n",
    "        \n",
    "        if drone_eligible(isntance, solution[0][1], c):\n",
    "            chosen_drone = largest_time_slack_drone(solution[0][1])\n",
    "            makespan_diff = completion_time(instance, insert_customer(c, [1, chosen_drone, 0], solution)) - makespan(instance, solution)\n",
    "            if pos_best == None or ((pos_best != None and makespan_diff <= makespan_best) and random.random() > (1 - gamma)):\n",
    "                makespan_best = makespan_diff\n",
    "                pos_best = [1, chosen_drone, 0]\n",
    "\n",
    "        if pos_best == None:\n",
    "            solution[0][0].append([])\n",
    "            pos_best[0, len(solution[0][0]) - 1, 0]\n",
    "        \n",
    "        solution = insert_customer(c, pos_best, solution)\n",
    "        solution[1].remove(c)\n",
    "\n",
    "    return solution"
   ]
  },
  {
   "cell_type": "code",
   "execution_count": null,
   "metadata": {},
   "outputs": [],
   "source": [
    "def SISSRs_min_time(instance, delta, epsilon, iter_max):\n",
    "    s_0 = initial_solution_construction(instance)\n",
    "    s_curr = s_0\n",
    "    s_best = s_0\n",
    "    iterations_without_improvement = 0\n",
    "    while (terminal_condition_met() == False):\n",
    "        s = ruin_and_recreate(instance, s_curr)\n",
    "        if makespan(instance, s) < makespan(instance, s_curr)*(1+delta) or (makespan(instance, s) == makespan(instance, s_curr) and total_completion_time(instance,s) < total_completion_time(instance, s_curr)):\n",
    "            s_curr = local_search(instance, s)\n",
    "            if makespan(instance, s_curr) < makespan(instance, s_best) or (makespan(instance, s) == makespan(instance, s_best) and total_completion_time(instance,s) < total_completion_time(instance, s_best)):\n",
    "                s_best = s_curr\n",
    "                iterations_without_improvement = 0\n",
    "            else:\n",
    "                iterations_without_improvement += 1\n",
    "        if iterations_without_improvement >= iter_max:\n",
    "            s_curr = perturbate(instance, s_curr)\n",
    "            iterations_without_improvement = 0\n",
    "        delta = delta * epsilon\n",
    "\n",
    "    return s_best"
   ]
  }
 ],
 "metadata": {
  "kernelspec": {
   "display_name": "Python 3",
   "language": "python",
   "name": "python3"
  },
  "language_info": {
   "codemirror_mode": {
    "name": "ipython",
    "version": 3
   },
   "file_extension": ".py",
   "mimetype": "text/x-python",
   "name": "python",
   "nbconvert_exporter": "python",
   "pygments_lexer": "ipython3",
   "version": "3.11.9"
  }
 },
 "nbformat": 4,
 "nbformat_minor": 2
}

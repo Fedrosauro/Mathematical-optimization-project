{
 "cells": [
  {
   "cell_type": "code",
   "execution_count": 294,
   "metadata": {},
   "outputs": [],
   "source": [
    "import random\n",
    "import numpy as np\n",
    "import PDSVRP_instance\n",
    "import copy"
   ]
  },
  {
   "cell_type": "code",
   "execution_count": 295,
   "metadata": {},
   "outputs": [],
   "source": [
    "from importnb import Notebook\n",
    "\n",
    "with Notebook():\n",
    "    import utilities as u"
   ]
  },
  {
   "cell_type": "code",
   "execution_count": null,
   "metadata": {},
   "outputs": [],
   "source": [
    "def sweep_removal_operator(instance, solution, sigma):\n",
    "    c_drones = u.get_drone_customers(solution[0][1])\n",
    "    nbSweept = random.randint(0,int(len(c_drones) * sigma))\n",
    "\n",
    "    grad_seed = random.randint(0, 359)\n",
    "    c_drones = u.sort_by_angular(instance.coordinates, c_drones, grad_seed)\n",
    "    for c in c_drones:\n",
    "        if (len(solution[1]) < nbSweept):\n",
    "\n",
    "            #inlcude tour_index calculation inside \"remove_drone_customer, params: solution[0][1], c\"\n",
    "            tour_index = next((index for index, drone_tour in enumerate(solution[0][1]) if c in drone_tour), -1)\n",
    "            solution[0][1][tour_index], solution[1] = u.remove_drone_customer(solution[0][1][tour_index], solution[1], c)\n",
    "                               \n",
    "\n",
    "    return solution"
   ]
  },
  {
   "cell_type": "code",
   "execution_count": null,
   "metadata": {},
   "outputs": [],
   "source": [
    "def random_drone_customer_removal(solution, sigma):\n",
    "    #print(\"solution befor rand remove drones\", solution)\n",
    "    c_drones = u.get_drone_customers(solution[0][1])\n",
    "    q = random.randint(0,int(len(c_drones) * sigma))\n",
    "    \n",
    "    \n",
    "    while (len(solution[1]) < q):\n",
    "        customer_to_remove = random.choice(c_drones)\n",
    "\n",
    "        c_drones.remove(customer_to_remove)\n",
    "        tour_index = next((index for index, drone_tour in enumerate(solution[0][1]) if customer_to_remove in drone_tour), -1)\n",
    "        solution[0][1][tour_index], solution[1] = u.remove_drone_customer(solution[0][1][tour_index], solution[1], customer_to_remove)\n",
    "\n",
    "    return solution"
   ]
  },
  {
   "cell_type": "code",
   "execution_count": null,
   "metadata": {},
   "outputs": [],
   "source": [
    "def string_removal(instance, solution, c_average_removed, L_max): \n",
    "    l_s_max = u.max_string_length(solution[0][0], L_max)\n",
    "    k_s = u.n_strings_to_remove(c_average_removed, l_s_max)\n",
    "    \n",
    "    c_seed = random.randint(1, instance.N - 1)\n",
    "\n",
    "    R = []\n",
    "\n",
    "    c_adj = u.sort_by_euclidean_distance(instance.distances, c_seed)\n",
    "\n",
    "    for c in c_adj:\n",
    "        if len(R) < k_s:\n",
    "            if any(c in truck_tour for truck_tour in solution[0][0]):\n",
    "                if c not in solution[1]:\n",
    "                    tour_index = next((index for index, truck_tour in enumerate(solution[0][0]) if c in truck_tour), -1)\n",
    "                    if tour_index not in R:\n",
    "                        l = u.string_to_remove_length(l_s_max, solution[0][0][tour_index])\n",
    "                        \n",
    "                        solution[0][0][tour_index], solution[1] = u.remove_string(solution[0][0][tour_index], l, c, solution[1])\n",
    "                        R.append(tour_index)\n",
    "            elif any(c in drone_tour for drone_tour in solution[0][1]):\n",
    "                if c not in solution[1]:\n",
    "                    tour_index = next((index for index, drone_tour in enumerate(solution[0][1]) if c in drone_tour), -1)\n",
    "                    solution[0][1][tour_index], solution[1] = u.remove_drone_customer(solution[0][1][tour_index], solution[1], c)\n",
    "\n",
    "\n",
    "    return solution"
   ]
  },
  {
   "cell_type": "markdown",
   "metadata": {},
   "source": [
    "##### First modification"
   ]
  },
  {
   "cell_type": "code",
   "execution_count": 296,
   "metadata": {},
   "outputs": [],
   "source": [
    "def recreate_min_time(instance, solution, w1, w2, w3, w4, w5, gamma):\n",
    "    solution[1] = u.sort_absent_customers(instance, solution, w1, w2, w3, w4, w5)\n",
    "    while len(solution[1]) > 0:\n",
    "        c = solution[1][0]\n",
    "        pos_best = None\n",
    "        makespan_best = float('inf')\n",
    "        \n",
    "        feasible_truck_tour_positions = u.feasible_truck_tour_positions_calculation(instance, solution[0][0], c)\n",
    "\n",
    "        for pos in feasible_truck_tour_positions: \n",
    "            makespan_diff = u.truck_tour_time(instance.t_t, u.insert_customer(c, pos, copy.deepcopy(solution))[0][pos[0]][pos[1]]) - u.makespan(instance, copy.deepcopy(solution))\n",
    "            if pos_best == None or (pos_best != None and makespan_diff < makespan_best and random.random() > (1 - gamma)):\n",
    "                makespan_best = makespan_diff\n",
    "                pos_best = pos\n",
    "        \n",
    "        if u.is_drone_eligible(instance, solution[0][1], c):\n",
    "            chosen_drone = u.largest_spatial_slack_drone(instance, solution[0][1]) \n",
    "            makespan_diff = u.drone_tour_time(instance.t_d, u.insert_customer(c, [1, chosen_drone, 0], copy.deepcopy(solution))[0][1][chosen_drone]) - u.makespan(instance, copy.deepcopy(solution))\n",
    "            if pos_best == None or (pos_best != None and makespan_diff < makespan_best and random.random() > (1 - gamma)):\n",
    "                makespan_best = makespan_diff\n",
    "                pos_best = [1, chosen_drone, 0]\n",
    "\n",
    "        if pos_best == None:\n",
    "            empty_truck_tour_index = next((index for index, truck_tour in enumerate(solution[0][0]) if len(truck_tour) == 0), -1)\n",
    "            if empty_truck_tour_index == -1:\n",
    "                return solution\n",
    "            \n",
    "            pos_best = [0, empty_truck_tour_index, 0]\n",
    "        \n",
    "        solution = u.insert_customer(c, pos_best, solution)\n",
    "        solution[1].remove(c)\n",
    "\n",
    "    return solution"
   ]
  },
  {
   "cell_type": "code",
   "execution_count": 297,
   "metadata": {},
   "outputs": [],
   "source": [
    "def ruin_and_recreate_min_time(instance, solution, sigma, c_average_removed, L_max, w1, w2, w3, w4, w5, gamma):\n",
    "    r = random.random()\n",
    "    if (r < 0.5):\n",
    "        solution = sweep_removal_operator(instance, solution, sigma)\n",
    "    else:\n",
    "        solution = random_drone_customer_removal(solution, sigma)\n",
    "\n",
    "    solution = string_removal(instance, solution, c_average_removed, L_max)\n",
    "\n",
    "    solution = recreate_min_time(instance, solution, w1, w2, w3, w4, w5, gamma)\n",
    "\n",
    "    return solution\n"
   ]
  },
  {
   "cell_type": "code",
   "execution_count": 298,
   "metadata": {},
   "outputs": [],
   "source": [
    "def perturbate(instance, solution, p_min, p_max, max_unfeasible_swaps):\n",
    "    p = random.randint(p_min, p_max)\n",
    "    swaps_executed = 0\n",
    "    unfeasible_swaps = 0\n",
    "    while (swaps_executed < p and unfeasible_swaps < max_unfeasible_swaps):\n",
    "        c1 = random.randint(1, instance.N - 1)\n",
    "        c2 = random.randint(1, instance.N - 1)\n",
    "        pos1 = u.get_position(c1, solution[0])\n",
    "        pos2 = u.get_position(c2, solution[0])\n",
    "        if (u.is_swap_possible(instance, solution[0], c1, pos2) and u.is_swap_possible(instance, solution[0], c2, pos1)):\n",
    "            solution[0][pos1[0]][pos1[1]][pos1[2]] = c2\n",
    "            solution[0][pos2[0]][pos2[1]][pos2[2]] = c1\n",
    "            swaps_executed += 1\n",
    "            unfeasible_swaps = 0\n",
    "        else:\n",
    "            unfeasible_swaps += 1\n",
    "\n",
    "    return solution"
   ]
  },
  {
   "cell_type": "markdown",
   "metadata": {},
   "source": [
    "##### Second modification"
   ]
  },
  {
   "cell_type": "code",
   "execution_count": 314,
   "metadata": {},
   "outputs": [],
   "source": [
    "def local_search_min_time(instance, solution, n_nearest):\n",
    "\n",
    "    for i in range(len(solution[0][0])):\n",
    "\n",
    "        for customer in solution[0][0][i]:\n",
    "\n",
    "            neighbors = u.select_nearest_neighbors(n_nearest, instance.distances[customer])\n",
    "            for neighbor in neighbors:\n",
    "                neighbor_pos = u.get_position(neighbor, copy.deepcopy(solution[0]))\n",
    "\n",
    "                if (neighbor in u.get_truck_customers(solution[0][0])):\n",
    "                    neighbor_index = next((j for j, node in enumerate(solution[0][0][i]) if node == neighbor), None)\n",
    "                    \n",
    "                    if neighbor_index == None:\n",
    "                        t_1 = u.truck_tour_time(instance.t_t, copy.deepcopy(solution[0][0][i]))\n",
    "                        t_2 = u.truck_tour_time(instance.t_t, copy.deepcopy(solution[0][neighbor_pos[0]][neighbor_pos[1]]))\n",
    "                        t = max(t_1, t_2)\n",
    "\n",
    "                        new_solution = u._2_opt_x(instance, copy.deepcopy(solution), customer, neighbor, i)\n",
    "                        t_1_x = u.truck_tour_time(instance.t_t, copy.deepcopy(new_solution[0][0][i]))\n",
    "                        t_2_x = u.truck_tour_time(instance.t_t, copy.deepcopy(new_solution[0][neighbor_pos[0]][neighbor_pos[1]]))\n",
    "                        \n",
    "                        if ((t_1_x < t and t_2_x < t) or (t_1_x < t and t_2_x < t)):\n",
    "                            return local_search_min_time(instance, new_solution, n_nearest)\n",
    "\n",
    "                    else: \n",
    "                        new_solution = u.relocate(instance, copy.deepcopy(solution), customer, neighbor, i)\n",
    "                        if u.total_completion_time(instance, copy.deepcopy(new_solution)) < u.total_completion_time(instance, copy.deepcopy(solution)):\n",
    "                            return local_search_min_time(instance, new_solution, n_nearest)\n",
    "\n",
    "                        new_solution = u.swap(instance, copy.deepcopy(solution), customer, neighbor, i)\n",
    "                        if u.total_completion_time(instance, copy.deepcopy(new_solution)) < u.total_completion_time(instance, copy.deepcopy(solution)):\n",
    "                            return local_search_min_time(instance, new_solution, n_nearest)\n",
    "\n",
    "                        new_solution = u._2_opt(instance, copy.deepcopy(solution), customer, neighbor, i)\n",
    "                        if u.total_completion_time(instance, copy.deepcopy(new_solution)) < u.total_completion_time(instance, copy.deepcopy(solution)):\n",
    "                            return local_search_min_time(instance, new_solution, n_nearest)\n",
    "\n",
    "                else:\n",
    "                    t_1 = u.truck_tour_time(instance.t_t, copy.deepcopy(solution[0][0][i]))\n",
    "                    t_2 = u.drone_tour_time(instance.t_d, copy.deepcopy(solution[0][neighbor_pos[0]][neighbor_pos[1]]))\n",
    "                    t = max(t_1, t_2)\n",
    "\n",
    "                    new_solution = u.swap_x(instance, copy.deepcopy(solution), customer, neighbor, i)\n",
    "                    t_1_x = u.truck_tour_time(instance.t_t, copy.deepcopy(new_solution[0][0][i]))\n",
    "                    t_2_x = u.drone_tour_time(instance.t_d, copy.deepcopy(new_solution[0][neighbor_pos[0]][neighbor_pos[1]]))\n",
    "\n",
    "                    if ((t_1_x < t and t_2_x < t) or (t_1_x < t and t_2_x < t)):\n",
    "                        return local_search_min_time(instance, new_solution, n_nearest)\n",
    "\n",
    "\n",
    "            t_old_truck_tour = u.truck_tour_time(instance.t_t, copy.deepcopy(solution[0][0][i]))\n",
    "\n",
    "            new_solution = u.shift_t(instance, copy.deepcopy(solution), customer, i)\n",
    "            new_customer_pos = u.get_position(customer, copy.deepcopy(new_solution[0])) #new_customer_pos contiene la pos del customer che è stato spostato dal truck tour al drone tour\n",
    "            t_new_drone_tour = u.drone_tour_time(instance.t_d, copy.deepcopy(new_solution[0][new_customer_pos[0]][new_customer_pos[1]]))\n",
    "            \n",
    "            if (t_new_drone_tour < t_old_truck_tour):\n",
    "                return local_search_min_time(instance, new_solution, n_nearest)\n",
    "\n",
    "    for i in range(len(solution[0][1])):\n",
    "\n",
    "        for customer in solution[0][1][i]:\n",
    "            \n",
    "            t_old_drone_tour = u.drone_tour_time(instance.t_d, copy.deepcopy(solution[0][1][i]))\n",
    "            \n",
    "            print(\"solution: \", solution)\n",
    "            print(\"customer: \", customer)\n",
    "            new_solution = u.shift_d(instance, copy.deepcopy(solution), customer, i)\n",
    "            new_customer_pos = u.get_position(customer, copy.deepcopy(new_solution[0])) #new_customer_pos contiene la pos del customer che è stato spostato dal drone tour al truck tour\n",
    "            t_new_truck_tour = u.truck_tour_time(instance.t_t, copy.deepcopy(new_solution[0][new_customer_pos[0]][new_customer_pos[1]]))\n",
    "            \n",
    "            \n",
    "            if (t_new_truck_tour < t_old_drone_tour):\n",
    "                return local_search_min_time(instance, new_solution, n_nearest)\n",
    "\n",
    "    return solution\n"
   ]
  },
  {
   "cell_type": "code",
   "execution_count": 300,
   "metadata": {},
   "outputs": [],
   "source": [
    "def initial_solution_construction(instance, w1, w2, w3, w4, w5, gamma, n_nearest):\n",
    "    A = [c for c in range (1, instance.N)]\n",
    "    solution = recreate_min_time(instance, [[[[] for _ in range(instance.h)], [[] for _ in range(instance.D)]],A], w1, w2, w3, w4, w5, gamma)\n",
    "    print(\"first solution \", solution)\n",
    "    solution = local_search_min_time(instance, solution, n_nearest)\n",
    "    return solution"
   ]
  },
  {
   "cell_type": "markdown",
   "metadata": {},
   "source": [
    "##### Third modification"
   ]
  },
  {
   "cell_type": "code",
   "execution_count": 301,
   "metadata": {},
   "outputs": [],
   "source": [
    "def SISSRs_min_time(instance, sigma, c_average_removed, L_max, w1, w2, w3, w4, w5, gamma, n_nearest, delta, epsilon, iter_imp, iter_max, p_min, p_max, max_unfeasible_swaps_perturb):\n",
    "    s_0 = initial_solution_construction(instance, w1, w2, w3, w4, w5, gamma, n_nearest)\n",
    "    s_curr = s_0\n",
    "    s_best = s_0\n",
    "    iterations_without_improvement = 0\n",
    "    iteration_counter = 0\n",
    "    while (iteration_counter < iter_max):\n",
    "        s = ruin_and_recreate_min_time(instance, copy.deepcopy(s_curr), sigma, c_average_removed, L_max, w1, w2, w3, w4, w5, gamma)\n",
    "        if u.makespan(instance, s) < u.makespan(instance, s_curr)*(1+delta) or ((u.makespan(instance, s) == u.makespan(instance, s_curr) and u.total_completion_time(instance,s) < u.total_completion_time(instance, s_curr))):\n",
    "            s_curr = local_search_min_time(instance, s)\n",
    "            if u.makespan(instance, s_curr) < u.makespan(instance, s_best) or ((u.makespan(instance, s) == u.makespan(instance, s_best) and u.total_completion_time(instance,s) < u.total_completion_time(instance, s_best))):\n",
    "                s_best = s_curr\n",
    "                iterations_without_improvement = 0\n",
    "            else:\n",
    "                iterations_without_improvement += 1\n",
    "        if iterations_without_improvement >= iter_imp:\n",
    "            s_curr = perturbate(instance, s_curr, p_min, p_max, max_unfeasible_swaps_perturb)\n",
    "            iterations_without_improvement = 0\n",
    "        delta = delta * epsilon\n",
    "        iteration_counter+=1\n",
    "        print(\"Iteration: \", iteration_counter)\n",
    "        print(\"Tempo miglior soluzione: \", u.makespan(instance, s_best))\n",
    "\n",
    "    return s_best"
   ]
  },
  {
   "cell_type": "code",
   "execution_count": 315,
   "metadata": {},
   "outputs": [
    {
     "name": "stdout",
     "output_type": "stream",
     "text": [
      "first solution  [[[[2, 1], [], [], [], [], [], [], [], [], []], [[], [], [], []]], []]\n",
      "solution:  [[[[], [], [], [], [], [], [], [], [], []], [[2], [1], [], []]], []]\n",
      "customer:  2\n",
      "solution:  [[[[], [], [], [], [], [], [], [], [], []], [[2], [1], [], []]], []]\n",
      "customer:  1\n"
     ]
    },
    {
     "ename": "AttributeError",
     "evalue": "module 'utilities' has no attribute 'sweep_removal_operator'",
     "output_type": "error",
     "traceback": [
      "\u001b[1;31m---------------------------------------------------------------------------\u001b[0m",
      "\u001b[1;31mAttributeError\u001b[0m                            Traceback (most recent call last)",
      "Cell \u001b[1;32mIn[315], line 1\u001b[0m\n\u001b[1;32m----> 1\u001b[0m \u001b[43mSISSRs_min_time\u001b[49m\u001b[43m(\u001b[49m\u001b[43mPDSVRP_instance\u001b[49m\u001b[38;5;241;43m.\u001b[39;49m\u001b[43mPDSVRPInstance\u001b[49m\u001b[43m(\u001b[49m\u001b[38;5;124;43m\"\u001b[39;49m\u001b[38;5;124;43minstances/30-c-0-c copy.txt\u001b[39;49m\u001b[38;5;124;43m\"\u001b[39;49m\u001b[43m)\u001b[49m\u001b[43m,\u001b[49m\u001b[43m \u001b[49m\u001b[38;5;241;43m0.3\u001b[39;49m\u001b[43m,\u001b[49m\u001b[43m \u001b[49m\u001b[38;5;241;43m4.5\u001b[39;49m\u001b[43m,\u001b[49m\u001b[43m \u001b[49m\u001b[38;5;241;43m4.5\u001b[39;49m\u001b[43m,\u001b[49m\u001b[43m \u001b[49m\u001b[38;5;241;43m5\u001b[39;49m\u001b[43m,\u001b[49m\u001b[38;5;241;43m1\u001b[39;49m\u001b[43m,\u001b[49m\u001b[38;5;241;43m1\u001b[39;49m\u001b[43m,\u001b[49m\u001b[38;5;241;43m2\u001b[39;49m\u001b[43m,\u001b[49m\u001b[38;5;241;43m2\u001b[39;49m\u001b[43m,\u001b[49m\u001b[43m \u001b[49m\u001b[38;5;241;43m0.1\u001b[39;49m\u001b[43m,\u001b[49m\u001b[43m \u001b[49m\u001b[38;5;241;43m20\u001b[39;49m\u001b[43m,\u001b[49m\u001b[43m \u001b[49m\u001b[38;5;241;43m0.1\u001b[39;49m\u001b[43m,\u001b[49m\u001b[43m \u001b[49m\u001b[38;5;241;43m0.999975\u001b[39;49m\u001b[43m,\u001b[49m\u001b[43m \u001b[49m\u001b[38;5;241;43m100\u001b[39;49m\u001b[43m,\u001b[49m\u001b[43m \u001b[49m\u001b[38;5;241;43m1000\u001b[39;49m\u001b[43m,\u001b[49m\u001b[43m \u001b[49m\u001b[38;5;241;43m3\u001b[39;49m\u001b[43m,\u001b[49m\u001b[43m \u001b[49m\u001b[38;5;241;43m3\u001b[39;49m\u001b[43m,\u001b[49m\u001b[43m \u001b[49m\u001b[38;5;241;43m9\u001b[39;49m\u001b[43m)\u001b[49m\n",
      "Cell \u001b[1;32mIn[301], line 8\u001b[0m, in \u001b[0;36mSISSRs_min_time\u001b[1;34m(instance, sigma, c_average_removed, L_max, w1, w2, w3, w4, w5, gamma, n_nearest, delta, epsilon, iter_imp, iter_max, p_min, p_max, max_unfeasible_swaps_perturb)\u001b[0m\n\u001b[0;32m      6\u001b[0m iteration_counter \u001b[38;5;241m=\u001b[39m \u001b[38;5;241m0\u001b[39m\n\u001b[0;32m      7\u001b[0m \u001b[38;5;28;01mwhile\u001b[39;00m (iteration_counter \u001b[38;5;241m<\u001b[39m iter_max):\n\u001b[1;32m----> 8\u001b[0m     s \u001b[38;5;241m=\u001b[39m \u001b[43mruin_and_recreate_min_time\u001b[49m\u001b[43m(\u001b[49m\u001b[43minstance\u001b[49m\u001b[43m,\u001b[49m\u001b[43m \u001b[49m\u001b[43mcopy\u001b[49m\u001b[38;5;241;43m.\u001b[39;49m\u001b[43mdeepcopy\u001b[49m\u001b[43m(\u001b[49m\u001b[43ms_curr\u001b[49m\u001b[43m)\u001b[49m\u001b[43m,\u001b[49m\u001b[43m \u001b[49m\u001b[43msigma\u001b[49m\u001b[43m,\u001b[49m\u001b[43m \u001b[49m\u001b[43mc_average_removed\u001b[49m\u001b[43m,\u001b[49m\u001b[43m \u001b[49m\u001b[43mL_max\u001b[49m\u001b[43m,\u001b[49m\u001b[43m \u001b[49m\u001b[43mw1\u001b[49m\u001b[43m,\u001b[49m\u001b[43m \u001b[49m\u001b[43mw2\u001b[49m\u001b[43m,\u001b[49m\u001b[43m \u001b[49m\u001b[43mw3\u001b[49m\u001b[43m,\u001b[49m\u001b[43m \u001b[49m\u001b[43mw4\u001b[49m\u001b[43m,\u001b[49m\u001b[43m \u001b[49m\u001b[43mw5\u001b[49m\u001b[43m,\u001b[49m\u001b[43m \u001b[49m\u001b[43mgamma\u001b[49m\u001b[43m)\u001b[49m\n\u001b[0;32m      9\u001b[0m     \u001b[38;5;28;01mif\u001b[39;00m u\u001b[38;5;241m.\u001b[39mmakespan(instance, s) \u001b[38;5;241m<\u001b[39m u\u001b[38;5;241m.\u001b[39mmakespan(instance, s_curr)\u001b[38;5;241m*\u001b[39m(\u001b[38;5;241m1\u001b[39m\u001b[38;5;241m+\u001b[39mdelta) \u001b[38;5;129;01mor\u001b[39;00m ((u\u001b[38;5;241m.\u001b[39mmakespan(instance, s) \u001b[38;5;241m==\u001b[39m u\u001b[38;5;241m.\u001b[39mmakespan(instance, s_curr) \u001b[38;5;129;01mand\u001b[39;00m u\u001b[38;5;241m.\u001b[39mtotal_completion_time(instance,s) \u001b[38;5;241m<\u001b[39m u\u001b[38;5;241m.\u001b[39mtotal_completion_time(instance, s_curr))):\n\u001b[0;32m     10\u001b[0m         s_curr \u001b[38;5;241m=\u001b[39m local_search_min_time(instance, s)\n",
      "Cell \u001b[1;32mIn[297], line 4\u001b[0m, in \u001b[0;36mruin_and_recreate_min_time\u001b[1;34m(instance, solution, sigma, c_average_removed, L_max, w1, w2, w3, w4, w5, gamma)\u001b[0m\n\u001b[0;32m      2\u001b[0m r \u001b[38;5;241m=\u001b[39m random\u001b[38;5;241m.\u001b[39mrandom()\n\u001b[0;32m      3\u001b[0m \u001b[38;5;28;01mif\u001b[39;00m (r \u001b[38;5;241m<\u001b[39m \u001b[38;5;241m0.5\u001b[39m):\n\u001b[1;32m----> 4\u001b[0m     solution \u001b[38;5;241m=\u001b[39m \u001b[43mu\u001b[49m\u001b[38;5;241;43m.\u001b[39;49m\u001b[43msweep_removal_operator\u001b[49m(instance, solution, sigma)\n\u001b[0;32m      5\u001b[0m \u001b[38;5;28;01melse\u001b[39;00m:\n\u001b[0;32m      6\u001b[0m     solution \u001b[38;5;241m=\u001b[39m u\u001b[38;5;241m.\u001b[39mrandom_drone_customer_removal(solution, sigma)\n",
      "\u001b[1;31mAttributeError\u001b[0m: module 'utilities' has no attribute 'sweep_removal_operator'"
     ]
    }
   ],
   "source": [
    "SISSRs_min_time(PDSVRP_instance.PDSVRPInstance(\"instances/30-c-0-c copy.txt\"), 0.3, 4.5, 4.5, 5,1,1,2,2, 0.1, 20, 0.1, 0.999975, 100, 1000, 3, 3, 9)"
   ]
  }
 ],
 "metadata": {
  "kernelspec": {
   "display_name": "Python 3",
   "language": "python",
   "name": "python3"
  },
  "language_info": {
   "codemirror_mode": {
    "name": "ipython",
    "version": 3
   },
   "file_extension": ".py",
   "mimetype": "text/x-python",
   "name": "python",
   "nbconvert_exporter": "python",
   "pygments_lexer": "ipython3",
   "version": "3.11.9"
  }
 },
 "nbformat": 4,
 "nbformat_minor": 2
}
